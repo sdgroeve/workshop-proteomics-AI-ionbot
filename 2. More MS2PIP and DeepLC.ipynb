{
 "cells": [
  {
   "cell_type": "markdown",
   "metadata": {},
   "source": [
    "Only on Google Colab, first run this code cell:"
   ]
  },
  {
   "cell_type": "code",
   "execution_count": null,
   "metadata": {},
   "outputs": [],
   "source": [
    "! git clone https://github.com/compomics/workshop-ml-proteomics --branch EPIC-XS-workshop --depth 1\n",
    "! mv workshop-ml-proteomics/* .\n",
    "! rm -r workshop-ml-proteomics\n",
    "! pip install -q deeplc pyteomics spectrum_utils ms2pip"
   ]
  },
  {
   "cell_type": "markdown",
   "metadata": {},
   "source": [
    "Run this cell to import the required modules:"
   ]
  },
  {
   "cell_type": "code",
   "execution_count": 3,
   "metadata": {},
   "outputs": [],
   "source": [
    "import numpy as np\n",
    "import matplotlib.pyplot as plt\n",
    "import spectrum_utils.plot as sup\n",
    "\n",
    "from scripts.ms2pip_utils import get_usi_spectrum, get_predicted_spectrum, get_intensity_array"
   ]
  },
  {
   "cell_type": "markdown",
   "metadata": {},
   "source": [
    "\n",
    "\n",
    "### 3.1.1 Influence of precursor charge on peptide fragmentation\n",
    "\n",
    "Let's start with a straightforward one: Depending on the precursor charge state,\n",
    "the resulting fragmentation pattern will be different. This means that MS²PIP\n",
    "always needs to know the precursor charge in order to predict a spectrum."
   ]
  },
  {
   "cell_type": "code",
   "execution_count": null,
   "metadata": {},
   "outputs": [],
   "source": [
    "top_spectrum = get_predicted_spectrum(\"LENNARTMARTENS\", modifications=\"-\", charge=2)\n",
    "bottom_spectrum = get_predicted_spectrum(\"LENNARTMARTENS\", modifications=\"-\", charge=3)\n",
    "\n",
    "plt.figure(figsize=(12,4))\n",
    "plt.title(\"LENNARTMARTENS charge 2 vs. 3\")\n",
    "sup.mirror(top_spectrum, bottom_spectrum)\n",
    "plt.show()"
   ]
  },
  {
   "cell_type": "markdown",
   "metadata": {},
   "source": [
    "### 3.1.2 Considering peptide modification mass shifts\n",
    "\n",
    "One of the options for MS²PIP is `modifications`. As all post-translational and artefactual peptide modifications introduce a mass shift to all fragment ions that carry the modification, MS²PIP needs to know the presense of any modifications on the peptide. This includes both \"variable\" and \"fixed\" modifications, regardless of how they were set in the search engine. \n",
    "\n",
    "To consider peptide modifications, MS²PIP first needs a record of modification names, the amino acids they occur on, and the corresponding mass shift that is introduced:"
   ]
  },
  {
   "cell_type": "code",
   "execution_count": null,
   "metadata": {},
   "outputs": [],
   "source": [
    "from ms2pip.single_prediction import SinglePrediction\n",
    "\n",
    "ms2pip = SinglePrediction(\n",
    "    modification_strings=[\n",
    "        \"Oxidation,15.994915,opt,M\",\n",
    "        \"Carbamidomethyl,57.021464,opt,C\",\n",
    "        \"PhosphoS,79.966331,opt,S\",\n",
    "        \"PhosphoT,79.966331,opt,T\",\n",
    "        \"PhosphoY,79.966331,opt,Y\",\n",
    "        \"iTRAQK,144.102063,opt,K\",\n",
    "        \"iTRAQN,144.102063,opt,N-term\",\n",
    "    ]\n",
    ")"
   ]
  },
  {
   "cell_type": "markdown",
   "metadata": {},
   "source": [
    "For modifications that occur on multiple amino acids - such as phosphorylation and iTRAQ - MS²PIP requires an individual entry for each site and each name should be unique.\n",
    "\n",
    "_Question 1.6: Note that the last modification entry `N-term` is listed instead of an amino acid. Why is that? What is the difference between a modification on the first amino acid versus a modification on the N-terminus?_\n",
    "\n",
    "Next, MS²PIP needs to know for each peptide the location of all modifications. For this, we start counting amino acid residues from 1. The numbers `0` and `-1` are reserved for the N-terminus and the C-terminus, respectively. For example:\n",
    "\n",
    "- `A C[Carbamidomethyl] D M K` = 2 Carbamidomethyl\n",
    "- `A C[Carbamidomethyl] D M[Oxidation] K` = 2 Carbamidomethyl, 4 Oxidation\n",
    "- `[Acetyl] A C[Carbamidomethyl] D M[Oxidation] K` = 0 Acetyl 2 Carbamidomethyl, 4 Oxidation\n",
    "\n",
    "All modification names and locations are then merged with a \"pipe\" sign (`|`):\n",
    "\n",
    "- `A C[Carbamidomethyl] D M K` = `2|Carbamidomethyl`\n",
    "- `A C[Carbamidomethyl] D M[Oxidation] K` = `2|Carbamidomethyl|4|Oxidation`\n",
    "- `[Acetyl] A C[Carbamidomethyl] D M[Oxidation] K` = `0|Acetyl|2|Carbamidomethyl|4|Oxidation`\n",
    "\n",
    "A peptide without modifications should have the listing `-`.\n",
    "\n",
    "\n",
    "Then we can run, for instance:"
   ]
  },
  {
   "cell_type": "code",
   "execution_count": null,
   "metadata": {},
   "outputs": [],
   "source": [
    "top_spectrum = get_predicted_spectrum(\"LENNARTMARTENS\", modifications=\"-\", charge=2, ms2pip_instance=ms2pip)\n",
    "bottom_spectrum = get_predicted_spectrum(\"LENNARTMARTENS\", modifications=\"8|Oxidation\", charge=2, ms2pip_instance=ms2pip)\n",
    "\n",
    "plt.figure(figsize=(12,4))\n",
    "plt.title(\"LENNARTMARTENS\" + \" unmodified vs. modified\")\n",
    "sup.mirror(top_spectrum, bottom_spectrum)\n",
    "plt.show()"
   ]
  },
  {
   "cell_type": "markdown",
   "metadata": {},
   "source": [
    "_Question: Which ions carry the modification? How much are they shifted?_\n",
    "\n",
    "\n",
    "### 3.1.3 Considering factors that influence the fragmentation pattern\n",
    "\n",
    "Before, you saw how the precursor charge changes the resulting fragmentation pattern, and how MS²PIP takes this into account. There are more factors that influence peptide fragmentation patterns, and MS²PIP provides specialized models for the most prevalent ones:\n",
    "\n",
    "- Other fragmentation methods: trap-type CID (ion trap)\n",
    "- Other instruments: Quadrupole Time-of-Flight (Sciex TripleTOF)\n",
    "- Quantification labels: TMT or iTRAQ\n",
    "- Special peptide properties: Alternative digest or immunopeptides\n",
    "\n",
    "Let's start with quantification labels as an example. TMT and iTRAQ provide an ingenious method to label peptides from different samples (e.g. treatment and control), pool the samples together, identify all samples in a single run, and finally quantify peptides from each sample separately through peptide fragmentation. This can be achieved with the use of cleavable reporter ions. Each sample is labeled with a specific tag molecule with a distinct reporter ion mass. Thanks to a balance group on the whole label, the mass of the intact label is identical across samples. The result is that the peptides from each sample will group together in both MS1 and MS2 spectra, but after fragmentation, the reporter ions can be observed at distinct masses in the MS2 spectrum.\n",
    "\n",
    "\n",
    "![tmt figure](https://miro.medium.com/max/1111/1*Y4yQI2eKoeR6aVDF6wJCkA.jpeg)"
   ]
  },
  {
   "cell_type": "markdown",
   "metadata": {},
   "source": [
    "To predict peptides with iTRAQ labels, we need to specify two things:\n",
    "- We want to use the specialized iTRAQ model, to accomodate for the altered fragmentation intensities\n",
    "- We need to specify the modifications, to accomodate for the mass shifts"
   ]
  },
  {
   "cell_type": "code",
   "execution_count": null,
   "metadata": {},
   "outputs": [],
   "source": [
    "# Setup MS²PIP instance with modification info\n",
    "ms2pip = SinglePrediction(\n",
    "    modification_strings=[\n",
    "        \"Oxidation,15.994915,opt,M\",\n",
    "        \"iTRAQK,144.102063,opt,K\",\n",
    "        \"iTRAQN,144.102063,opt,N-term\",\n",
    "    ]\n",
    ")\n",
    "\n",
    "# Predict the peptide spectrum\n",
    "top_spectrum = get_predicted_spectrum(\"EENGVLVLNDANFDNFVADK\", modifications=\"-\", charge=2, model=\"HCD2021\", ms2pip_instance=ms2pip)  # No TMT label\n",
    "bottom_spectrum = get_predicted_spectrum(\"EENGVLVLNDANFDNFVADK\", modifications=\"-1|iTRAQN\", charge=2, model=\"iTRAQ\", ms2pip_instance=ms2pip)  # With TMT label\n",
    "\n",
    "# Plot\n",
    "plt.figure(figsize=(12,4))\n",
    "sup.mirror(top_spectrum, bottom_spectrum)\n",
    "plt.show()"
   ]
  },
  {
   "cell_type": "markdown",
   "metadata": {},
   "source": [
    "On top, you can see the predicted spectrum for the unmodified version, mirrored on the bottom the iTRAQ-labeled peptide.\n",
    "\n",
    "_Question: Note that TMT drastically changes the fragmentation pattern. Which general trends can you see?_\n",
    "\n",
    "\n",
    "### 3.1.4 Comparing predictions with observations\n",
    "\n",
    "To use spectrum predictions to improve peptide identification, we need to be able to compare predictions to observations. Simply put, for each set of observed spectrum and predicted spectrum, we need a number that reflect how similar both spectra are. This is not straightforward, as many factors influence the performance of such a _metric_. For MS²PIP, we usually calculate the Pearson correlation of total ion current normalized, log2-transformed spectra for all b- and y-ions. Normalizing to the total ion current simply means dividing all peak intensities by the sum of all intensity in the spectrum. The sum of all peak intensities in the spectrum is then 1. Logarithmic tranformation helps to de-emphasize the effect of the few high intensity peaks on the correlation metric and increases the influence of the many low intensity peaks. In our experience, this results in a more accurate Pearson correlation. As MS²PIP only predicts b- and y-ions, we only compare observed b- and y-ions with the predictions. If peaks are absent in the observed spectrum, we assume they are zero.\n",
    "\n",
    "Let's compare predictions of the normal model and the iTRAQ model with an observed iTRAQ spectrum. Again, using the USI, we can download an observed iTRAQ-labeled spectrum:"
   ]
  },
  {
   "cell_type": "code",
   "execution_count": null,
   "metadata": {},
   "outputs": [],
   "source": [
    "usi = \"mzspec:PXD000966:CPTAC_CompRef_00_iTRAQ_05_2Feb12_Cougar_11-10-09.mzML:scan:12298:[iTRAQ4plex]-LHFFM[Oxidation]PGFAPLTSR/3\"\n",
    "observed_spectrum = get_usi_spectrum(usi, modifications={0:144.102063, 4:15.994915})\n",
    "observed_spectrum.annotate_peptide_fragments(0.02, \"Da\", \"by\")\n",
    "\n",
    "plt.figure(figsize=(12,4))\n",
    "plt.title(usi)\n",
    "sup.spectrum(observed_spectrum)\n",
    "plt.show()"
   ]
  },
  {
   "cell_type": "markdown",
   "metadata": {},
   "source": [
    "As an aside, if we zoom in on the 110-120 m/z range of the spectrum, we see four peaks at equidistant masses:"
   ]
  },
  {
   "cell_type": "code",
   "execution_count": null,
   "metadata": {},
   "outputs": [],
   "source": [
    "observed_spectrum.set_mz_range(min_mz=110, max_mz=120)\n",
    "\n",
    "plt.figure(figsize=(12,4))\n",
    "plt.title(usi)\n",
    "sup.spectrum(observed_spectrum)\n",
    "plt.xlim(110,120)\n",
    "plt.show()"
   ]
  },
  {
   "cell_type": "markdown",
   "metadata": {},
   "source": [
    "_Question: What are these four peaks?_"
   ]
  },
  {
   "cell_type": "markdown",
   "metadata": {},
   "source": [
    "Ok, let's predict the spectra and compare them to the observed one. Each time, the observed iTRAQ spectrum will be on top, with the prediction WITH or WITHOUTH iTRAQ label mirrored on the bottom:"
   ]
  },
  {
   "cell_type": "code",
   "execution_count": null,
   "metadata": {},
   "outputs": [],
   "source": [
    "# Observed spectrum\n",
    "usi = \"mzspec:PXD000966:CPTAC_CompRef_00_iTRAQ_05_2Feb12_Cougar_11-10-09.mzML:scan:12298:[iTRAQ4plex]-LHFFM[Oxidation]PGFAPLTSR/3\"\n",
    "observed_spectrum = get_usi_spectrum(usi, modifications={0:144.102063, 4:15.994915})\n",
    "observed_spectrum.annotate_peptide_fragments(0.02, \"Da\", \"by\", max_ion_charge=1)\n",
    "\n",
    "# Predict the peptide spectrum\n",
    "itraq_spectrum = get_predicted_spectrum(\"LHFFMPGFAPLTSR\", modifications=\"0|iTRAQN|5|Oxidation\", charge=3, model=\"iTRAQ\", ms2pip_instance=ms2pip)  # With iTRAQ label\n",
    "itraq_spectrum.set_mz_range(max_mz=950)\n",
    "\n",
    "# Plot\n",
    "plt.figure(figsize=(12,4))\n",
    "sup.mirror(observed_spectrum, itraq_spectrum)\n",
    "plt.show()"
   ]
  },
  {
   "cell_type": "code",
   "execution_count": null,
   "metadata": {},
   "outputs": [],
   "source": [
    "hcd_spectrum = get_predicted_spectrum(\"LHFFMPGFAPLTSR\", modifications=\"5|Oxidation\", charge=3, model=\"HCD2021\", ms2pip_instance=ms2pip)  # No iTRAQ label\n",
    "hcd_spectrum.set_mz_range(max_mz=950)\n",
    "\n",
    "# Plot\n",
    "plt.figure(figsize=(12,4))\n",
    "sup.mirror(observed_spectrum, hcd_spectrum)\n",
    "plt.show()"
   ]
  },
  {
   "cell_type": "markdown",
   "metadata": {},
   "source": [
    "While there are so unannotated (black) peaks in the observed spectrum that compress the annotated peaks, the iTRAQ predictions match a lot better. Let's calculate the Pearson correlation for both comparisons:"
   ]
  },
  {
   "cell_type": "code",
   "execution_count": null,
   "metadata": {},
   "outputs": [],
   "source": [
    "def get_processed_intensities(spectrum):\n",
    "    annotated_intensities = get_intensity_array(spectrum).flatten()\n",
    "    annotated_intensities = annotated_intensities / sum(annotated_intensities)\n",
    "    annotated_intensities = np.log2(annotated_intensities + 0.001)\n",
    "    return annotated_intensities"
   ]
  },
  {
   "cell_type": "code",
   "execution_count": null,
   "metadata": {},
   "outputs": [],
   "source": [
    "intensities_predicted_hcd = get_processed_intensities(hcd_spectrum)\n",
    "intensities_predicted_itraq = get_processed_intensities(itraq_spectrum)\n",
    "\n",
    "observed_spectrum.annotate_peptide_fragments(0.02, \"Da\", \"by\", max_ion_charge=1)\n",
    "intensities_observed = get_processed_intensities(observed_spectrum).flatten()"
   ]
  },
  {
   "cell_type": "markdown",
   "metadata": {},
   "source": [
    "Prediction without iTRAQ:"
   ]
  },
  {
   "cell_type": "code",
   "execution_count": null,
   "metadata": {},
   "outputs": [],
   "source": [
    "np.corrcoef(intensities_predicted_hcd, intensities_observed)[0][1]"
   ]
  },
  {
   "cell_type": "markdown",
   "metadata": {},
   "source": [
    "Prediction with iTRAQ:"
   ]
  },
  {
   "cell_type": "code",
   "execution_count": null,
   "metadata": {},
   "outputs": [],
   "source": [
    "np.corrcoef(intensities_predicted_itraq, intensities_observed)[0][1]"
   ]
  },
  {
   "cell_type": "markdown",
   "metadata": {},
   "source": [
    "_Question: If everything went well, you can see that the Pearson correlation for the prediction with the specialized iTRAQ model is higher. This indicates that having a specialized model helps to get more accurate spectrum predictions. However, we can also turn this reasoning around: Given these two Pearson correlations, what does this tell us about the two \"peptide identifications\" (peptide with vs. without iTRAQ label)?_\n",
    "\n",
    "### Extra: Using MS²PIP web server\n",
    "Here we used MS²PIP locally with the Python API. However, you can also run MS²PIP for a large batch of peptides online, without any installation needs. Go to [iomics.ugent.be/ms2pip](https://iomics.ugent.be/ms2pip) and try it out! The documentation on the website should help you out."
   ]
  },
  {
   "cell_type": "markdown",
   "metadata": {},
   "source": [
    "## 3.2 More DeepLC\n",
    "\n",
    "### 3.2.1 Effect of modifications on retention time\n",
    "\n",
    "The following block contains a lot of code, but don't panic: It just combines\n",
    "all steps from the first part of the DeepLC workshop. It goes through the\n",
    "following steps: import libraries, read/transform the data, calibrate our model,\n",
    "and finally make predictions.\n",
    "\n",
    "If you do not understand this code, just ignore it and continue 😉"
   ]
  },
  {
   "cell_type": "code",
   "execution_count": null,
   "metadata": {},
   "outputs": [],
   "source": [
    "import pandas as pd\n",
    "import seaborn as sns\n",
    "from deeplc import DeepLC\n",
    "from matplotlib import pyplot as plt\n",
    "\n",
    "# Suppress tensorflow logging\n",
    "import os\n",
    "import warnings\n",
    "os.environ['TF_CPP_MIN_LOG_LEVEL'] = '3' \n",
    "warnings.filterwarnings('ignore', category=DeprecationWarning)\n",
    "warnings.filterwarnings('ignore', category=FutureWarning)\n",
    "import tensorflow as tf\n",
    "tf.get_logger().setLevel('ERROR')\n",
    "\n",
    "df = pd.read_csv(\"https://dl.dropboxusercontent.com/s/bok4w3jw2gxohbz/deeplc_input.csv\",index_col=0)\n",
    "df.fillna(\"\",inplace=True)\n",
    "\n",
    "num_total_rows_select = 5000\n",
    "num_calib = 250\n",
    "\n",
    "sub_df_pred = df[df[\"scan\"].isin(list(set(df[\"scan\"].sample(num_total_rows_select))))].copy()\n",
    "sub_df_calib = sub_df_pred[sub_df_pred[\"scan\"].isin(list(set(sub_df_pred[sub_df_pred[\"q_value\"] < 0.01][\"scan\"].sample(num_calib))))].copy()\n",
    "\n",
    "sub_df_pred.rename({\n",
    "    \"database_peptide\" : \"seq\",\n",
    "    \"rt\" : \"tr\"\n",
    "},axis=1,inplace=True)\n",
    "\n",
    "sub_df_calib.rename({\n",
    "    \"database_peptide\" : \"seq\",\n",
    "    \"rt\" : \"tr\"\n",
    "},axis=1,inplace=True)\n",
    "\n",
    "dlc = DeepLC(\n",
    "    cnn_model=True,\n",
    "    pygam_calibration=False,\n",
    "    verbose=False\n",
    ")\n",
    "\n",
    "dlc.calibrate_preds(seq_df=sub_df_calib[sub_df_calib[\"best_psm\"]==1])\n",
    "\n",
    "preds = dlc.make_preds(seq_df=sub_df_pred)\n",
    "sub_df_pred[\"preds\"] = preds"
   ]
  },
  {
   "cell_type": "markdown",
   "metadata": {},
   "source": [
    "In the next cells we predict retention times for modified peptides:"
   ]
  },
  {
   "cell_type": "code",
   "execution_count": null,
   "metadata": {},
   "outputs": [],
   "source": [
    "def plot_modification(sub_df_best,modification=\"carbamidomethyl\"):\n",
    "    # Init plot\n",
    "    plt.figure(figsize=(7,7))\n",
    "    ax = plt.gca()\n",
    "    ax.set_aspect('equal')\n",
    "\n",
    "    # Plot data\n",
    "    plt.scatter(sub_df_best[sub_df_best[\"modifications\"].str.contains(modification)][\"tr\"],sub_df_best[sub_df_best[\"modifications\"].str.contains(modification)][\"preds\"],alpha=0.5,s=4)\n",
    "    plt.plot([1500,14500],[1500,14500],c=\"black\",linestyle=\"dotted\")\n",
    "    \n",
    "    plt.title(modification)\n",
    "    plt.xlabel(\"Observed retention time (s)\")\n",
    "    plt.ylabel(\"Predicted retention time (s)\")\n",
    "    \n",
    "    plt.show()"
   ]
  },
  {
   "cell_type": "code",
   "execution_count": null,
   "metadata": {
    "scrolled": true
   },
   "outputs": [],
   "source": [
    "sub_df_best = sub_df_pred[sub_df_pred[\"best_psm\"]==1]\n",
    "sub_df_best = sub_df_best[sub_df_best[\"q_value\"]<0.001]\n",
    "\n",
    "plot_modification(sub_df_best,modification=\"carbamidomethyl\")\n",
    "plot_modification(sub_df_best,modification=\"Formyl\")\n",
    "plot_modification(sub_df_best,modification=\"Dehydrated\")\n",
    "plot_modification(sub_df_best,modification=\"Ammonium\")\n",
    "plot_modification(sub_df_best,modification=\"Sulfide\")"
   ]
  },
  {
   "cell_type": "markdown",
   "metadata": {},
   "source": [
    "#### 3.2.2 Playground: Design your own peptides and modifications and predict their retention time\n",
    "\n",
    "_For the real enthusiasts!_"
   ]
  },
  {
   "cell_type": "markdown",
   "metadata": {},
   "source": [
    "#### 3.2.2.1 Make predictions for your own peptide and modifications combo's"
   ]
  },
  {
   "cell_type": "markdown",
   "metadata": {},
   "source": [
    "Provide the data for peptides you want to predict:"
   ]
  },
  {
   "cell_type": "code",
   "execution_count": null,
   "metadata": {},
   "outputs": [],
   "source": [
    "#IIVINTPNNPIGK\n",
    "dict_effect_aa = {\n",
    "    \"seq\" : [\"IIVINKPNNPIGK\", # K on pos 6\n",
    "             \"IIVINTPNNPIGK\", # T on pos 6\n",
    "             \"IIVINAPNNPIGK\", # A on pos 6\n",
    "             \"IIVINWPNNPIGK\"  # W on pos 6\n",
    "            ],\n",
    "    \"modifications\" : [\"\",\"\",\"\",\"\"],\n",
    "    \"tr\" : [0,1,2,3]\n",
    "}\n",
    "\n",
    "df_effect_aa = pd.DataFrame(dict_effect_aa)"
   ]
  },
  {
   "cell_type": "code",
   "execution_count": null,
   "metadata": {
    "scrolled": false
   },
   "outputs": [],
   "source": [
    "preds = dlc.make_preds(seq_df=df_effect_aa)"
   ]
  },
  {
   "cell_type": "markdown",
   "metadata": {},
   "source": [
    "Lets have a look at their predictions:"
   ]
  },
  {
   "cell_type": "code",
   "execution_count": null,
   "metadata": {},
   "outputs": [],
   "source": [
    "plt.scatter(df_effect_aa.index,preds)\n",
    "plt.xticks(df_effect_aa.index,df_effect_aa[\"seq\"])\n",
    "plt.ylabel(\"Predicted retention time (s)\")\n",
    "plt.show()"
   ]
  },
  {
   "cell_type": "markdown",
   "metadata": {},
   "source": [
    "Provide the data for peptides+modifications you want to predict:"
   ]
  },
  {
   "cell_type": "code",
   "execution_count": null,
   "metadata": {},
   "outputs": [],
   "source": [
    "#IIVINTPNNPIGK\n",
    "dict_effect_aa = {\n",
    "    \"seq\" : [\"IIVINCPNNPIGK\", \"IIVINCPNNPIGK\", \"IIVINQPNNPIGK\", \"IIVINQPNNPIGK\", \"IIVINMPNNPIGK\", \"IIVINMPNNPIGK\"],\n",
    "    \"modifications\" : [\"\",\"6|carbamidomethyl\",\"\",\"6|Deamidated\",\"\",\"6|Formyl\"],\n",
    "    \"tr\" : [0,1,2,3,4,5]\n",
    "}\n",
    "\n",
    "df_effect_aa = pd.DataFrame(dict_effect_aa)"
   ]
  },
  {
   "cell_type": "code",
   "execution_count": null,
   "metadata": {},
   "outputs": [],
   "source": [
    "preds = dlc.make_preds(seq_df=df_effect_aa)"
   ]
  },
  {
   "cell_type": "code",
   "execution_count": null,
   "metadata": {},
   "outputs": [],
   "source": [
    "plt.scatter(df_effect_aa.index,preds)\n",
    "plt.xticks(df_effect_aa.index,df_effect_aa[\"seq\"]+\"+\"+df_effect_aa[\"modifications\"],rotation=90)\n",
    "plt.ylabel(\"Predicted retention time (s)\")\n",
    "plt.show()"
   ]
  },
  {
   "cell_type": "markdown",
   "metadata": {},
   "source": [
    "#### 3.2.2.2 Questions - playground retention time prediction"
   ]
  },
  {
   "cell_type": "markdown",
   "metadata": {},
   "source": [
    "<ol>\n",
    "  <li>Can you design a peptide that falls in between \"IIVINKPNNPIGK\" and \"IIVINTPNNPIGK\" in terms of retention time?</li>\n",
    "  <li>What effect do certain modifications have? Is this expected?</li>\n",
    "  <li>Do you expect that modifications always have the same effect?</li>\n",
    "</ol>"
   ]
  }
 ],
 "metadata": {
  "kernelspec": {
   "display_name": "Python 3 (ipykernel)",
   "language": "python",
   "name": "python3"
  },
  "language_info": {
   "codemirror_mode": {
    "name": "ipython",
    "version": 3
   },
   "file_extension": ".py",
   "mimetype": "text/x-python",
   "name": "python",
   "nbconvert_exporter": "python",
   "pygments_lexer": "ipython3",
   "version": "3.8.13"
  }
 },
 "nbformat": 4,
 "nbformat_minor": 2
}

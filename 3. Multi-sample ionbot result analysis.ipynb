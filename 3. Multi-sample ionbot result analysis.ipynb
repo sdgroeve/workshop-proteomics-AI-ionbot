{
 "cells": [
  {
   "cell_type": "code",
   "execution_count": 22,
   "metadata": {},
   "outputs": [
    {
     "data": {
      "application/javascript": [
       "if (typeof require !== 'undefined')\n",
       "    require.config({\n",
       "        paths: {\n",
       "            jquery: 'https://code.jquery.com/jquery-3.5.1.min',\n",
       "            datatables: 'https://cdn.datatables.net/1.11.3/js/jquery.dataTables.min',\n",
       "        }\n",
       "    });\n"
      ],
      "text/plain": [
       "<IPython.core.display.Javascript object>"
      ]
     },
     "metadata": {},
     "output_type": "display_data"
    }
   ],
   "source": [
    "%matplotlib inline\n",
    "import matplotlib.pyplot as plt\n",
    "import seaborn as sns\n",
    "import numpy as np\n",
    "import pandas as pd\n",
    "import plotly.express as px\n",
    "import zipfile\n",
    "!pip -q install itables\n",
    "from itables import init_notebook_mode\n",
    "init_notebook_mode(all_interactive=True)\n",
    "import itables.options as opt\n",
    "opt.maxBytes = 0\n",
    "opt.classes = [\"display\", \"nowrap\",\"compact\",\"hover\"]\n",
    "opt.showIndex = False\n",
    "opt.style = \"max-width:6000px\"\n",
    "pd.set_option('display.max_colwidth', 20)"
   ]
  },
  {
   "cell_type": "markdown",
   "metadata": {},
   "source": [
    "This notebook executes the analysis of one or more samples at the peptide and modfication.\n",
    "\n",
    "For each sample, the `ionbot.twbx` result file needs to be put into a seperate folder with the folder name corresponding to a unique sample name.  \n",
    "\n",
    "In this case we will analyse the ionbot search results of three samples and created one folder for each sample:\n",
    "\n",
    "```\n",
    "PXD000561\n",
    "├── PXD000561_closed\n",
    "│   └── ionbot.twbx\n",
    "├── PXD000561_full\n",
    "│   └── ionbot.twbx\n",
    "├── PXD000561_nocorr_nort\n",
    "│   └── ionbot.twbx\n",
    "```\n",
    "\n",
    "We can specify this as follows:"
   ]
  },
  {
   "cell_type": "code",
   "execution_count": 23,
   "metadata": {},
   "outputs": [],
   "source": [
    "experiment = \"PXD000561\"\n",
    "samples = [\"PXD000561_closed\",\"PXD000561_full\",\"PXD000561_nocorr_nort\"] "
   ]
  },
  {
   "cell_type": "code",
   "execution_count": null,
   "metadata": {},
   "outputs": [],
   "source": [
    "! wget http://genesis.ugent.be/uvpublicdata/workshop-ml-proteomics/PXD000561.zip\n",
    "! unzip PXD000561.zip"
   ]
  },
  {
   "cell_type": "markdown",
   "metadata": {},
   "source": [
    "Next we unpack the result files:"
   ]
  },
  {
   "cell_type": "code",
   "execution_count": 24,
   "metadata": {},
   "outputs": [],
   "source": [
    "for sample in samples:\n",
    "    folder = \"%s/%s/\"%(experiment,sample)\n",
    "    archive = zipfile.ZipFile(\"%s/ionbot.twbx\"%folder)\n",
    "    for file in archive.namelist():\n",
    "        if file.startswith('Data/'):\n",
    "            archive.extract(file, folder)"
   ]
  },
  {
   "cell_type": "markdown",
   "metadata": {},
   "source": [
    "Next we parse the result files and create one Pandas DataFrame that contains all the results:"
   ]
  },
  {
   "cell_type": "code",
   "execution_count": 25,
   "metadata": {},
   "outputs": [
    {
     "name": "stdout",
     "output_type": "stream",
     "text": [
      "PXD000561_closed\n",
      "PXD000561_full\n",
      "PXD000561_nocorr_nort\n"
     ]
    }
   ],
   "source": [
    "tmp = []\n",
    "for sample in samples:\n",
    "    print(sample)\n",
    "    folder = \"%s/%s/Data/ionbot_result/\"%(experiment,sample)\n",
    "    ionbot_first = pd.read_csv(\"%s/ionbot.first.csv\"%folder)\n",
    "    ionbot_first[\"rank\"] = [\"first\"]*len(ionbot_first)\n",
    "    ionbot_lower = pd.read_csv(\"%s/ionbot.lower.csv\"%folder)\n",
    "    ionbot_lower[\"rank\"] = [\"lower\"]*len(ionbot_lower)\n",
    "    ionbot = pd.concat([ionbot_first,ionbot_lower])\n",
    "    ionbot = ionbot[(ionbot[\"database\"]==\"T\")&(ionbot[\"q-value\"]<=0.01)]\n",
    "    ionbot[\"modifications\"].fillna(\"-\",inplace=True)\n",
    "    ionbot_features = pd.read_csv(\"%s/ionbot.features.csv\"%folder)\n",
    "    ionbot = ionbot.merge(ionbot_features,on=\"ionbot_match_id\",how=\"left\")\n",
    "    ionbot[\"sample\"] = [sample]*len(ionbot)\n",
    "    tmp.append(ionbot)\n",
    "ionbot = pd.concat(tmp)"
   ]
  },
  {
   "cell_type": "code",
   "execution_count": 26,
   "metadata": {},
   "outputs": [
    {
     "data": {
      "text/plain": [
       "Index(['ionbot_match_id', 'spectrum_title', 'scan', 'spectrum_file',\n",
       "       'precursor_mass', 'peptide_mass', 'observed_retention_time', 'charge',\n",
       "       'database_peptide', 'matched_peptide', 'modifications',\n",
       "       'modifications_delta', 'best_tag_rank', 'corrected_retention_time',\n",
       "       'unexpected_modification', 'database', 'psm_score', 'q-value', 'PEP',\n",
       "       'proteins', 'rank', 'by-count', 'all-count', 'by-explained',\n",
       "       'all-explained', 'by-intensity-pattern-correlation',\n",
       "       'predicted_retention_time', 'rt-pred-error', 'sample'],\n",
       "      dtype='object')"
      ]
     },
     "execution_count": 26,
     "metadata": {},
     "output_type": "execute_result"
    }
   ],
   "source": [
    "ionbot.columns"
   ]
  },
  {
   "cell_type": "code",
   "execution_count": 27,
   "metadata": {},
   "outputs": [
    {
     "data": {
      "application/vnd.plotly.v1+json": {
       "config": {
        "plotlyServerURL": "https://plot.ly"
       },
       "data": [
        {
         "alignmentgroup": "True",
         "hovertemplate": "#ids=%{x}<br>sample=%{y}<extra></extra>",
         "legendgroup": "",
         "marker": {
          "color": "#636efa"
         },
         "name": "",
         "offsetgroup": "",
         "orientation": "h",
         "showlegend": false,
         "textposition": "auto",
         "type": "bar",
         "x": [
          286922,
          254918,
          206003
         ],
         "xaxis": "x",
         "y": [
          "PXD000561_full",
          "PXD000561_nocorr_nort",
          "PXD000561_closed"
         ],
         "yaxis": "y"
        }
       ],
       "layout": {
        "barmode": "relative",
        "legend": {
         "tracegroupgap": 0
        },
        "margin": {
         "t": 60
        },
        "template": {
         "data": {
          "bar": [
           {
            "error_x": {
             "color": "#2a3f5f"
            },
            "error_y": {
             "color": "#2a3f5f"
            },
            "marker": {
             "line": {
              "color": "#E5ECF6",
              "width": 0.5
             }
            },
            "type": "bar"
           }
          ],
          "barpolar": [
           {
            "marker": {
             "line": {
              "color": "#E5ECF6",
              "width": 0.5
             }
            },
            "type": "barpolar"
           }
          ],
          "carpet": [
           {
            "aaxis": {
             "endlinecolor": "#2a3f5f",
             "gridcolor": "white",
             "linecolor": "white",
             "minorgridcolor": "white",
             "startlinecolor": "#2a3f5f"
            },
            "baxis": {
             "endlinecolor": "#2a3f5f",
             "gridcolor": "white",
             "linecolor": "white",
             "minorgridcolor": "white",
             "startlinecolor": "#2a3f5f"
            },
            "type": "carpet"
           }
          ],
          "choropleth": [
           {
            "colorbar": {
             "outlinewidth": 0,
             "ticks": ""
            },
            "type": "choropleth"
           }
          ],
          "contour": [
           {
            "colorbar": {
             "outlinewidth": 0,
             "ticks": ""
            },
            "colorscale": [
             [
              0,
              "#0d0887"
             ],
             [
              0.1111111111111111,
              "#46039f"
             ],
             [
              0.2222222222222222,
              "#7201a8"
             ],
             [
              0.3333333333333333,
              "#9c179e"
             ],
             [
              0.4444444444444444,
              "#bd3786"
             ],
             [
              0.5555555555555556,
              "#d8576b"
             ],
             [
              0.6666666666666666,
              "#ed7953"
             ],
             [
              0.7777777777777778,
              "#fb9f3a"
             ],
             [
              0.8888888888888888,
              "#fdca26"
             ],
             [
              1,
              "#f0f921"
             ]
            ],
            "type": "contour"
           }
          ],
          "contourcarpet": [
           {
            "colorbar": {
             "outlinewidth": 0,
             "ticks": ""
            },
            "type": "contourcarpet"
           }
          ],
          "heatmap": [
           {
            "colorbar": {
             "outlinewidth": 0,
             "ticks": ""
            },
            "colorscale": [
             [
              0,
              "#0d0887"
             ],
             [
              0.1111111111111111,
              "#46039f"
             ],
             [
              0.2222222222222222,
              "#7201a8"
             ],
             [
              0.3333333333333333,
              "#9c179e"
             ],
             [
              0.4444444444444444,
              "#bd3786"
             ],
             [
              0.5555555555555556,
              "#d8576b"
             ],
             [
              0.6666666666666666,
              "#ed7953"
             ],
             [
              0.7777777777777778,
              "#fb9f3a"
             ],
             [
              0.8888888888888888,
              "#fdca26"
             ],
             [
              1,
              "#f0f921"
             ]
            ],
            "type": "heatmap"
           }
          ],
          "heatmapgl": [
           {
            "colorbar": {
             "outlinewidth": 0,
             "ticks": ""
            },
            "colorscale": [
             [
              0,
              "#0d0887"
             ],
             [
              0.1111111111111111,
              "#46039f"
             ],
             [
              0.2222222222222222,
              "#7201a8"
             ],
             [
              0.3333333333333333,
              "#9c179e"
             ],
             [
              0.4444444444444444,
              "#bd3786"
             ],
             [
              0.5555555555555556,
              "#d8576b"
             ],
             [
              0.6666666666666666,
              "#ed7953"
             ],
             [
              0.7777777777777778,
              "#fb9f3a"
             ],
             [
              0.8888888888888888,
              "#fdca26"
             ],
             [
              1,
              "#f0f921"
             ]
            ],
            "type": "heatmapgl"
           }
          ],
          "histogram": [
           {
            "marker": {
             "colorbar": {
              "outlinewidth": 0,
              "ticks": ""
             }
            },
            "type": "histogram"
           }
          ],
          "histogram2d": [
           {
            "colorbar": {
             "outlinewidth": 0,
             "ticks": ""
            },
            "colorscale": [
             [
              0,
              "#0d0887"
             ],
             [
              0.1111111111111111,
              "#46039f"
             ],
             [
              0.2222222222222222,
              "#7201a8"
             ],
             [
              0.3333333333333333,
              "#9c179e"
             ],
             [
              0.4444444444444444,
              "#bd3786"
             ],
             [
              0.5555555555555556,
              "#d8576b"
             ],
             [
              0.6666666666666666,
              "#ed7953"
             ],
             [
              0.7777777777777778,
              "#fb9f3a"
             ],
             [
              0.8888888888888888,
              "#fdca26"
             ],
             [
              1,
              "#f0f921"
             ]
            ],
            "type": "histogram2d"
           }
          ],
          "histogram2dcontour": [
           {
            "colorbar": {
             "outlinewidth": 0,
             "ticks": ""
            },
            "colorscale": [
             [
              0,
              "#0d0887"
             ],
             [
              0.1111111111111111,
              "#46039f"
             ],
             [
              0.2222222222222222,
              "#7201a8"
             ],
             [
              0.3333333333333333,
              "#9c179e"
             ],
             [
              0.4444444444444444,
              "#bd3786"
             ],
             [
              0.5555555555555556,
              "#d8576b"
             ],
             [
              0.6666666666666666,
              "#ed7953"
             ],
             [
              0.7777777777777778,
              "#fb9f3a"
             ],
             [
              0.8888888888888888,
              "#fdca26"
             ],
             [
              1,
              "#f0f921"
             ]
            ],
            "type": "histogram2dcontour"
           }
          ],
          "mesh3d": [
           {
            "colorbar": {
             "outlinewidth": 0,
             "ticks": ""
            },
            "type": "mesh3d"
           }
          ],
          "parcoords": [
           {
            "line": {
             "colorbar": {
              "outlinewidth": 0,
              "ticks": ""
             }
            },
            "type": "parcoords"
           }
          ],
          "pie": [
           {
            "automargin": true,
            "type": "pie"
           }
          ],
          "scatter": [
           {
            "marker": {
             "colorbar": {
              "outlinewidth": 0,
              "ticks": ""
             }
            },
            "type": "scatter"
           }
          ],
          "scatter3d": [
           {
            "line": {
             "colorbar": {
              "outlinewidth": 0,
              "ticks": ""
             }
            },
            "marker": {
             "colorbar": {
              "outlinewidth": 0,
              "ticks": ""
             }
            },
            "type": "scatter3d"
           }
          ],
          "scattercarpet": [
           {
            "marker": {
             "colorbar": {
              "outlinewidth": 0,
              "ticks": ""
             }
            },
            "type": "scattercarpet"
           }
          ],
          "scattergeo": [
           {
            "marker": {
             "colorbar": {
              "outlinewidth": 0,
              "ticks": ""
             }
            },
            "type": "scattergeo"
           }
          ],
          "scattergl": [
           {
            "marker": {
             "colorbar": {
              "outlinewidth": 0,
              "ticks": ""
             }
            },
            "type": "scattergl"
           }
          ],
          "scattermapbox": [
           {
            "marker": {
             "colorbar": {
              "outlinewidth": 0,
              "ticks": ""
             }
            },
            "type": "scattermapbox"
           }
          ],
          "scatterpolar": [
           {
            "marker": {
             "colorbar": {
              "outlinewidth": 0,
              "ticks": ""
             }
            },
            "type": "scatterpolar"
           }
          ],
          "scatterpolargl": [
           {
            "marker": {
             "colorbar": {
              "outlinewidth": 0,
              "ticks": ""
             }
            },
            "type": "scatterpolargl"
           }
          ],
          "scatterternary": [
           {
            "marker": {
             "colorbar": {
              "outlinewidth": 0,
              "ticks": ""
             }
            },
            "type": "scatterternary"
           }
          ],
          "surface": [
           {
            "colorbar": {
             "outlinewidth": 0,
             "ticks": ""
            },
            "colorscale": [
             [
              0,
              "#0d0887"
             ],
             [
              0.1111111111111111,
              "#46039f"
             ],
             [
              0.2222222222222222,
              "#7201a8"
             ],
             [
              0.3333333333333333,
              "#9c179e"
             ],
             [
              0.4444444444444444,
              "#bd3786"
             ],
             [
              0.5555555555555556,
              "#d8576b"
             ],
             [
              0.6666666666666666,
              "#ed7953"
             ],
             [
              0.7777777777777778,
              "#fb9f3a"
             ],
             [
              0.8888888888888888,
              "#fdca26"
             ],
             [
              1,
              "#f0f921"
             ]
            ],
            "type": "surface"
           }
          ],
          "table": [
           {
            "cells": {
             "fill": {
              "color": "#EBF0F8"
             },
             "line": {
              "color": "white"
             }
            },
            "header": {
             "fill": {
              "color": "#C8D4E3"
             },
             "line": {
              "color": "white"
             }
            },
            "type": "table"
           }
          ]
         },
         "layout": {
          "annotationdefaults": {
           "arrowcolor": "#2a3f5f",
           "arrowhead": 0,
           "arrowwidth": 1
          },
          "coloraxis": {
           "colorbar": {
            "outlinewidth": 0,
            "ticks": ""
           }
          },
          "colorscale": {
           "diverging": [
            [
             0,
             "#8e0152"
            ],
            [
             0.1,
             "#c51b7d"
            ],
            [
             0.2,
             "#de77ae"
            ],
            [
             0.3,
             "#f1b6da"
            ],
            [
             0.4,
             "#fde0ef"
            ],
            [
             0.5,
             "#f7f7f7"
            ],
            [
             0.6,
             "#e6f5d0"
            ],
            [
             0.7,
             "#b8e186"
            ],
            [
             0.8,
             "#7fbc41"
            ],
            [
             0.9,
             "#4d9221"
            ],
            [
             1,
             "#276419"
            ]
           ],
           "sequential": [
            [
             0,
             "#0d0887"
            ],
            [
             0.1111111111111111,
             "#46039f"
            ],
            [
             0.2222222222222222,
             "#7201a8"
            ],
            [
             0.3333333333333333,
             "#9c179e"
            ],
            [
             0.4444444444444444,
             "#bd3786"
            ],
            [
             0.5555555555555556,
             "#d8576b"
            ],
            [
             0.6666666666666666,
             "#ed7953"
            ],
            [
             0.7777777777777778,
             "#fb9f3a"
            ],
            [
             0.8888888888888888,
             "#fdca26"
            ],
            [
             1,
             "#f0f921"
            ]
           ],
           "sequentialminus": [
            [
             0,
             "#0d0887"
            ],
            [
             0.1111111111111111,
             "#46039f"
            ],
            [
             0.2222222222222222,
             "#7201a8"
            ],
            [
             0.3333333333333333,
             "#9c179e"
            ],
            [
             0.4444444444444444,
             "#bd3786"
            ],
            [
             0.5555555555555556,
             "#d8576b"
            ],
            [
             0.6666666666666666,
             "#ed7953"
            ],
            [
             0.7777777777777778,
             "#fb9f3a"
            ],
            [
             0.8888888888888888,
             "#fdca26"
            ],
            [
             1,
             "#f0f921"
            ]
           ]
          },
          "colorway": [
           "#636efa",
           "#EF553B",
           "#00cc96",
           "#ab63fa",
           "#FFA15A",
           "#19d3f3",
           "#FF6692",
           "#B6E880",
           "#FF97FF",
           "#FECB52"
          ],
          "font": {
           "color": "#2a3f5f"
          },
          "geo": {
           "bgcolor": "white",
           "lakecolor": "white",
           "landcolor": "#E5ECF6",
           "showlakes": true,
           "showland": true,
           "subunitcolor": "white"
          },
          "hoverlabel": {
           "align": "left"
          },
          "hovermode": "closest",
          "mapbox": {
           "style": "light"
          },
          "paper_bgcolor": "white",
          "plot_bgcolor": "#E5ECF6",
          "polar": {
           "angularaxis": {
            "gridcolor": "white",
            "linecolor": "white",
            "ticks": ""
           },
           "bgcolor": "#E5ECF6",
           "radialaxis": {
            "gridcolor": "white",
            "linecolor": "white",
            "ticks": ""
           }
          },
          "scene": {
           "xaxis": {
            "backgroundcolor": "#E5ECF6",
            "gridcolor": "white",
            "gridwidth": 2,
            "linecolor": "white",
            "showbackground": true,
            "ticks": "",
            "zerolinecolor": "white"
           },
           "yaxis": {
            "backgroundcolor": "#E5ECF6",
            "gridcolor": "white",
            "gridwidth": 2,
            "linecolor": "white",
            "showbackground": true,
            "ticks": "",
            "zerolinecolor": "white"
           },
           "zaxis": {
            "backgroundcolor": "#E5ECF6",
            "gridcolor": "white",
            "gridwidth": 2,
            "linecolor": "white",
            "showbackground": true,
            "ticks": "",
            "zerolinecolor": "white"
           }
          },
          "shapedefaults": {
           "line": {
            "color": "#2a3f5f"
           }
          },
          "ternary": {
           "aaxis": {
            "gridcolor": "white",
            "linecolor": "white",
            "ticks": ""
           },
           "baxis": {
            "gridcolor": "white",
            "linecolor": "white",
            "ticks": ""
           },
           "bgcolor": "#E5ECF6",
           "caxis": {
            "gridcolor": "white",
            "linecolor": "white",
            "ticks": ""
           }
          },
          "title": {
           "x": 0.05
          },
          "xaxis": {
           "automargin": true,
           "gridcolor": "white",
           "linecolor": "white",
           "ticks": "",
           "title": {
            "standoff": 15
           },
           "zerolinecolor": "white",
           "zerolinewidth": 2
          },
          "yaxis": {
           "automargin": true,
           "gridcolor": "white",
           "linecolor": "white",
           "ticks": "",
           "title": {
            "standoff": 15
           },
           "zerolinecolor": "white",
           "zerolinewidth": 2
          }
         }
        },
        "xaxis": {
         "anchor": "y",
         "domain": [
          0,
          1
         ],
         "title": {
          "text": "#ids"
         }
        },
        "yaxis": {
         "anchor": "x",
         "categoryorder": "total ascending",
         "domain": [
          0,
          1
         ],
         "title": {
          "text": "sample"
         }
        }
       }
      },
      "text/html": [
       "<div>                            <div id=\"153e5c7c-c636-4510-b8be-be0f4120d534\" class=\"plotly-graph-div\" style=\"height:525px; width:100%;\"></div>            <script type=\"text/javascript\">                require([\"plotly\"], function(Plotly) {                    window.PLOTLYENV=window.PLOTLYENV || {};                                    if (document.getElementById(\"153e5c7c-c636-4510-b8be-be0f4120d534\")) {                    Plotly.newPlot(                        \"153e5c7c-c636-4510-b8be-be0f4120d534\",                        [{\"alignmentgroup\": \"True\", \"hovertemplate\": \"#ids=%{x}<br>sample=%{y}<extra></extra>\", \"legendgroup\": \"\", \"marker\": {\"color\": \"#636efa\"}, \"name\": \"\", \"offsetgroup\": \"\", \"orientation\": \"h\", \"showlegend\": false, \"textposition\": \"auto\", \"type\": \"bar\", \"x\": [286922, 254918, 206003], \"xaxis\": \"x\", \"y\": [\"PXD000561_full\", \"PXD000561_nocorr_nort\", \"PXD000561_closed\"], \"yaxis\": \"y\"}],                        {\"barmode\": \"relative\", \"legend\": {\"tracegroupgap\": 0}, \"margin\": {\"t\": 60}, \"template\": {\"data\": {\"bar\": [{\"error_x\": {\"color\": \"#2a3f5f\"}, \"error_y\": {\"color\": \"#2a3f5f\"}, \"marker\": {\"line\": {\"color\": \"#E5ECF6\", \"width\": 0.5}}, \"type\": \"bar\"}], \"barpolar\": [{\"marker\": {\"line\": {\"color\": \"#E5ECF6\", \"width\": 0.5}}, \"type\": \"barpolar\"}], \"carpet\": [{\"aaxis\": {\"endlinecolor\": \"#2a3f5f\", \"gridcolor\": \"white\", \"linecolor\": \"white\", \"minorgridcolor\": \"white\", \"startlinecolor\": \"#2a3f5f\"}, \"baxis\": {\"endlinecolor\": \"#2a3f5f\", \"gridcolor\": \"white\", \"linecolor\": \"white\", \"minorgridcolor\": \"white\", \"startlinecolor\": \"#2a3f5f\"}, \"type\": \"carpet\"}], \"choropleth\": [{\"colorbar\": {\"outlinewidth\": 0, \"ticks\": \"\"}, \"type\": \"choropleth\"}], \"contour\": [{\"colorbar\": {\"outlinewidth\": 0, \"ticks\": \"\"}, \"colorscale\": [[0.0, \"#0d0887\"], [0.1111111111111111, \"#46039f\"], [0.2222222222222222, \"#7201a8\"], [0.3333333333333333, \"#9c179e\"], [0.4444444444444444, \"#bd3786\"], [0.5555555555555556, \"#d8576b\"], [0.6666666666666666, \"#ed7953\"], [0.7777777777777778, \"#fb9f3a\"], [0.8888888888888888, \"#fdca26\"], [1.0, \"#f0f921\"]], \"type\": \"contour\"}], \"contourcarpet\": [{\"colorbar\": {\"outlinewidth\": 0, \"ticks\": \"\"}, \"type\": \"contourcarpet\"}], \"heatmap\": [{\"colorbar\": {\"outlinewidth\": 0, \"ticks\": \"\"}, \"colorscale\": [[0.0, \"#0d0887\"], [0.1111111111111111, \"#46039f\"], [0.2222222222222222, \"#7201a8\"], [0.3333333333333333, \"#9c179e\"], [0.4444444444444444, \"#bd3786\"], [0.5555555555555556, \"#d8576b\"], [0.6666666666666666, \"#ed7953\"], [0.7777777777777778, \"#fb9f3a\"], [0.8888888888888888, \"#fdca26\"], [1.0, \"#f0f921\"]], \"type\": \"heatmap\"}], \"heatmapgl\": [{\"colorbar\": {\"outlinewidth\": 0, \"ticks\": \"\"}, \"colorscale\": [[0.0, \"#0d0887\"], [0.1111111111111111, \"#46039f\"], [0.2222222222222222, \"#7201a8\"], [0.3333333333333333, \"#9c179e\"], [0.4444444444444444, \"#bd3786\"], [0.5555555555555556, \"#d8576b\"], [0.6666666666666666, \"#ed7953\"], [0.7777777777777778, \"#fb9f3a\"], [0.8888888888888888, \"#fdca26\"], [1.0, \"#f0f921\"]], \"type\": \"heatmapgl\"}], \"histogram\": [{\"marker\": {\"colorbar\": {\"outlinewidth\": 0, \"ticks\": \"\"}}, \"type\": \"histogram\"}], \"histogram2d\": [{\"colorbar\": {\"outlinewidth\": 0, \"ticks\": \"\"}, \"colorscale\": [[0.0, \"#0d0887\"], [0.1111111111111111, \"#46039f\"], [0.2222222222222222, \"#7201a8\"], [0.3333333333333333, \"#9c179e\"], [0.4444444444444444, \"#bd3786\"], [0.5555555555555556, \"#d8576b\"], [0.6666666666666666, \"#ed7953\"], [0.7777777777777778, \"#fb9f3a\"], [0.8888888888888888, \"#fdca26\"], [1.0, \"#f0f921\"]], \"type\": \"histogram2d\"}], \"histogram2dcontour\": [{\"colorbar\": {\"outlinewidth\": 0, \"ticks\": \"\"}, \"colorscale\": [[0.0, \"#0d0887\"], [0.1111111111111111, \"#46039f\"], [0.2222222222222222, \"#7201a8\"], [0.3333333333333333, \"#9c179e\"], [0.4444444444444444, \"#bd3786\"], [0.5555555555555556, \"#d8576b\"], [0.6666666666666666, \"#ed7953\"], [0.7777777777777778, \"#fb9f3a\"], [0.8888888888888888, \"#fdca26\"], [1.0, \"#f0f921\"]], \"type\": \"histogram2dcontour\"}], \"mesh3d\": [{\"colorbar\": {\"outlinewidth\": 0, \"ticks\": \"\"}, \"type\": \"mesh3d\"}], \"parcoords\": [{\"line\": {\"colorbar\": {\"outlinewidth\": 0, \"ticks\": \"\"}}, \"type\": \"parcoords\"}], \"pie\": [{\"automargin\": true, \"type\": \"pie\"}], \"scatter\": [{\"marker\": {\"colorbar\": {\"outlinewidth\": 0, \"ticks\": \"\"}}, \"type\": \"scatter\"}], \"scatter3d\": [{\"line\": {\"colorbar\": {\"outlinewidth\": 0, \"ticks\": \"\"}}, \"marker\": {\"colorbar\": {\"outlinewidth\": 0, \"ticks\": \"\"}}, \"type\": \"scatter3d\"}], \"scattercarpet\": [{\"marker\": {\"colorbar\": {\"outlinewidth\": 0, \"ticks\": \"\"}}, \"type\": \"scattercarpet\"}], \"scattergeo\": [{\"marker\": {\"colorbar\": {\"outlinewidth\": 0, \"ticks\": \"\"}}, \"type\": \"scattergeo\"}], \"scattergl\": [{\"marker\": {\"colorbar\": {\"outlinewidth\": 0, \"ticks\": \"\"}}, \"type\": \"scattergl\"}], \"scattermapbox\": [{\"marker\": {\"colorbar\": {\"outlinewidth\": 0, \"ticks\": \"\"}}, \"type\": \"scattermapbox\"}], \"scatterpolar\": [{\"marker\": {\"colorbar\": {\"outlinewidth\": 0, \"ticks\": \"\"}}, \"type\": \"scatterpolar\"}], \"scatterpolargl\": [{\"marker\": {\"colorbar\": {\"outlinewidth\": 0, \"ticks\": \"\"}}, \"type\": \"scatterpolargl\"}], \"scatterternary\": [{\"marker\": {\"colorbar\": {\"outlinewidth\": 0, \"ticks\": \"\"}}, \"type\": \"scatterternary\"}], \"surface\": [{\"colorbar\": {\"outlinewidth\": 0, \"ticks\": \"\"}, \"colorscale\": [[0.0, \"#0d0887\"], [0.1111111111111111, \"#46039f\"], [0.2222222222222222, \"#7201a8\"], [0.3333333333333333, \"#9c179e\"], [0.4444444444444444, \"#bd3786\"], [0.5555555555555556, \"#d8576b\"], [0.6666666666666666, \"#ed7953\"], [0.7777777777777778, \"#fb9f3a\"], [0.8888888888888888, \"#fdca26\"], [1.0, \"#f0f921\"]], \"type\": \"surface\"}], \"table\": [{\"cells\": {\"fill\": {\"color\": \"#EBF0F8\"}, \"line\": {\"color\": \"white\"}}, \"header\": {\"fill\": {\"color\": \"#C8D4E3\"}, \"line\": {\"color\": \"white\"}}, \"type\": \"table\"}]}, \"layout\": {\"annotationdefaults\": {\"arrowcolor\": \"#2a3f5f\", \"arrowhead\": 0, \"arrowwidth\": 1}, \"coloraxis\": {\"colorbar\": {\"outlinewidth\": 0, \"ticks\": \"\"}}, \"colorscale\": {\"diverging\": [[0, \"#8e0152\"], [0.1, \"#c51b7d\"], [0.2, \"#de77ae\"], [0.3, \"#f1b6da\"], [0.4, \"#fde0ef\"], [0.5, \"#f7f7f7\"], [0.6, \"#e6f5d0\"], [0.7, \"#b8e186\"], [0.8, \"#7fbc41\"], [0.9, \"#4d9221\"], [1, \"#276419\"]], \"sequential\": [[0.0, \"#0d0887\"], [0.1111111111111111, \"#46039f\"], [0.2222222222222222, \"#7201a8\"], [0.3333333333333333, \"#9c179e\"], [0.4444444444444444, \"#bd3786\"], [0.5555555555555556, \"#d8576b\"], [0.6666666666666666, \"#ed7953\"], [0.7777777777777778, \"#fb9f3a\"], [0.8888888888888888, \"#fdca26\"], [1.0, \"#f0f921\"]], \"sequentialminus\": [[0.0, \"#0d0887\"], [0.1111111111111111, \"#46039f\"], [0.2222222222222222, \"#7201a8\"], [0.3333333333333333, \"#9c179e\"], [0.4444444444444444, \"#bd3786\"], [0.5555555555555556, \"#d8576b\"], [0.6666666666666666, \"#ed7953\"], [0.7777777777777778, \"#fb9f3a\"], [0.8888888888888888, \"#fdca26\"], [1.0, \"#f0f921\"]]}, \"colorway\": [\"#636efa\", \"#EF553B\", \"#00cc96\", \"#ab63fa\", \"#FFA15A\", \"#19d3f3\", \"#FF6692\", \"#B6E880\", \"#FF97FF\", \"#FECB52\"], \"font\": {\"color\": \"#2a3f5f\"}, \"geo\": {\"bgcolor\": \"white\", \"lakecolor\": \"white\", \"landcolor\": \"#E5ECF6\", \"showlakes\": true, \"showland\": true, \"subunitcolor\": \"white\"}, \"hoverlabel\": {\"align\": \"left\"}, \"hovermode\": \"closest\", \"mapbox\": {\"style\": \"light\"}, \"paper_bgcolor\": \"white\", \"plot_bgcolor\": \"#E5ECF6\", \"polar\": {\"angularaxis\": {\"gridcolor\": \"white\", \"linecolor\": \"white\", \"ticks\": \"\"}, \"bgcolor\": \"#E5ECF6\", \"radialaxis\": {\"gridcolor\": \"white\", \"linecolor\": \"white\", \"ticks\": \"\"}}, \"scene\": {\"xaxis\": {\"backgroundcolor\": \"#E5ECF6\", \"gridcolor\": \"white\", \"gridwidth\": 2, \"linecolor\": \"white\", \"showbackground\": true, \"ticks\": \"\", \"zerolinecolor\": \"white\"}, \"yaxis\": {\"backgroundcolor\": \"#E5ECF6\", \"gridcolor\": \"white\", \"gridwidth\": 2, \"linecolor\": \"white\", \"showbackground\": true, \"ticks\": \"\", \"zerolinecolor\": \"white\"}, \"zaxis\": {\"backgroundcolor\": \"#E5ECF6\", \"gridcolor\": \"white\", \"gridwidth\": 2, \"linecolor\": \"white\", \"showbackground\": true, \"ticks\": \"\", \"zerolinecolor\": \"white\"}}, \"shapedefaults\": {\"line\": {\"color\": \"#2a3f5f\"}}, \"ternary\": {\"aaxis\": {\"gridcolor\": \"white\", \"linecolor\": \"white\", \"ticks\": \"\"}, \"baxis\": {\"gridcolor\": \"white\", \"linecolor\": \"white\", \"ticks\": \"\"}, \"bgcolor\": \"#E5ECF6\", \"caxis\": {\"gridcolor\": \"white\", \"linecolor\": \"white\", \"ticks\": \"\"}}, \"title\": {\"x\": 0.05}, \"xaxis\": {\"automargin\": true, \"gridcolor\": \"white\", \"linecolor\": \"white\", \"ticks\": \"\", \"title\": {\"standoff\": 15}, \"zerolinecolor\": \"white\", \"zerolinewidth\": 2}, \"yaxis\": {\"automargin\": true, \"gridcolor\": \"white\", \"linecolor\": \"white\", \"ticks\": \"\", \"title\": {\"standoff\": 15}, \"zerolinecolor\": \"white\", \"zerolinewidth\": 2}}}, \"xaxis\": {\"anchor\": \"y\", \"domain\": [0.0, 1.0], \"title\": {\"text\": \"#ids\"}}, \"yaxis\": {\"anchor\": \"x\", \"categoryorder\": \"total ascending\", \"domain\": [0.0, 1.0], \"title\": {\"text\": \"sample\"}}},                        {\"responsive\": true}                    ).then(function(){\n",
       "                            \n",
       "var gd = document.getElementById('153e5c7c-c636-4510-b8be-be0f4120d534');\n",
       "var x = new MutationObserver(function (mutations, observer) {{\n",
       "        var display = window.getComputedStyle(gd).display;\n",
       "        if (!display || display === 'none') {{\n",
       "            console.log([gd, 'removed!']);\n",
       "            Plotly.purge(gd);\n",
       "            observer.disconnect();\n",
       "        }}\n",
       "}});\n",
       "\n",
       "// Listen for the removal of the full notebook cells\n",
       "var notebookContainer = gd.closest('#notebook-container');\n",
       "if (notebookContainer) {{\n",
       "    x.observe(notebookContainer, {childList: true});\n",
       "}}\n",
       "\n",
       "// Listen for the clearing of the current output cell\n",
       "var outputEl = gd.closest('.output');\n",
       "if (outputEl) {{\n",
       "    x.observe(outputEl, {childList: true});\n",
       "}}\n",
       "\n",
       "                        })                };                });            </script>        </div>"
      ]
     },
     "metadata": {},
     "output_type": "display_data"
    }
   ],
   "source": [
    "tmp = ionbot[\"sample\"].value_counts().reset_index(level=0)\n",
    "tmp.columns = [\"sample\",\"#ids\"]\n",
    "fig = px.bar(tmp, y='sample', x='#ids', orientation='h')\n",
    "fig.update_layout(yaxis={'categoryorder':'total ascending'})\n",
    "fig.show()"
   ]
  },
  {
   "cell_type": "code",
   "execution_count": 28,
   "metadata": {},
   "outputs": [
    {
     "data": {
      "application/vnd.plotly.v1+json": {
       "config": {
        "plotlyServerURL": "https://plot.ly"
       },
       "data": [
        {
         "alignmentgroup": "True",
         "hovertemplate": "#ids=%{x}<br>sample=%{y}<extra></extra>",
         "legendgroup": "",
         "marker": {
          "color": "#636efa"
         },
         "name": "",
         "offsetgroup": "",
         "orientation": "h",
         "showlegend": false,
         "textposition": "auto",
         "type": "bar",
         "x": [
          109687,
          99600,
          72178
         ],
         "xaxis": "x",
         "y": [
          "PXD000561_full",
          "PXD000561_nocorr_nort",
          "PXD000561_closed"
         ],
         "yaxis": "y"
        }
       ],
       "layout": {
        "barmode": "relative",
        "legend": {
         "tracegroupgap": 0
        },
        "margin": {
         "t": 60
        },
        "template": {
         "data": {
          "bar": [
           {
            "error_x": {
             "color": "#2a3f5f"
            },
            "error_y": {
             "color": "#2a3f5f"
            },
            "marker": {
             "line": {
              "color": "#E5ECF6",
              "width": 0.5
             }
            },
            "type": "bar"
           }
          ],
          "barpolar": [
           {
            "marker": {
             "line": {
              "color": "#E5ECF6",
              "width": 0.5
             }
            },
            "type": "barpolar"
           }
          ],
          "carpet": [
           {
            "aaxis": {
             "endlinecolor": "#2a3f5f",
             "gridcolor": "white",
             "linecolor": "white",
             "minorgridcolor": "white",
             "startlinecolor": "#2a3f5f"
            },
            "baxis": {
             "endlinecolor": "#2a3f5f",
             "gridcolor": "white",
             "linecolor": "white",
             "minorgridcolor": "white",
             "startlinecolor": "#2a3f5f"
            },
            "type": "carpet"
           }
          ],
          "choropleth": [
           {
            "colorbar": {
             "outlinewidth": 0,
             "ticks": ""
            },
            "type": "choropleth"
           }
          ],
          "contour": [
           {
            "colorbar": {
             "outlinewidth": 0,
             "ticks": ""
            },
            "colorscale": [
             [
              0,
              "#0d0887"
             ],
             [
              0.1111111111111111,
              "#46039f"
             ],
             [
              0.2222222222222222,
              "#7201a8"
             ],
             [
              0.3333333333333333,
              "#9c179e"
             ],
             [
              0.4444444444444444,
              "#bd3786"
             ],
             [
              0.5555555555555556,
              "#d8576b"
             ],
             [
              0.6666666666666666,
              "#ed7953"
             ],
             [
              0.7777777777777778,
              "#fb9f3a"
             ],
             [
              0.8888888888888888,
              "#fdca26"
             ],
             [
              1,
              "#f0f921"
             ]
            ],
            "type": "contour"
           }
          ],
          "contourcarpet": [
           {
            "colorbar": {
             "outlinewidth": 0,
             "ticks": ""
            },
            "type": "contourcarpet"
           }
          ],
          "heatmap": [
           {
            "colorbar": {
             "outlinewidth": 0,
             "ticks": ""
            },
            "colorscale": [
             [
              0,
              "#0d0887"
             ],
             [
              0.1111111111111111,
              "#46039f"
             ],
             [
              0.2222222222222222,
              "#7201a8"
             ],
             [
              0.3333333333333333,
              "#9c179e"
             ],
             [
              0.4444444444444444,
              "#bd3786"
             ],
             [
              0.5555555555555556,
              "#d8576b"
             ],
             [
              0.6666666666666666,
              "#ed7953"
             ],
             [
              0.7777777777777778,
              "#fb9f3a"
             ],
             [
              0.8888888888888888,
              "#fdca26"
             ],
             [
              1,
              "#f0f921"
             ]
            ],
            "type": "heatmap"
           }
          ],
          "heatmapgl": [
           {
            "colorbar": {
             "outlinewidth": 0,
             "ticks": ""
            },
            "colorscale": [
             [
              0,
              "#0d0887"
             ],
             [
              0.1111111111111111,
              "#46039f"
             ],
             [
              0.2222222222222222,
              "#7201a8"
             ],
             [
              0.3333333333333333,
              "#9c179e"
             ],
             [
              0.4444444444444444,
              "#bd3786"
             ],
             [
              0.5555555555555556,
              "#d8576b"
             ],
             [
              0.6666666666666666,
              "#ed7953"
             ],
             [
              0.7777777777777778,
              "#fb9f3a"
             ],
             [
              0.8888888888888888,
              "#fdca26"
             ],
             [
              1,
              "#f0f921"
             ]
            ],
            "type": "heatmapgl"
           }
          ],
          "histogram": [
           {
            "marker": {
             "colorbar": {
              "outlinewidth": 0,
              "ticks": ""
             }
            },
            "type": "histogram"
           }
          ],
          "histogram2d": [
           {
            "colorbar": {
             "outlinewidth": 0,
             "ticks": ""
            },
            "colorscale": [
             [
              0,
              "#0d0887"
             ],
             [
              0.1111111111111111,
              "#46039f"
             ],
             [
              0.2222222222222222,
              "#7201a8"
             ],
             [
              0.3333333333333333,
              "#9c179e"
             ],
             [
              0.4444444444444444,
              "#bd3786"
             ],
             [
              0.5555555555555556,
              "#d8576b"
             ],
             [
              0.6666666666666666,
              "#ed7953"
             ],
             [
              0.7777777777777778,
              "#fb9f3a"
             ],
             [
              0.8888888888888888,
              "#fdca26"
             ],
             [
              1,
              "#f0f921"
             ]
            ],
            "type": "histogram2d"
           }
          ],
          "histogram2dcontour": [
           {
            "colorbar": {
             "outlinewidth": 0,
             "ticks": ""
            },
            "colorscale": [
             [
              0,
              "#0d0887"
             ],
             [
              0.1111111111111111,
              "#46039f"
             ],
             [
              0.2222222222222222,
              "#7201a8"
             ],
             [
              0.3333333333333333,
              "#9c179e"
             ],
             [
              0.4444444444444444,
              "#bd3786"
             ],
             [
              0.5555555555555556,
              "#d8576b"
             ],
             [
              0.6666666666666666,
              "#ed7953"
             ],
             [
              0.7777777777777778,
              "#fb9f3a"
             ],
             [
              0.8888888888888888,
              "#fdca26"
             ],
             [
              1,
              "#f0f921"
             ]
            ],
            "type": "histogram2dcontour"
           }
          ],
          "mesh3d": [
           {
            "colorbar": {
             "outlinewidth": 0,
             "ticks": ""
            },
            "type": "mesh3d"
           }
          ],
          "parcoords": [
           {
            "line": {
             "colorbar": {
              "outlinewidth": 0,
              "ticks": ""
             }
            },
            "type": "parcoords"
           }
          ],
          "pie": [
           {
            "automargin": true,
            "type": "pie"
           }
          ],
          "scatter": [
           {
            "marker": {
             "colorbar": {
              "outlinewidth": 0,
              "ticks": ""
             }
            },
            "type": "scatter"
           }
          ],
          "scatter3d": [
           {
            "line": {
             "colorbar": {
              "outlinewidth": 0,
              "ticks": ""
             }
            },
            "marker": {
             "colorbar": {
              "outlinewidth": 0,
              "ticks": ""
             }
            },
            "type": "scatter3d"
           }
          ],
          "scattercarpet": [
           {
            "marker": {
             "colorbar": {
              "outlinewidth": 0,
              "ticks": ""
             }
            },
            "type": "scattercarpet"
           }
          ],
          "scattergeo": [
           {
            "marker": {
             "colorbar": {
              "outlinewidth": 0,
              "ticks": ""
             }
            },
            "type": "scattergeo"
           }
          ],
          "scattergl": [
           {
            "marker": {
             "colorbar": {
              "outlinewidth": 0,
              "ticks": ""
             }
            },
            "type": "scattergl"
           }
          ],
          "scattermapbox": [
           {
            "marker": {
             "colorbar": {
              "outlinewidth": 0,
              "ticks": ""
             }
            },
            "type": "scattermapbox"
           }
          ],
          "scatterpolar": [
           {
            "marker": {
             "colorbar": {
              "outlinewidth": 0,
              "ticks": ""
             }
            },
            "type": "scatterpolar"
           }
          ],
          "scatterpolargl": [
           {
            "marker": {
             "colorbar": {
              "outlinewidth": 0,
              "ticks": ""
             }
            },
            "type": "scatterpolargl"
           }
          ],
          "scatterternary": [
           {
            "marker": {
             "colorbar": {
              "outlinewidth": 0,
              "ticks": ""
             }
            },
            "type": "scatterternary"
           }
          ],
          "surface": [
           {
            "colorbar": {
             "outlinewidth": 0,
             "ticks": ""
            },
            "colorscale": [
             [
              0,
              "#0d0887"
             ],
             [
              0.1111111111111111,
              "#46039f"
             ],
             [
              0.2222222222222222,
              "#7201a8"
             ],
             [
              0.3333333333333333,
              "#9c179e"
             ],
             [
              0.4444444444444444,
              "#bd3786"
             ],
             [
              0.5555555555555556,
              "#d8576b"
             ],
             [
              0.6666666666666666,
              "#ed7953"
             ],
             [
              0.7777777777777778,
              "#fb9f3a"
             ],
             [
              0.8888888888888888,
              "#fdca26"
             ],
             [
              1,
              "#f0f921"
             ]
            ],
            "type": "surface"
           }
          ],
          "table": [
           {
            "cells": {
             "fill": {
              "color": "#EBF0F8"
             },
             "line": {
              "color": "white"
             }
            },
            "header": {
             "fill": {
              "color": "#C8D4E3"
             },
             "line": {
              "color": "white"
             }
            },
            "type": "table"
           }
          ]
         },
         "layout": {
          "annotationdefaults": {
           "arrowcolor": "#2a3f5f",
           "arrowhead": 0,
           "arrowwidth": 1
          },
          "coloraxis": {
           "colorbar": {
            "outlinewidth": 0,
            "ticks": ""
           }
          },
          "colorscale": {
           "diverging": [
            [
             0,
             "#8e0152"
            ],
            [
             0.1,
             "#c51b7d"
            ],
            [
             0.2,
             "#de77ae"
            ],
            [
             0.3,
             "#f1b6da"
            ],
            [
             0.4,
             "#fde0ef"
            ],
            [
             0.5,
             "#f7f7f7"
            ],
            [
             0.6,
             "#e6f5d0"
            ],
            [
             0.7,
             "#b8e186"
            ],
            [
             0.8,
             "#7fbc41"
            ],
            [
             0.9,
             "#4d9221"
            ],
            [
             1,
             "#276419"
            ]
           ],
           "sequential": [
            [
             0,
             "#0d0887"
            ],
            [
             0.1111111111111111,
             "#46039f"
            ],
            [
             0.2222222222222222,
             "#7201a8"
            ],
            [
             0.3333333333333333,
             "#9c179e"
            ],
            [
             0.4444444444444444,
             "#bd3786"
            ],
            [
             0.5555555555555556,
             "#d8576b"
            ],
            [
             0.6666666666666666,
             "#ed7953"
            ],
            [
             0.7777777777777778,
             "#fb9f3a"
            ],
            [
             0.8888888888888888,
             "#fdca26"
            ],
            [
             1,
             "#f0f921"
            ]
           ],
           "sequentialminus": [
            [
             0,
             "#0d0887"
            ],
            [
             0.1111111111111111,
             "#46039f"
            ],
            [
             0.2222222222222222,
             "#7201a8"
            ],
            [
             0.3333333333333333,
             "#9c179e"
            ],
            [
             0.4444444444444444,
             "#bd3786"
            ],
            [
             0.5555555555555556,
             "#d8576b"
            ],
            [
             0.6666666666666666,
             "#ed7953"
            ],
            [
             0.7777777777777778,
             "#fb9f3a"
            ],
            [
             0.8888888888888888,
             "#fdca26"
            ],
            [
             1,
             "#f0f921"
            ]
           ]
          },
          "colorway": [
           "#636efa",
           "#EF553B",
           "#00cc96",
           "#ab63fa",
           "#FFA15A",
           "#19d3f3",
           "#FF6692",
           "#B6E880",
           "#FF97FF",
           "#FECB52"
          ],
          "font": {
           "color": "#2a3f5f"
          },
          "geo": {
           "bgcolor": "white",
           "lakecolor": "white",
           "landcolor": "#E5ECF6",
           "showlakes": true,
           "showland": true,
           "subunitcolor": "white"
          },
          "hoverlabel": {
           "align": "left"
          },
          "hovermode": "closest",
          "mapbox": {
           "style": "light"
          },
          "paper_bgcolor": "white",
          "plot_bgcolor": "#E5ECF6",
          "polar": {
           "angularaxis": {
            "gridcolor": "white",
            "linecolor": "white",
            "ticks": ""
           },
           "bgcolor": "#E5ECF6",
           "radialaxis": {
            "gridcolor": "white",
            "linecolor": "white",
            "ticks": ""
           }
          },
          "scene": {
           "xaxis": {
            "backgroundcolor": "#E5ECF6",
            "gridcolor": "white",
            "gridwidth": 2,
            "linecolor": "white",
            "showbackground": true,
            "ticks": "",
            "zerolinecolor": "white"
           },
           "yaxis": {
            "backgroundcolor": "#E5ECF6",
            "gridcolor": "white",
            "gridwidth": 2,
            "linecolor": "white",
            "showbackground": true,
            "ticks": "",
            "zerolinecolor": "white"
           },
           "zaxis": {
            "backgroundcolor": "#E5ECF6",
            "gridcolor": "white",
            "gridwidth": 2,
            "linecolor": "white",
            "showbackground": true,
            "ticks": "",
            "zerolinecolor": "white"
           }
          },
          "shapedefaults": {
           "line": {
            "color": "#2a3f5f"
           }
          },
          "ternary": {
           "aaxis": {
            "gridcolor": "white",
            "linecolor": "white",
            "ticks": ""
           },
           "baxis": {
            "gridcolor": "white",
            "linecolor": "white",
            "ticks": ""
           },
           "bgcolor": "#E5ECF6",
           "caxis": {
            "gridcolor": "white",
            "linecolor": "white",
            "ticks": ""
           }
          },
          "title": {
           "x": 0.05
          },
          "xaxis": {
           "automargin": true,
           "gridcolor": "white",
           "linecolor": "white",
           "ticks": "",
           "title": {
            "standoff": 15
           },
           "zerolinecolor": "white",
           "zerolinewidth": 2
          },
          "yaxis": {
           "automargin": true,
           "gridcolor": "white",
           "linecolor": "white",
           "ticks": "",
           "title": {
            "standoff": 15
           },
           "zerolinecolor": "white",
           "zerolinewidth": 2
          }
         }
        },
        "xaxis": {
         "anchor": "y",
         "domain": [
          0,
          1
         ],
         "title": {
          "text": "#ids"
         }
        },
        "yaxis": {
         "anchor": "x",
         "categoryorder": "total ascending",
         "domain": [
          0,
          1
         ],
         "title": {
          "text": "sample"
         }
        }
       }
      },
      "text/html": [
       "<div>                            <div id=\"53d41149-dc4d-4823-8dc4-1c04f4048a39\" class=\"plotly-graph-div\" style=\"height:525px; width:100%;\"></div>            <script type=\"text/javascript\">                require([\"plotly\"], function(Plotly) {                    window.PLOTLYENV=window.PLOTLYENV || {};                                    if (document.getElementById(\"53d41149-dc4d-4823-8dc4-1c04f4048a39\")) {                    Plotly.newPlot(                        \"53d41149-dc4d-4823-8dc4-1c04f4048a39\",                        [{\"alignmentgroup\": \"True\", \"hovertemplate\": \"#ids=%{x}<br>sample=%{y}<extra></extra>\", \"legendgroup\": \"\", \"marker\": {\"color\": \"#636efa\"}, \"name\": \"\", \"offsetgroup\": \"\", \"orientation\": \"h\", \"showlegend\": false, \"textposition\": \"auto\", \"type\": \"bar\", \"x\": [109687, 99600, 72178], \"xaxis\": \"x\", \"y\": [\"PXD000561_full\", \"PXD000561_nocorr_nort\", \"PXD000561_closed\"], \"yaxis\": \"y\"}],                        {\"barmode\": \"relative\", \"legend\": {\"tracegroupgap\": 0}, \"margin\": {\"t\": 60}, \"template\": {\"data\": {\"bar\": [{\"error_x\": {\"color\": \"#2a3f5f\"}, \"error_y\": {\"color\": \"#2a3f5f\"}, \"marker\": {\"line\": {\"color\": \"#E5ECF6\", \"width\": 0.5}}, \"type\": \"bar\"}], \"barpolar\": [{\"marker\": {\"line\": {\"color\": \"#E5ECF6\", \"width\": 0.5}}, \"type\": \"barpolar\"}], \"carpet\": [{\"aaxis\": {\"endlinecolor\": \"#2a3f5f\", \"gridcolor\": \"white\", \"linecolor\": \"white\", \"minorgridcolor\": \"white\", \"startlinecolor\": \"#2a3f5f\"}, \"baxis\": {\"endlinecolor\": \"#2a3f5f\", \"gridcolor\": \"white\", \"linecolor\": \"white\", \"minorgridcolor\": \"white\", \"startlinecolor\": \"#2a3f5f\"}, \"type\": \"carpet\"}], \"choropleth\": [{\"colorbar\": {\"outlinewidth\": 0, \"ticks\": \"\"}, \"type\": \"choropleth\"}], \"contour\": [{\"colorbar\": {\"outlinewidth\": 0, \"ticks\": \"\"}, \"colorscale\": [[0.0, \"#0d0887\"], [0.1111111111111111, \"#46039f\"], [0.2222222222222222, \"#7201a8\"], [0.3333333333333333, \"#9c179e\"], [0.4444444444444444, \"#bd3786\"], [0.5555555555555556, \"#d8576b\"], [0.6666666666666666, \"#ed7953\"], [0.7777777777777778, \"#fb9f3a\"], [0.8888888888888888, \"#fdca26\"], [1.0, \"#f0f921\"]], \"type\": \"contour\"}], \"contourcarpet\": [{\"colorbar\": {\"outlinewidth\": 0, \"ticks\": \"\"}, \"type\": \"contourcarpet\"}], \"heatmap\": [{\"colorbar\": {\"outlinewidth\": 0, \"ticks\": \"\"}, \"colorscale\": [[0.0, \"#0d0887\"], [0.1111111111111111, \"#46039f\"], [0.2222222222222222, \"#7201a8\"], [0.3333333333333333, \"#9c179e\"], [0.4444444444444444, \"#bd3786\"], [0.5555555555555556, \"#d8576b\"], [0.6666666666666666, \"#ed7953\"], [0.7777777777777778, \"#fb9f3a\"], [0.8888888888888888, \"#fdca26\"], [1.0, \"#f0f921\"]], \"type\": \"heatmap\"}], \"heatmapgl\": [{\"colorbar\": {\"outlinewidth\": 0, \"ticks\": \"\"}, \"colorscale\": [[0.0, \"#0d0887\"], [0.1111111111111111, \"#46039f\"], [0.2222222222222222, \"#7201a8\"], [0.3333333333333333, \"#9c179e\"], [0.4444444444444444, \"#bd3786\"], [0.5555555555555556, \"#d8576b\"], [0.6666666666666666, \"#ed7953\"], [0.7777777777777778, \"#fb9f3a\"], [0.8888888888888888, \"#fdca26\"], [1.0, \"#f0f921\"]], \"type\": \"heatmapgl\"}], \"histogram\": [{\"marker\": {\"colorbar\": {\"outlinewidth\": 0, \"ticks\": \"\"}}, \"type\": \"histogram\"}], \"histogram2d\": [{\"colorbar\": {\"outlinewidth\": 0, \"ticks\": \"\"}, \"colorscale\": [[0.0, \"#0d0887\"], [0.1111111111111111, \"#46039f\"], [0.2222222222222222, \"#7201a8\"], [0.3333333333333333, \"#9c179e\"], [0.4444444444444444, \"#bd3786\"], [0.5555555555555556, \"#d8576b\"], [0.6666666666666666, \"#ed7953\"], [0.7777777777777778, \"#fb9f3a\"], [0.8888888888888888, \"#fdca26\"], [1.0, \"#f0f921\"]], \"type\": \"histogram2d\"}], \"histogram2dcontour\": [{\"colorbar\": {\"outlinewidth\": 0, \"ticks\": \"\"}, \"colorscale\": [[0.0, \"#0d0887\"], [0.1111111111111111, \"#46039f\"], [0.2222222222222222, \"#7201a8\"], [0.3333333333333333, \"#9c179e\"], [0.4444444444444444, \"#bd3786\"], [0.5555555555555556, \"#d8576b\"], [0.6666666666666666, \"#ed7953\"], [0.7777777777777778, \"#fb9f3a\"], [0.8888888888888888, \"#fdca26\"], [1.0, \"#f0f921\"]], \"type\": \"histogram2dcontour\"}], \"mesh3d\": [{\"colorbar\": {\"outlinewidth\": 0, \"ticks\": \"\"}, \"type\": \"mesh3d\"}], \"parcoords\": [{\"line\": {\"colorbar\": {\"outlinewidth\": 0, \"ticks\": \"\"}}, \"type\": \"parcoords\"}], \"pie\": [{\"automargin\": true, \"type\": \"pie\"}], \"scatter\": [{\"marker\": {\"colorbar\": {\"outlinewidth\": 0, \"ticks\": \"\"}}, \"type\": \"scatter\"}], \"scatter3d\": [{\"line\": {\"colorbar\": {\"outlinewidth\": 0, \"ticks\": \"\"}}, \"marker\": {\"colorbar\": {\"outlinewidth\": 0, \"ticks\": \"\"}}, \"type\": \"scatter3d\"}], \"scattercarpet\": [{\"marker\": {\"colorbar\": {\"outlinewidth\": 0, \"ticks\": \"\"}}, \"type\": \"scattercarpet\"}], \"scattergeo\": [{\"marker\": {\"colorbar\": {\"outlinewidth\": 0, \"ticks\": \"\"}}, \"type\": \"scattergeo\"}], \"scattergl\": [{\"marker\": {\"colorbar\": {\"outlinewidth\": 0, \"ticks\": \"\"}}, \"type\": \"scattergl\"}], \"scattermapbox\": [{\"marker\": {\"colorbar\": {\"outlinewidth\": 0, \"ticks\": \"\"}}, \"type\": \"scattermapbox\"}], \"scatterpolar\": [{\"marker\": {\"colorbar\": {\"outlinewidth\": 0, \"ticks\": \"\"}}, \"type\": \"scatterpolar\"}], \"scatterpolargl\": [{\"marker\": {\"colorbar\": {\"outlinewidth\": 0, \"ticks\": \"\"}}, \"type\": \"scatterpolargl\"}], \"scatterternary\": [{\"marker\": {\"colorbar\": {\"outlinewidth\": 0, \"ticks\": \"\"}}, \"type\": \"scatterternary\"}], \"surface\": [{\"colorbar\": {\"outlinewidth\": 0, \"ticks\": \"\"}, \"colorscale\": [[0.0, \"#0d0887\"], [0.1111111111111111, \"#46039f\"], [0.2222222222222222, \"#7201a8\"], [0.3333333333333333, \"#9c179e\"], [0.4444444444444444, \"#bd3786\"], [0.5555555555555556, \"#d8576b\"], [0.6666666666666666, \"#ed7953\"], [0.7777777777777778, \"#fb9f3a\"], [0.8888888888888888, \"#fdca26\"], [1.0, \"#f0f921\"]], \"type\": \"surface\"}], \"table\": [{\"cells\": {\"fill\": {\"color\": \"#EBF0F8\"}, \"line\": {\"color\": \"white\"}}, \"header\": {\"fill\": {\"color\": \"#C8D4E3\"}, \"line\": {\"color\": \"white\"}}, \"type\": \"table\"}]}, \"layout\": {\"annotationdefaults\": {\"arrowcolor\": \"#2a3f5f\", \"arrowhead\": 0, \"arrowwidth\": 1}, \"coloraxis\": {\"colorbar\": {\"outlinewidth\": 0, \"ticks\": \"\"}}, \"colorscale\": {\"diverging\": [[0, \"#8e0152\"], [0.1, \"#c51b7d\"], [0.2, \"#de77ae\"], [0.3, \"#f1b6da\"], [0.4, \"#fde0ef\"], [0.5, \"#f7f7f7\"], [0.6, \"#e6f5d0\"], [0.7, \"#b8e186\"], [0.8, \"#7fbc41\"], [0.9, \"#4d9221\"], [1, \"#276419\"]], \"sequential\": [[0.0, \"#0d0887\"], [0.1111111111111111, \"#46039f\"], [0.2222222222222222, \"#7201a8\"], [0.3333333333333333, \"#9c179e\"], [0.4444444444444444, \"#bd3786\"], [0.5555555555555556, \"#d8576b\"], [0.6666666666666666, \"#ed7953\"], [0.7777777777777778, \"#fb9f3a\"], [0.8888888888888888, \"#fdca26\"], [1.0, \"#f0f921\"]], \"sequentialminus\": [[0.0, \"#0d0887\"], [0.1111111111111111, \"#46039f\"], [0.2222222222222222, \"#7201a8\"], [0.3333333333333333, \"#9c179e\"], [0.4444444444444444, \"#bd3786\"], [0.5555555555555556, \"#d8576b\"], [0.6666666666666666, \"#ed7953\"], [0.7777777777777778, \"#fb9f3a\"], [0.8888888888888888, \"#fdca26\"], [1.0, \"#f0f921\"]]}, \"colorway\": [\"#636efa\", \"#EF553B\", \"#00cc96\", \"#ab63fa\", \"#FFA15A\", \"#19d3f3\", \"#FF6692\", \"#B6E880\", \"#FF97FF\", \"#FECB52\"], \"font\": {\"color\": \"#2a3f5f\"}, \"geo\": {\"bgcolor\": \"white\", \"lakecolor\": \"white\", \"landcolor\": \"#E5ECF6\", \"showlakes\": true, \"showland\": true, \"subunitcolor\": \"white\"}, \"hoverlabel\": {\"align\": \"left\"}, \"hovermode\": \"closest\", \"mapbox\": {\"style\": \"light\"}, \"paper_bgcolor\": \"white\", \"plot_bgcolor\": \"#E5ECF6\", \"polar\": {\"angularaxis\": {\"gridcolor\": \"white\", \"linecolor\": \"white\", \"ticks\": \"\"}, \"bgcolor\": \"#E5ECF6\", \"radialaxis\": {\"gridcolor\": \"white\", \"linecolor\": \"white\", \"ticks\": \"\"}}, \"scene\": {\"xaxis\": {\"backgroundcolor\": \"#E5ECF6\", \"gridcolor\": \"white\", \"gridwidth\": 2, \"linecolor\": \"white\", \"showbackground\": true, \"ticks\": \"\", \"zerolinecolor\": \"white\"}, \"yaxis\": {\"backgroundcolor\": \"#E5ECF6\", \"gridcolor\": \"white\", \"gridwidth\": 2, \"linecolor\": \"white\", \"showbackground\": true, \"ticks\": \"\", \"zerolinecolor\": \"white\"}, \"zaxis\": {\"backgroundcolor\": \"#E5ECF6\", \"gridcolor\": \"white\", \"gridwidth\": 2, \"linecolor\": \"white\", \"showbackground\": true, \"ticks\": \"\", \"zerolinecolor\": \"white\"}}, \"shapedefaults\": {\"line\": {\"color\": \"#2a3f5f\"}}, \"ternary\": {\"aaxis\": {\"gridcolor\": \"white\", \"linecolor\": \"white\", \"ticks\": \"\"}, \"baxis\": {\"gridcolor\": \"white\", \"linecolor\": \"white\", \"ticks\": \"\"}, \"bgcolor\": \"#E5ECF6\", \"caxis\": {\"gridcolor\": \"white\", \"linecolor\": \"white\", \"ticks\": \"\"}}, \"title\": {\"x\": 0.05}, \"xaxis\": {\"automargin\": true, \"gridcolor\": \"white\", \"linecolor\": \"white\", \"ticks\": \"\", \"title\": {\"standoff\": 15}, \"zerolinecolor\": \"white\", \"zerolinewidth\": 2}, \"yaxis\": {\"automargin\": true, \"gridcolor\": \"white\", \"linecolor\": \"white\", \"ticks\": \"\", \"title\": {\"standoff\": 15}, \"zerolinecolor\": \"white\", \"zerolinewidth\": 2}}}, \"xaxis\": {\"anchor\": \"y\", \"domain\": [0.0, 1.0], \"title\": {\"text\": \"#ids\"}}, \"yaxis\": {\"anchor\": \"x\", \"categoryorder\": \"total ascending\", \"domain\": [0.0, 1.0], \"title\": {\"text\": \"sample\"}}},                        {\"responsive\": true}                    ).then(function(){\n",
       "                            \n",
       "var gd = document.getElementById('53d41149-dc4d-4823-8dc4-1c04f4048a39');\n",
       "var x = new MutationObserver(function (mutations, observer) {{\n",
       "        var display = window.getComputedStyle(gd).display;\n",
       "        if (!display || display === 'none') {{\n",
       "            console.log([gd, 'removed!']);\n",
       "            Plotly.purge(gd);\n",
       "            observer.disconnect();\n",
       "        }}\n",
       "}});\n",
       "\n",
       "// Listen for the removal of the full notebook cells\n",
       "var notebookContainer = gd.closest('#notebook-container');\n",
       "if (notebookContainer) {{\n",
       "    x.observe(notebookContainer, {childList: true});\n",
       "}}\n",
       "\n",
       "// Listen for the clearing of the current output cell\n",
       "var outputEl = gd.closest('.output');\n",
       "if (outputEl) {{\n",
       "    x.observe(outputEl, {childList: true});\n",
       "}}\n",
       "\n",
       "                        })                };                });            </script>        </div>"
      ]
     },
     "metadata": {},
     "output_type": "display_data"
    }
   ],
   "source": [
    "tmp = ionbot.drop_duplicates([\"sample\",\"matched_peptide\",\"modifications\"],keep=\"first\")\n",
    "tmp = tmp[\"sample\"].value_counts().reset_index(level=0)\n",
    "tmp.columns = [\"sample\",\"#ids\"]\n",
    "fig = px.bar(tmp, y='sample', x='#ids', orientation='h')\n",
    "fig.update_layout(yaxis={'categoryorder':'total ascending'})\n",
    "fig.show()"
   ]
  },
  {
   "cell_type": "code",
   "execution_count": 29,
   "metadata": {},
   "outputs": [
    {
     "data": {
      "application/vnd.plotly.v1+json": {
       "config": {
        "plotlyServerURL": "https://plot.ly"
       },
       "data": [
        {
         "alignmentgroup": "True",
         "hovertemplate": "#ids=%{x}<br>sample=%{y}<extra></extra>",
         "legendgroup": "",
         "marker": {
          "color": "#636efa"
         },
         "name": "",
         "offsetgroup": "",
         "orientation": "h",
         "showlegend": false,
         "textposition": "auto",
         "type": "bar",
         "x": [
          75915,
          68366,
          64630
         ],
         "xaxis": "x",
         "y": [
          "PXD000561_full",
          "PXD000561_nocorr_nort",
          "PXD000561_closed"
         ],
         "yaxis": "y"
        }
       ],
       "layout": {
        "barmode": "relative",
        "legend": {
         "tracegroupgap": 0
        },
        "margin": {
         "t": 60
        },
        "template": {
         "data": {
          "bar": [
           {
            "error_x": {
             "color": "#2a3f5f"
            },
            "error_y": {
             "color": "#2a3f5f"
            },
            "marker": {
             "line": {
              "color": "#E5ECF6",
              "width": 0.5
             }
            },
            "type": "bar"
           }
          ],
          "barpolar": [
           {
            "marker": {
             "line": {
              "color": "#E5ECF6",
              "width": 0.5
             }
            },
            "type": "barpolar"
           }
          ],
          "carpet": [
           {
            "aaxis": {
             "endlinecolor": "#2a3f5f",
             "gridcolor": "white",
             "linecolor": "white",
             "minorgridcolor": "white",
             "startlinecolor": "#2a3f5f"
            },
            "baxis": {
             "endlinecolor": "#2a3f5f",
             "gridcolor": "white",
             "linecolor": "white",
             "minorgridcolor": "white",
             "startlinecolor": "#2a3f5f"
            },
            "type": "carpet"
           }
          ],
          "choropleth": [
           {
            "colorbar": {
             "outlinewidth": 0,
             "ticks": ""
            },
            "type": "choropleth"
           }
          ],
          "contour": [
           {
            "colorbar": {
             "outlinewidth": 0,
             "ticks": ""
            },
            "colorscale": [
             [
              0,
              "#0d0887"
             ],
             [
              0.1111111111111111,
              "#46039f"
             ],
             [
              0.2222222222222222,
              "#7201a8"
             ],
             [
              0.3333333333333333,
              "#9c179e"
             ],
             [
              0.4444444444444444,
              "#bd3786"
             ],
             [
              0.5555555555555556,
              "#d8576b"
             ],
             [
              0.6666666666666666,
              "#ed7953"
             ],
             [
              0.7777777777777778,
              "#fb9f3a"
             ],
             [
              0.8888888888888888,
              "#fdca26"
             ],
             [
              1,
              "#f0f921"
             ]
            ],
            "type": "contour"
           }
          ],
          "contourcarpet": [
           {
            "colorbar": {
             "outlinewidth": 0,
             "ticks": ""
            },
            "type": "contourcarpet"
           }
          ],
          "heatmap": [
           {
            "colorbar": {
             "outlinewidth": 0,
             "ticks": ""
            },
            "colorscale": [
             [
              0,
              "#0d0887"
             ],
             [
              0.1111111111111111,
              "#46039f"
             ],
             [
              0.2222222222222222,
              "#7201a8"
             ],
             [
              0.3333333333333333,
              "#9c179e"
             ],
             [
              0.4444444444444444,
              "#bd3786"
             ],
             [
              0.5555555555555556,
              "#d8576b"
             ],
             [
              0.6666666666666666,
              "#ed7953"
             ],
             [
              0.7777777777777778,
              "#fb9f3a"
             ],
             [
              0.8888888888888888,
              "#fdca26"
             ],
             [
              1,
              "#f0f921"
             ]
            ],
            "type": "heatmap"
           }
          ],
          "heatmapgl": [
           {
            "colorbar": {
             "outlinewidth": 0,
             "ticks": ""
            },
            "colorscale": [
             [
              0,
              "#0d0887"
             ],
             [
              0.1111111111111111,
              "#46039f"
             ],
             [
              0.2222222222222222,
              "#7201a8"
             ],
             [
              0.3333333333333333,
              "#9c179e"
             ],
             [
              0.4444444444444444,
              "#bd3786"
             ],
             [
              0.5555555555555556,
              "#d8576b"
             ],
             [
              0.6666666666666666,
              "#ed7953"
             ],
             [
              0.7777777777777778,
              "#fb9f3a"
             ],
             [
              0.8888888888888888,
              "#fdca26"
             ],
             [
              1,
              "#f0f921"
             ]
            ],
            "type": "heatmapgl"
           }
          ],
          "histogram": [
           {
            "marker": {
             "colorbar": {
              "outlinewidth": 0,
              "ticks": ""
             }
            },
            "type": "histogram"
           }
          ],
          "histogram2d": [
           {
            "colorbar": {
             "outlinewidth": 0,
             "ticks": ""
            },
            "colorscale": [
             [
              0,
              "#0d0887"
             ],
             [
              0.1111111111111111,
              "#46039f"
             ],
             [
              0.2222222222222222,
              "#7201a8"
             ],
             [
              0.3333333333333333,
              "#9c179e"
             ],
             [
              0.4444444444444444,
              "#bd3786"
             ],
             [
              0.5555555555555556,
              "#d8576b"
             ],
             [
              0.6666666666666666,
              "#ed7953"
             ],
             [
              0.7777777777777778,
              "#fb9f3a"
             ],
             [
              0.8888888888888888,
              "#fdca26"
             ],
             [
              1,
              "#f0f921"
             ]
            ],
            "type": "histogram2d"
           }
          ],
          "histogram2dcontour": [
           {
            "colorbar": {
             "outlinewidth": 0,
             "ticks": ""
            },
            "colorscale": [
             [
              0,
              "#0d0887"
             ],
             [
              0.1111111111111111,
              "#46039f"
             ],
             [
              0.2222222222222222,
              "#7201a8"
             ],
             [
              0.3333333333333333,
              "#9c179e"
             ],
             [
              0.4444444444444444,
              "#bd3786"
             ],
             [
              0.5555555555555556,
              "#d8576b"
             ],
             [
              0.6666666666666666,
              "#ed7953"
             ],
             [
              0.7777777777777778,
              "#fb9f3a"
             ],
             [
              0.8888888888888888,
              "#fdca26"
             ],
             [
              1,
              "#f0f921"
             ]
            ],
            "type": "histogram2dcontour"
           }
          ],
          "mesh3d": [
           {
            "colorbar": {
             "outlinewidth": 0,
             "ticks": ""
            },
            "type": "mesh3d"
           }
          ],
          "parcoords": [
           {
            "line": {
             "colorbar": {
              "outlinewidth": 0,
              "ticks": ""
             }
            },
            "type": "parcoords"
           }
          ],
          "pie": [
           {
            "automargin": true,
            "type": "pie"
           }
          ],
          "scatter": [
           {
            "marker": {
             "colorbar": {
              "outlinewidth": 0,
              "ticks": ""
             }
            },
            "type": "scatter"
           }
          ],
          "scatter3d": [
           {
            "line": {
             "colorbar": {
              "outlinewidth": 0,
              "ticks": ""
             }
            },
            "marker": {
             "colorbar": {
              "outlinewidth": 0,
              "ticks": ""
             }
            },
            "type": "scatter3d"
           }
          ],
          "scattercarpet": [
           {
            "marker": {
             "colorbar": {
              "outlinewidth": 0,
              "ticks": ""
             }
            },
            "type": "scattercarpet"
           }
          ],
          "scattergeo": [
           {
            "marker": {
             "colorbar": {
              "outlinewidth": 0,
              "ticks": ""
             }
            },
            "type": "scattergeo"
           }
          ],
          "scattergl": [
           {
            "marker": {
             "colorbar": {
              "outlinewidth": 0,
              "ticks": ""
             }
            },
            "type": "scattergl"
           }
          ],
          "scattermapbox": [
           {
            "marker": {
             "colorbar": {
              "outlinewidth": 0,
              "ticks": ""
             }
            },
            "type": "scattermapbox"
           }
          ],
          "scatterpolar": [
           {
            "marker": {
             "colorbar": {
              "outlinewidth": 0,
              "ticks": ""
             }
            },
            "type": "scatterpolar"
           }
          ],
          "scatterpolargl": [
           {
            "marker": {
             "colorbar": {
              "outlinewidth": 0,
              "ticks": ""
             }
            },
            "type": "scatterpolargl"
           }
          ],
          "scatterternary": [
           {
            "marker": {
             "colorbar": {
              "outlinewidth": 0,
              "ticks": ""
             }
            },
            "type": "scatterternary"
           }
          ],
          "surface": [
           {
            "colorbar": {
             "outlinewidth": 0,
             "ticks": ""
            },
            "colorscale": [
             [
              0,
              "#0d0887"
             ],
             [
              0.1111111111111111,
              "#46039f"
             ],
             [
              0.2222222222222222,
              "#7201a8"
             ],
             [
              0.3333333333333333,
              "#9c179e"
             ],
             [
              0.4444444444444444,
              "#bd3786"
             ],
             [
              0.5555555555555556,
              "#d8576b"
             ],
             [
              0.6666666666666666,
              "#ed7953"
             ],
             [
              0.7777777777777778,
              "#fb9f3a"
             ],
             [
              0.8888888888888888,
              "#fdca26"
             ],
             [
              1,
              "#f0f921"
             ]
            ],
            "type": "surface"
           }
          ],
          "table": [
           {
            "cells": {
             "fill": {
              "color": "#EBF0F8"
             },
             "line": {
              "color": "white"
             }
            },
            "header": {
             "fill": {
              "color": "#C8D4E3"
             },
             "line": {
              "color": "white"
             }
            },
            "type": "table"
           }
          ]
         },
         "layout": {
          "annotationdefaults": {
           "arrowcolor": "#2a3f5f",
           "arrowhead": 0,
           "arrowwidth": 1
          },
          "coloraxis": {
           "colorbar": {
            "outlinewidth": 0,
            "ticks": ""
           }
          },
          "colorscale": {
           "diverging": [
            [
             0,
             "#8e0152"
            ],
            [
             0.1,
             "#c51b7d"
            ],
            [
             0.2,
             "#de77ae"
            ],
            [
             0.3,
             "#f1b6da"
            ],
            [
             0.4,
             "#fde0ef"
            ],
            [
             0.5,
             "#f7f7f7"
            ],
            [
             0.6,
             "#e6f5d0"
            ],
            [
             0.7,
             "#b8e186"
            ],
            [
             0.8,
             "#7fbc41"
            ],
            [
             0.9,
             "#4d9221"
            ],
            [
             1,
             "#276419"
            ]
           ],
           "sequential": [
            [
             0,
             "#0d0887"
            ],
            [
             0.1111111111111111,
             "#46039f"
            ],
            [
             0.2222222222222222,
             "#7201a8"
            ],
            [
             0.3333333333333333,
             "#9c179e"
            ],
            [
             0.4444444444444444,
             "#bd3786"
            ],
            [
             0.5555555555555556,
             "#d8576b"
            ],
            [
             0.6666666666666666,
             "#ed7953"
            ],
            [
             0.7777777777777778,
             "#fb9f3a"
            ],
            [
             0.8888888888888888,
             "#fdca26"
            ],
            [
             1,
             "#f0f921"
            ]
           ],
           "sequentialminus": [
            [
             0,
             "#0d0887"
            ],
            [
             0.1111111111111111,
             "#46039f"
            ],
            [
             0.2222222222222222,
             "#7201a8"
            ],
            [
             0.3333333333333333,
             "#9c179e"
            ],
            [
             0.4444444444444444,
             "#bd3786"
            ],
            [
             0.5555555555555556,
             "#d8576b"
            ],
            [
             0.6666666666666666,
             "#ed7953"
            ],
            [
             0.7777777777777778,
             "#fb9f3a"
            ],
            [
             0.8888888888888888,
             "#fdca26"
            ],
            [
             1,
             "#f0f921"
            ]
           ]
          },
          "colorway": [
           "#636efa",
           "#EF553B",
           "#00cc96",
           "#ab63fa",
           "#FFA15A",
           "#19d3f3",
           "#FF6692",
           "#B6E880",
           "#FF97FF",
           "#FECB52"
          ],
          "font": {
           "color": "#2a3f5f"
          },
          "geo": {
           "bgcolor": "white",
           "lakecolor": "white",
           "landcolor": "#E5ECF6",
           "showlakes": true,
           "showland": true,
           "subunitcolor": "white"
          },
          "hoverlabel": {
           "align": "left"
          },
          "hovermode": "closest",
          "mapbox": {
           "style": "light"
          },
          "paper_bgcolor": "white",
          "plot_bgcolor": "#E5ECF6",
          "polar": {
           "angularaxis": {
            "gridcolor": "white",
            "linecolor": "white",
            "ticks": ""
           },
           "bgcolor": "#E5ECF6",
           "radialaxis": {
            "gridcolor": "white",
            "linecolor": "white",
            "ticks": ""
           }
          },
          "scene": {
           "xaxis": {
            "backgroundcolor": "#E5ECF6",
            "gridcolor": "white",
            "gridwidth": 2,
            "linecolor": "white",
            "showbackground": true,
            "ticks": "",
            "zerolinecolor": "white"
           },
           "yaxis": {
            "backgroundcolor": "#E5ECF6",
            "gridcolor": "white",
            "gridwidth": 2,
            "linecolor": "white",
            "showbackground": true,
            "ticks": "",
            "zerolinecolor": "white"
           },
           "zaxis": {
            "backgroundcolor": "#E5ECF6",
            "gridcolor": "white",
            "gridwidth": 2,
            "linecolor": "white",
            "showbackground": true,
            "ticks": "",
            "zerolinecolor": "white"
           }
          },
          "shapedefaults": {
           "line": {
            "color": "#2a3f5f"
           }
          },
          "ternary": {
           "aaxis": {
            "gridcolor": "white",
            "linecolor": "white",
            "ticks": ""
           },
           "baxis": {
            "gridcolor": "white",
            "linecolor": "white",
            "ticks": ""
           },
           "bgcolor": "#E5ECF6",
           "caxis": {
            "gridcolor": "white",
            "linecolor": "white",
            "ticks": ""
           }
          },
          "title": {
           "x": 0.05
          },
          "xaxis": {
           "automargin": true,
           "gridcolor": "white",
           "linecolor": "white",
           "ticks": "",
           "title": {
            "standoff": 15
           },
           "zerolinecolor": "white",
           "zerolinewidth": 2
          },
          "yaxis": {
           "automargin": true,
           "gridcolor": "white",
           "linecolor": "white",
           "ticks": "",
           "title": {
            "standoff": 15
           },
           "zerolinecolor": "white",
           "zerolinewidth": 2
          }
         }
        },
        "xaxis": {
         "anchor": "y",
         "domain": [
          0,
          1
         ],
         "title": {
          "text": "#ids"
         }
        },
        "yaxis": {
         "anchor": "x",
         "categoryorder": "total ascending",
         "domain": [
          0,
          1
         ],
         "title": {
          "text": "sample"
         }
        }
       }
      },
      "text/html": [
       "<div>                            <div id=\"fac40f7e-5d5b-4834-906a-5373557130a7\" class=\"plotly-graph-div\" style=\"height:525px; width:100%;\"></div>            <script type=\"text/javascript\">                require([\"plotly\"], function(Plotly) {                    window.PLOTLYENV=window.PLOTLYENV || {};                                    if (document.getElementById(\"fac40f7e-5d5b-4834-906a-5373557130a7\")) {                    Plotly.newPlot(                        \"fac40f7e-5d5b-4834-906a-5373557130a7\",                        [{\"alignmentgroup\": \"True\", \"hovertemplate\": \"#ids=%{x}<br>sample=%{y}<extra></extra>\", \"legendgroup\": \"\", \"marker\": {\"color\": \"#636efa\"}, \"name\": \"\", \"offsetgroup\": \"\", \"orientation\": \"h\", \"showlegend\": false, \"textposition\": \"auto\", \"type\": \"bar\", \"x\": [75915, 68366, 64630], \"xaxis\": \"x\", \"y\": [\"PXD000561_full\", \"PXD000561_nocorr_nort\", \"PXD000561_closed\"], \"yaxis\": \"y\"}],                        {\"barmode\": \"relative\", \"legend\": {\"tracegroupgap\": 0}, \"margin\": {\"t\": 60}, \"template\": {\"data\": {\"bar\": [{\"error_x\": {\"color\": \"#2a3f5f\"}, \"error_y\": {\"color\": \"#2a3f5f\"}, \"marker\": {\"line\": {\"color\": \"#E5ECF6\", \"width\": 0.5}}, \"type\": \"bar\"}], \"barpolar\": [{\"marker\": {\"line\": {\"color\": \"#E5ECF6\", \"width\": 0.5}}, \"type\": \"barpolar\"}], \"carpet\": [{\"aaxis\": {\"endlinecolor\": \"#2a3f5f\", \"gridcolor\": \"white\", \"linecolor\": \"white\", \"minorgridcolor\": \"white\", \"startlinecolor\": \"#2a3f5f\"}, \"baxis\": {\"endlinecolor\": \"#2a3f5f\", \"gridcolor\": \"white\", \"linecolor\": \"white\", \"minorgridcolor\": \"white\", \"startlinecolor\": \"#2a3f5f\"}, \"type\": \"carpet\"}], \"choropleth\": [{\"colorbar\": {\"outlinewidth\": 0, \"ticks\": \"\"}, \"type\": \"choropleth\"}], \"contour\": [{\"colorbar\": {\"outlinewidth\": 0, \"ticks\": \"\"}, \"colorscale\": [[0.0, \"#0d0887\"], [0.1111111111111111, \"#46039f\"], [0.2222222222222222, \"#7201a8\"], [0.3333333333333333, \"#9c179e\"], [0.4444444444444444, \"#bd3786\"], [0.5555555555555556, \"#d8576b\"], [0.6666666666666666, \"#ed7953\"], [0.7777777777777778, \"#fb9f3a\"], [0.8888888888888888, \"#fdca26\"], [1.0, \"#f0f921\"]], \"type\": \"contour\"}], \"contourcarpet\": [{\"colorbar\": {\"outlinewidth\": 0, \"ticks\": \"\"}, \"type\": \"contourcarpet\"}], \"heatmap\": [{\"colorbar\": {\"outlinewidth\": 0, \"ticks\": \"\"}, \"colorscale\": [[0.0, \"#0d0887\"], [0.1111111111111111, \"#46039f\"], [0.2222222222222222, \"#7201a8\"], [0.3333333333333333, \"#9c179e\"], [0.4444444444444444, \"#bd3786\"], [0.5555555555555556, \"#d8576b\"], [0.6666666666666666, \"#ed7953\"], [0.7777777777777778, \"#fb9f3a\"], [0.8888888888888888, \"#fdca26\"], [1.0, \"#f0f921\"]], \"type\": \"heatmap\"}], \"heatmapgl\": [{\"colorbar\": {\"outlinewidth\": 0, \"ticks\": \"\"}, \"colorscale\": [[0.0, \"#0d0887\"], [0.1111111111111111, \"#46039f\"], [0.2222222222222222, \"#7201a8\"], [0.3333333333333333, \"#9c179e\"], [0.4444444444444444, \"#bd3786\"], [0.5555555555555556, \"#d8576b\"], [0.6666666666666666, \"#ed7953\"], [0.7777777777777778, \"#fb9f3a\"], [0.8888888888888888, \"#fdca26\"], [1.0, \"#f0f921\"]], \"type\": \"heatmapgl\"}], \"histogram\": [{\"marker\": {\"colorbar\": {\"outlinewidth\": 0, \"ticks\": \"\"}}, \"type\": \"histogram\"}], \"histogram2d\": [{\"colorbar\": {\"outlinewidth\": 0, \"ticks\": \"\"}, \"colorscale\": [[0.0, \"#0d0887\"], [0.1111111111111111, \"#46039f\"], [0.2222222222222222, \"#7201a8\"], [0.3333333333333333, \"#9c179e\"], [0.4444444444444444, \"#bd3786\"], [0.5555555555555556, \"#d8576b\"], [0.6666666666666666, \"#ed7953\"], [0.7777777777777778, \"#fb9f3a\"], [0.8888888888888888, \"#fdca26\"], [1.0, \"#f0f921\"]], \"type\": \"histogram2d\"}], \"histogram2dcontour\": [{\"colorbar\": {\"outlinewidth\": 0, \"ticks\": \"\"}, \"colorscale\": [[0.0, \"#0d0887\"], [0.1111111111111111, \"#46039f\"], [0.2222222222222222, \"#7201a8\"], [0.3333333333333333, \"#9c179e\"], [0.4444444444444444, \"#bd3786\"], [0.5555555555555556, \"#d8576b\"], [0.6666666666666666, \"#ed7953\"], [0.7777777777777778, \"#fb9f3a\"], [0.8888888888888888, \"#fdca26\"], [1.0, \"#f0f921\"]], \"type\": \"histogram2dcontour\"}], \"mesh3d\": [{\"colorbar\": {\"outlinewidth\": 0, \"ticks\": \"\"}, \"type\": \"mesh3d\"}], \"parcoords\": [{\"line\": {\"colorbar\": {\"outlinewidth\": 0, \"ticks\": \"\"}}, \"type\": \"parcoords\"}], \"pie\": [{\"automargin\": true, \"type\": \"pie\"}], \"scatter\": [{\"marker\": {\"colorbar\": {\"outlinewidth\": 0, \"ticks\": \"\"}}, \"type\": \"scatter\"}], \"scatter3d\": [{\"line\": {\"colorbar\": {\"outlinewidth\": 0, \"ticks\": \"\"}}, \"marker\": {\"colorbar\": {\"outlinewidth\": 0, \"ticks\": \"\"}}, \"type\": \"scatter3d\"}], \"scattercarpet\": [{\"marker\": {\"colorbar\": {\"outlinewidth\": 0, \"ticks\": \"\"}}, \"type\": \"scattercarpet\"}], \"scattergeo\": [{\"marker\": {\"colorbar\": {\"outlinewidth\": 0, \"ticks\": \"\"}}, \"type\": \"scattergeo\"}], \"scattergl\": [{\"marker\": {\"colorbar\": {\"outlinewidth\": 0, \"ticks\": \"\"}}, \"type\": \"scattergl\"}], \"scattermapbox\": [{\"marker\": {\"colorbar\": {\"outlinewidth\": 0, \"ticks\": \"\"}}, \"type\": \"scattermapbox\"}], \"scatterpolar\": [{\"marker\": {\"colorbar\": {\"outlinewidth\": 0, \"ticks\": \"\"}}, \"type\": \"scatterpolar\"}], \"scatterpolargl\": [{\"marker\": {\"colorbar\": {\"outlinewidth\": 0, \"ticks\": \"\"}}, \"type\": \"scatterpolargl\"}], \"scatterternary\": [{\"marker\": {\"colorbar\": {\"outlinewidth\": 0, \"ticks\": \"\"}}, \"type\": \"scatterternary\"}], \"surface\": [{\"colorbar\": {\"outlinewidth\": 0, \"ticks\": \"\"}, \"colorscale\": [[0.0, \"#0d0887\"], [0.1111111111111111, \"#46039f\"], [0.2222222222222222, \"#7201a8\"], [0.3333333333333333, \"#9c179e\"], [0.4444444444444444, \"#bd3786\"], [0.5555555555555556, \"#d8576b\"], [0.6666666666666666, \"#ed7953\"], [0.7777777777777778, \"#fb9f3a\"], [0.8888888888888888, \"#fdca26\"], [1.0, \"#f0f921\"]], \"type\": \"surface\"}], \"table\": [{\"cells\": {\"fill\": {\"color\": \"#EBF0F8\"}, \"line\": {\"color\": \"white\"}}, \"header\": {\"fill\": {\"color\": \"#C8D4E3\"}, \"line\": {\"color\": \"white\"}}, \"type\": \"table\"}]}, \"layout\": {\"annotationdefaults\": {\"arrowcolor\": \"#2a3f5f\", \"arrowhead\": 0, \"arrowwidth\": 1}, \"coloraxis\": {\"colorbar\": {\"outlinewidth\": 0, \"ticks\": \"\"}}, \"colorscale\": {\"diverging\": [[0, \"#8e0152\"], [0.1, \"#c51b7d\"], [0.2, \"#de77ae\"], [0.3, \"#f1b6da\"], [0.4, \"#fde0ef\"], [0.5, \"#f7f7f7\"], [0.6, \"#e6f5d0\"], [0.7, \"#b8e186\"], [0.8, \"#7fbc41\"], [0.9, \"#4d9221\"], [1, \"#276419\"]], \"sequential\": [[0.0, \"#0d0887\"], [0.1111111111111111, \"#46039f\"], [0.2222222222222222, \"#7201a8\"], [0.3333333333333333, \"#9c179e\"], [0.4444444444444444, \"#bd3786\"], [0.5555555555555556, \"#d8576b\"], [0.6666666666666666, \"#ed7953\"], [0.7777777777777778, \"#fb9f3a\"], [0.8888888888888888, \"#fdca26\"], [1.0, \"#f0f921\"]], \"sequentialminus\": [[0.0, \"#0d0887\"], [0.1111111111111111, \"#46039f\"], [0.2222222222222222, \"#7201a8\"], [0.3333333333333333, \"#9c179e\"], [0.4444444444444444, \"#bd3786\"], [0.5555555555555556, \"#d8576b\"], [0.6666666666666666, \"#ed7953\"], [0.7777777777777778, \"#fb9f3a\"], [0.8888888888888888, \"#fdca26\"], [1.0, \"#f0f921\"]]}, \"colorway\": [\"#636efa\", \"#EF553B\", \"#00cc96\", \"#ab63fa\", \"#FFA15A\", \"#19d3f3\", \"#FF6692\", \"#B6E880\", \"#FF97FF\", \"#FECB52\"], \"font\": {\"color\": \"#2a3f5f\"}, \"geo\": {\"bgcolor\": \"white\", \"lakecolor\": \"white\", \"landcolor\": \"#E5ECF6\", \"showlakes\": true, \"showland\": true, \"subunitcolor\": \"white\"}, \"hoverlabel\": {\"align\": \"left\"}, \"hovermode\": \"closest\", \"mapbox\": {\"style\": \"light\"}, \"paper_bgcolor\": \"white\", \"plot_bgcolor\": \"#E5ECF6\", \"polar\": {\"angularaxis\": {\"gridcolor\": \"white\", \"linecolor\": \"white\", \"ticks\": \"\"}, \"bgcolor\": \"#E5ECF6\", \"radialaxis\": {\"gridcolor\": \"white\", \"linecolor\": \"white\", \"ticks\": \"\"}}, \"scene\": {\"xaxis\": {\"backgroundcolor\": \"#E5ECF6\", \"gridcolor\": \"white\", \"gridwidth\": 2, \"linecolor\": \"white\", \"showbackground\": true, \"ticks\": \"\", \"zerolinecolor\": \"white\"}, \"yaxis\": {\"backgroundcolor\": \"#E5ECF6\", \"gridcolor\": \"white\", \"gridwidth\": 2, \"linecolor\": \"white\", \"showbackground\": true, \"ticks\": \"\", \"zerolinecolor\": \"white\"}, \"zaxis\": {\"backgroundcolor\": \"#E5ECF6\", \"gridcolor\": \"white\", \"gridwidth\": 2, \"linecolor\": \"white\", \"showbackground\": true, \"ticks\": \"\", \"zerolinecolor\": \"white\"}}, \"shapedefaults\": {\"line\": {\"color\": \"#2a3f5f\"}}, \"ternary\": {\"aaxis\": {\"gridcolor\": \"white\", \"linecolor\": \"white\", \"ticks\": \"\"}, \"baxis\": {\"gridcolor\": \"white\", \"linecolor\": \"white\", \"ticks\": \"\"}, \"bgcolor\": \"#E5ECF6\", \"caxis\": {\"gridcolor\": \"white\", \"linecolor\": \"white\", \"ticks\": \"\"}}, \"title\": {\"x\": 0.05}, \"xaxis\": {\"automargin\": true, \"gridcolor\": \"white\", \"linecolor\": \"white\", \"ticks\": \"\", \"title\": {\"standoff\": 15}, \"zerolinecolor\": \"white\", \"zerolinewidth\": 2}, \"yaxis\": {\"automargin\": true, \"gridcolor\": \"white\", \"linecolor\": \"white\", \"ticks\": \"\", \"title\": {\"standoff\": 15}, \"zerolinecolor\": \"white\", \"zerolinewidth\": 2}}}, \"xaxis\": {\"anchor\": \"y\", \"domain\": [0.0, 1.0], \"title\": {\"text\": \"#ids\"}}, \"yaxis\": {\"anchor\": \"x\", \"categoryorder\": \"total ascending\", \"domain\": [0.0, 1.0], \"title\": {\"text\": \"sample\"}}},                        {\"responsive\": true}                    ).then(function(){\n",
       "                            \n",
       "var gd = document.getElementById('fac40f7e-5d5b-4834-906a-5373557130a7');\n",
       "var x = new MutationObserver(function (mutations, observer) {{\n",
       "        var display = window.getComputedStyle(gd).display;\n",
       "        if (!display || display === 'none') {{\n",
       "            console.log([gd, 'removed!']);\n",
       "            Plotly.purge(gd);\n",
       "            observer.disconnect();\n",
       "        }}\n",
       "}});\n",
       "\n",
       "// Listen for the removal of the full notebook cells\n",
       "var notebookContainer = gd.closest('#notebook-container');\n",
       "if (notebookContainer) {{\n",
       "    x.observe(notebookContainer, {childList: true});\n",
       "}}\n",
       "\n",
       "// Listen for the clearing of the current output cell\n",
       "var outputEl = gd.closest('.output');\n",
       "if (outputEl) {{\n",
       "    x.observe(outputEl, {childList: true});\n",
       "}}\n",
       "\n",
       "                        })                };                });            </script>        </div>"
      ]
     },
     "metadata": {},
     "output_type": "display_data"
    }
   ],
   "source": [
    "tmp = ionbot.drop_duplicates([\"sample\",\"matched_peptide\"],keep=\"first\")\n",
    "tmp = tmp[\"sample\"].value_counts().reset_index(level=0)\n",
    "tmp.columns = [\"sample\",\"#ids\"]\n",
    "fig = px.bar(tmp, y='sample', x='#ids', orientation='h')\n",
    "fig.update_layout(yaxis={'categoryorder':'total ascending'})\n",
    "fig.show()"
   ]
  },
  {
   "cell_type": "code",
   "execution_count": 30,
   "metadata": {},
   "outputs": [],
   "source": [
    "p = {}\n",
    "for sample in samples:\n",
    "    p[sample] = list(ionbot[ionbot[\"sample\"]==sample][\"matched_peptide\"].unique())"
   ]
  },
  {
   "cell_type": "code",
   "execution_count": 31,
   "metadata": {},
   "outputs": [],
   "source": [
    "d = []\n",
    "for sample1 in p:\n",
    "    dd = []\n",
    "    for sample2 in p:\n",
    "        dd.append(len(set(p[sample1]).intersection(set(p[sample2]))))\n",
    "    d.append(dd)\n",
    "    \n",
    "intersect = pd.DataFrame(d,columns=p,index=p)"
   ]
  },
  {
   "cell_type": "code",
   "execution_count": 32,
   "metadata": {},
   "outputs": [
    {
     "data": {
      "text/html": [
       "<style  type=\"text/css\" >\n",
       "    #T_0101d6f1_c53b_11ec_a954_98af65ce4ee6row0_col0 {\n",
       "            background-color:  #08306b;\n",
       "            color:  #f1f1f1;\n",
       "        }    #T_0101d6f1_c53b_11ec_a954_98af65ce4ee6row0_col1 {\n",
       "            background-color:  #f7fbff;\n",
       "            color:  #000000;\n",
       "        }    #T_0101d6f1_c53b_11ec_a954_98af65ce4ee6row0_col2 {\n",
       "            background-color:  #f7fbff;\n",
       "            color:  #000000;\n",
       "        }    #T_0101d6f1_c53b_11ec_a954_98af65ce4ee6row1_col0 {\n",
       "            background-color:  #72b2d8;\n",
       "            color:  #000000;\n",
       "        }    #T_0101d6f1_c53b_11ec_a954_98af65ce4ee6row1_col1 {\n",
       "            background-color:  #08306b;\n",
       "            color:  #f1f1f1;\n",
       "        }    #T_0101d6f1_c53b_11ec_a954_98af65ce4ee6row1_col2 {\n",
       "            background-color:  #1e6db2;\n",
       "            color:  #f1f1f1;\n",
       "        }    #T_0101d6f1_c53b_11ec_a954_98af65ce4ee6row2_col0 {\n",
       "            background-color:  #f7fbff;\n",
       "            color:  #000000;\n",
       "        }    #T_0101d6f1_c53b_11ec_a954_98af65ce4ee6row2_col1 {\n",
       "            background-color:  #a9cfe5;\n",
       "            color:  #000000;\n",
       "        }    #T_0101d6f1_c53b_11ec_a954_98af65ce4ee6row2_col2 {\n",
       "            background-color:  #08306b;\n",
       "            color:  #f1f1f1;\n",
       "        }</style><table id=\"T_0101d6f1_c53b_11ec_a954_98af65ce4ee6\" ><thead>    <tr>        <th class=\"blank level0\" ></th>        <th class=\"col_heading level0 col0\" >PXD000561_closed</th>        <th class=\"col_heading level0 col1\" >PXD000561_full</th>        <th class=\"col_heading level0 col2\" >PXD000561_nocorr_nort</th>    </tr></thead><tbody>\n",
       "                <tr>\n",
       "                        <th id=\"T_0101d6f1_c53b_11ec_a954_98af65ce4ee6level0_row0\" class=\"row_heading level0 row0\" >PXD000561_closed</th>\n",
       "                        <td id=\"T_0101d6f1_c53b_11ec_a954_98af65ce4ee6row0_col0\" class=\"data row0 col0\" >64630</td>\n",
       "                        <td id=\"T_0101d6f1_c53b_11ec_a954_98af65ce4ee6row0_col1\" class=\"data row0 col1\" >59578</td>\n",
       "                        <td id=\"T_0101d6f1_c53b_11ec_a954_98af65ce4ee6row0_col2\" class=\"data row0 col2\" >54835</td>\n",
       "            </tr>\n",
       "            <tr>\n",
       "                        <th id=\"T_0101d6f1_c53b_11ec_a954_98af65ce4ee6level0_row1\" class=\"row_heading level0 row1\" >PXD000561_full</th>\n",
       "                        <td id=\"T_0101d6f1_c53b_11ec_a954_98af65ce4ee6row1_col0\" class=\"data row1 col0\" >59578</td>\n",
       "                        <td id=\"T_0101d6f1_c53b_11ec_a954_98af65ce4ee6row1_col1\" class=\"data row1 col1\" >75915</td>\n",
       "                        <td id=\"T_0101d6f1_c53b_11ec_a954_98af65ce4ee6row1_col2\" class=\"data row1 col2\" >65157</td>\n",
       "            </tr>\n",
       "            <tr>\n",
       "                        <th id=\"T_0101d6f1_c53b_11ec_a954_98af65ce4ee6level0_row2\" class=\"row_heading level0 row2\" >PXD000561_nocorr_nort</th>\n",
       "                        <td id=\"T_0101d6f1_c53b_11ec_a954_98af65ce4ee6row2_col0\" class=\"data row2 col0\" >54835</td>\n",
       "                        <td id=\"T_0101d6f1_c53b_11ec_a954_98af65ce4ee6row2_col1\" class=\"data row2 col1\" >65157</td>\n",
       "                        <td id=\"T_0101d6f1_c53b_11ec_a954_98af65ce4ee6row2_col2\" class=\"data row2 col2\" >68366</td>\n",
       "            </tr>\n",
       "    </tbody></table>"
      ],
      "text/plain": [
       "<pandas.io.formats.style.Styler at 0x1f95fe22700>"
      ]
     },
     "execution_count": 32,
     "metadata": {},
     "output_type": "execute_result"
    }
   ],
   "source": [
    "intersect.style.background_gradient(cmap='Blues')"
   ]
  },
  {
   "cell_type": "code",
   "execution_count": 33,
   "metadata": {},
   "outputs": [],
   "source": [
    "tmp = []\n",
    "for sample in samples:\n",
    "    folder = \"%s/%s/Data/ionbot_result/\"%(experiment,sample)\n",
    "    proteins = pd.read_csv(\"%s/ionbot.coeluting.proteins.csv\"%folder)\n",
    "    proteins = proteins[proteins[\"is_shared_peptide\"]==False]\n",
    "    proteins.drop_duplicates(\"ionbot_match_id\",inplace=True)\n",
    "    proteins[\"sample\"] = [sample]*len(proteins)\n",
    "    tmp.append(proteins)\n",
    "proteins = pd.concat(tmp)\n",
    "proteins = proteins.merge(ionbot,on=[\"sample\",\"ionbot_match_id\"],how=\"inner\")"
   ]
  },
  {
   "cell_type": "code",
   "execution_count": 34,
   "metadata": {},
   "outputs": [
    {
     "name": "stderr",
     "output_type": "stream",
     "text": [
      "WARNING:itables.downsample:showing 200x20 of 200x38 as maxColumns=20. See https://mwouts.github.io/itables/downsampling.html\n"
     ]
    },
    {
     "data": {
      "text/html": [
       "<table id=\"c51b43db-b593-4c16-ab3c-cf60620e5652\" class=\"display nowrap compact hover\"style=\"max-width:6000px\"><thead>\n",
       "    <tr style=\"text-align: right;\">\n",
       "      \n",
       "      <th>ionbot_match_id</th>\n",
       "      <th>is_shared_peptide</th>\n",
       "      <th>protein_group</th>\n",
       "      <th>protein_group_q-value</th>\n",
       "      <th>protein_group_PEP</th>\n",
       "      <th>protein</th>\n",
       "      <th>position_in_protein</th>\n",
       "      <th>uniprot_id</th>\n",
       "      <th>protein_length</th>\n",
       "      <th>protein_description</th>\n",
       "      <th>PEP</th>\n",
       "      <th>proteins</th>\n",
       "      <th>rank</th>\n",
       "      <th>by-count</th>\n",
       "      <th>all-count</th>\n",
       "      <th>by-explained</th>\n",
       "      <th>all-explained</th>\n",
       "      <th>by-intensity-pattern-correlation</th>\n",
       "      <th>predicted_retention_time</th>\n",
       "      <th>rt-pred-error</th>\n",
       "    </tr>\n",
       "  </thead><tbody><tr><td>Loading... (need <a href=https://mwouts.github.io/itables/troubleshooting.html>help</a>?)</td></tr></tbody></table>\n",
       "<link rel=\"stylesheet\" type=\"text/css\" href=\"https://cdn.datatables.net/1.11.3/css/jquery.dataTables.min.css\">\n",
       "<style> table td {\n",
       "    text-overflow: ellipsis;\n",
       "    overflow: hidden;\n",
       "} </style>\n",
       "<style> table th {\n",
       "    text-overflow: ellipsis;\n",
       "    overflow: hidden;\n",
       "} </style>\n",
       "<script type=\"module\">\n",
       "    // Define the table data\n",
       "    const data = [[\"19_5_1\", false, \"H13_HUMAN\", 0.0, 2.60859e-07, \"H13_HUMAN\", \"124-131\", \"P16402\", 221, \"Histone H1.3 \", 0.002, \"H13_HUMAN((124-131))((P16402))\", \"first\", 9, 29, 0.373, 0.589, 0.906, 1517.148, 397.597], [\"10_8_1\", false, \"ANXA6_HUMAN\", 0.0, 3.71515e-10, \"ANXA6_HUMAN\", \"450-457\", \"P08133\", 673, \"Annexin A6 \", 0.041, \"ANXA6_HUMAN((450-457))((P08133))\", \"first\", 10, 51, 0.316, 0.63, 0.987, 967.732, 606.213], [\"22_5_1\", false, \"B2MG_HUMAN\", 0.0, 3.44343e-07, \"B2MG_HUMAN\", \"33-40\", \"P61769\", 119, \"Beta-2-microglobulin \", 0.115, \"B2MG_HUMAN((33-40))((P61769))\", \"first\", 12, 42, 0.268, 0.588, 0.887, 1916.716, 1577.966], [\"7_6_1\", false, \"MATR3_HUMAN\", 0.0, 1.75138e-10, \"MATR3_HUMAN\", \"479-488\", \"P43243\", 847, \"Matrin-3 \", 0.002, \"MATR3_HUMAN((479-488))((P43243))\", \"first\", 10, 34, 0.258, 0.601, 0.827, 857.875, 506.792], [\"10_28_1\", false, \"EZRI_HUMAN\", 0.0, 6.14699e-08, \"EZRI_HUMAN\", \"510-517\", \"P15311\", 586, \"Ezrin \", 0.004, \"EZRI_HUMAN((510-517))((P15311))\", \"first\", 10, 45, 0.249, 0.682, 0.864, 972.544, 623.667], [\"22_278_1\", false, \"SRP09_HUMAN\", 0.0, 0.000120349, \"SRP09_HUMAN\", \"53-61\", \"P49458\", 86, \"Signal recognition particle 9 kDa protein \", 0.016, \"SRP09_HUMAN((53-61))((P49458))\", \"first\", 11, 36, 0.3, 0.524, 0.95, 2041.503, 1258.994], [\"5_271_1\", false, \"TPR_HUMAN\", 0.0, 4.53957e-10, \"TPR_HUMAN\", \"468-478\", \"P12270\", 2363, \"Nucleoprotein TPR \", 0.0, \"TPR_HUMAN((468-478))((P12270))\", \"first\", 10, 31, 0.231, 0.577, 0.96, 969.363, 178.006], [\"12_386_1\", false, \"EHD1_HUMAN\", 0.0, 5.82369e-09, \"EHD1_HUMAN\", \"209-216\", \"Q9H4M9\", 534, \"EH domain-containing protein 1 \", 0.222, \"EHD1_HUMAN((209-216))((Q9H4M9))\", \"first\", 10, 27, 0.198, 0.331, 0.974, 2302.859, 1543.463], [\"4_197_1\", false, \"IQGA1_HUMAN\", 0.0, 7.08056e-11, \"IQGA1_HUMAN\", \"1231-1240\", \"P46940\", 1657, \"Ras GTPase-activating-like protein IQGAP1 \", 0.0, \"IQGA1_HUMAN((1231-1240))((P46940))\", \"first\", 15, 55, 0.2, 0.488, 0.847, 986.782, 191.274], [\"11_325_1\", false, \"HNRPL_HUMAN\", 0.0, 1.78178e-09, \"HNRPL_HUMAN\", \"20-27\", \"P14866\", 589, \"Heterogeneous nuclear ribonucleoprotein L \", 0.005, \"HNRPL_HUMAN((20-27))((P14866))\", \"first\", 8, 27, 0.363, 0.59, 0.946, 1268.565, 481.437], [\"17_446_1\", false, \"H1X_HUMAN\", 0.0, 1.13202e-07, \"H1X_HUMAN\", \"63-70\", \"Q92522\", 213, \"Histone H1.10 \", 0.127, \"H1X_HUMAN((63-70))((Q92522))\", \"first\", 9, 31, 0.07, 0.167, 0.906, 918.71, 188.227], [\"14_270_1\", false, \"ENOA_HUMAN\", 0.0, 9.59354e-11, \"ENOA_HUMAN\", \"263-270\", \"P06733\", 434, \"Alpha-enolase \", 0.0, \"ENOA_HUMAN((263-270))((P06733))\", \"first\", 10, 32, 0.523, 0.82, 0.967, 1299.432, 506.508], [\"7_291_1\", false, \"MAN1_HUMAN\", 0.0, 2.73737e-09, \"MAN1_HUMAN\", \"46-56\", \"Q9Y2U8\", 911, \"Inner nuclear membrane protein Man1 \", 0.0, \"MAN1_HUMAN((46-56))((Q9Y2U8))\", \"first\", 11, 46, 0.273, 0.519, 0.948, 952.71, 158.518], [\"3_76_1\", false, \"MYCB2_HUMAN\", 0.0, 5.02389e-08, \"MYCB2_HUMAN\", \"4343-4358\", \"O75592\", 4678, \"E3 ubiquitin-protein ligase MYCBP2 \", 0.001, \"MYCB2_HUMAN((4343-4358))((O75592))\", \"first\", 13, 43, 0.304, 0.483, 0.167, 1545.532, 732.483], [\"8_8336_1\", false, \"HCFC2_HUMAN\", 0.0, 7.78626e-06, \"HCFC2_HUMAN\", \"554-567\", \"Q9Y5Z7\", 792, \"Host cell factor 2 \", 0.0, \"HCFC2_HUMAN((554-567))((Q9Y5Z7))\", \"first\", 12, 19, 0.147, 0.21, 0.801, 2960.552, 4.143], [\"10_8609_1\", false, \"KPCL_HUMAN\", 0.0, 1.29195e-08, \"KPCL_HUMAN\", \"305-322\", \"P24723\", 683, \"Protein kinase C eta type \", 0.0, \"KPCL_HUMAN((305-322))((P24723))\", \"first\", 21, 49, 0.411, 0.657, 0.909, 3026.99, 119.4], [\"17_8751_1\", false, \"CYRIB_HUMAN\", 0.0, 8.83659e-10, \"CYRIB_HUMAN\", \"168-187\", \"Q9NUQ9\", 324, \"CYFIP-related Rac1 interactor B \", 0.001, \"CYRIB_HUMAN((168-187))((Q9NUQ9))\", \"first\", 8, 16, 0.196, 0.316, 0.713, 2948.244, 46.971], [\"11_8616_1\", false, \"RPN1_HUMAN\", 0.0, 1.461e-09, \"RPN1_HUMAN\", \"117-127\", \"P04843\", 607, \"Dolichyl-diphosphooligosaccharide--protein glycosyltransferase subunit 1 \", 0.0, \"RPN1_HUMAN((117-127))((P04843))\", \"first\", 14, 37, 0.484, 0.617, 0.947, 2948.525, 18.953], [\"15_8710_1\", false, \"6PGD_HUMAN\", 0.0, 3.28654e-11, \"6PGD_HUMAN\", \"39-49\", \"P52209\", 483, \"6-phosphogluconate dehydrogenase  decarboxylating \", 0.0, \"6PGD_HUMAN((39-49))((P52209))\", \"first\", 11, 24, 0.321, 0.551, 0.974, 2523.764, 265.956], [\"18_8749_1\", false, \"MYH9_HUMAN\", 0.0, 4.84486e-11, \"MYH9_HUMAN\", \"30-39\", \"P35579\", 1960, \"Myosin-9 \", 0.0, \"MYH9_HUMAN((30-39))((P35579))\", \"first\", 14, 42, 0.481, 0.716, 0.982, 2853.064, 118.733], [\"5_8708_1\", false, \"SIN3A_HUMAN\", 0.0, 2.05161e-08, \"SIN3A_HUMAN\", \"1044-1053\", \"Q96ST3\", 1273, \"Paired amphipathic helix protein Sin3a \", 0.0, \"SIN3A_HUMAN((1044-1053))((Q96ST3))\", \"first\", 9, 22, 0.451, 0.637, 0.992, 2572.168, 185.882], [\"13_8587_1\", false, \"VIME_HUMAN\", 0.0, 2.64889e-10, \"VIME_HUMAN\", \"322-335\", \"P08670\", 466, \"Vimentin \", 0.0, \"VIME_HUMAN((322-335))((P08670))\", \"first\", 18, 62, 0.241, 0.491, 0.547, 3380.327, 169.317], [\"6_8505_2\", false, \"PECA1_HUMAN\", 0.0, 7.51774e-08, \"PECA1_HUMAN\", \"487-494\", \"P16284\", 738, \"Platelet endothelial cell adhesion molecule \", 0.008, \"PECA1_HUMAN((487-494))((P16284))\", \"first\", 9, 23, 0.316, 0.444, 0.994, 2906.025, 92.086], [\"19_8547_1\", false, \"GOSR2_HUMAN\", 0.0, 5.05445e-06, \"GOSR2_HUMAN\", \"75-86\", \"O14653\", 212, \"Golgi SNAP receptor complex member 2 \", 0.0, \"GOSR2_HUMAN((75-86))((O14653))\", \"first\", 14, 34, 0.446, 0.707, 0.972, 3088.177, 54.884], [\"20_8653_1\", false, \"EIF1A_HUMAN\", 0.0, 8.6393e-08, \"EIF1A_HUMAN\", \"13-30\", \"Q8N9N8\", 165, \"Probable RNA-binding protein EIF1AD \", 0.0, \"EIF1A_HUMAN((13-30))((Q8N9N8))\", \"first\", 17, 37, 0.477, 0.608, 0.806, 3135.329, 70.578], [\"12_8823_1\", false, \"ZN512_HUMAN\", 0.0, 7.74702e-09, \"ZN512_HUMAN\", \"367-378\", \"Q96ME7\", 567, \"Zinc finger protein 512 \", 0.0, \"ZN512_HUMAN((367-378))((Q96ME7))\", \"first\", 12, 37, 0.241, 0.405, 0.911, 2588.733, 177.827], [\"6_8506_1\", false, \"MYO1F_HUMAN\", 0.0, 4.24768e-10, \"MYO1F_HUMAN\", \"997-1021\", \"O00160\", 1098, \"Unconventional myosin-If \", 0.0, \"MYO1F_HUMAN((997-1021))((O00160))\", \"first\", 9, 27, 0.176, 0.675, 0.831, 2931.644, 66.676], [\"7_8623_1\", false, \"TOP2B_HUMAN\", 0.0, 1.03548e-07, \"TOP2B_HUMAN\", \"346-358\", \"Q02880\", 1626, \"DNA topoisomerase 2-beta \", 0.0, \"TOP2B_HUMAN((346-358))((Q02880))\", \"first\", 20, 49, 0.288, 0.531, 0.813, 3034.307, 121.318], [\"9_8304_1\", false, \"RHG25_HUMAN\", 0.0, 9.88207e-08, \"RHG25_HUMAN\", \"25-47\", \"P42331\", 645, \"Rho GTPase-activating protein 25 \", 0.0, \"RHG25_HUMAN((25-47))((P42331))\", \"first\", 12, 27, 0.262, 0.411, 0.906, 3056.074, 101.259], [\"20_8654_1\", false, \"RASN_HUMAN\", 0.0, 0.00834117, \"RASN_HUMAN\", \"103-118\", \"P01111\", 189, \"GTPase NRas \", 0.0, \"RASN_HUMAN((103-118))((P01111))||RASH_HUMAN((103-118))((P01112))\", \"first\", 13, 24, 0.214, 0.338, 0.932, 3032.428, 171.633], [\"5_8709_1\", false, \"TLN1_HUMAN\", 0.0, 7.84189e-12, \"TLN1_HUMAN\", \"2532-2542\", \"Q9Y490\", 2541, \"Talin-1 \", 0.0, \"TLN1_HUMAN((2532-2542))((Q9Y490))\", \"first\", 12, 34, 0.25, 0.534, 0.97, 2492.084, 261.872], [\"13_8588_1\", false, \"MYH9_HUMAN\", 0.0, 4.84486e-11, \"MYH9_HUMAN\", \"738-746\", \"P35579\", 1960, \"Myosin-9 \", 0.001, \"MYH9_HUMAN((738-746))((P35579))\", \"first\", 9, 30, 0.138, 0.355, 0.821, 2945.693, 8.322], [\"15_8711_1\", false, \"KPYM_HUMAN\", 0.0, 1.52667e-11, \"KPYM_HUMAN\", \"368-377\", \"P14618\", 531, \"Pyruvate kinase PKM \", 0.003, \"KPYM_HUMAN((368-377))((P14618))\", \"first\", 8, 23, 0.264, 0.356, 0.937, 2607.511, 182.381], [\"12_8824_1\", false, \"WIPF1_HUMAN\", 0.0, 4.58697e-08, \"WIPF1_HUMAN\", \"412-439\", \"O43516\", 503, \"WAS/WASL-interacting protein family member 1 \", 0.0, \"WIPF1_HUMAN((412-439))((O43516))\", \"first\", 9, 24, 0.051, 0.381, 0.769, 2740.702, 5.488], [\"4_8604_1\", false, \"PTPRC_HUMAN\", 0.0, 3.90357e-10, \"PTPRC_HUMAN\", \"1246-1257\", \"P08575\", 1306, \"Receptor-type tyrosine-protein phosphatase C \", 0.0, \"PTPRC_HUMAN((1246-1257))((P08575))\", \"first\", 11, 26, 0.286, 0.5, 0.966, 2780.503, 53.594], [\"6_8507_2\", false, \"SRRT_HUMAN\", 0.0, 1.97736e-09, \"SRRT_HUMAN\", \"435-443\", \"Q9BXP5\", 876, \"Serrate RNA effector molecule homolog \", 0.029, \"SRRT_HUMAN((435-443))((Q9BXP5))\", \"first\", 9, 20, 0.415, 0.637, 0.351, 3005.013, 6.488], [\"1_4980_1\", false, \"K22E_HUMAN\", 0.0, 2.22397e-12, \"K22E_HUMAN\", \"315-342\", \"P35908\", 645, \"contaminant \", 0.0, \"K22E_HUMAN((315-342))((P35908))||K22E_HUMAN((321-348))((K22E_HUMAN))\", \"first\", 8, 13, 0.222, 0.333, 0.748, 4713.709, 22.201], [\"9_8305_1\", false, \"3BP1_HUMAN\", 0.0, 6.15201e-10, \"3BP1_HUMAN\", \"188-201\", \"Q9Y3L3\", 701, \"SH3 domain-binding protein 1 \", 0.0, \"BGIN_HUMAN((196-209))((Q6ZT62))||3BP1_HUMAN((188-201))((Q9Y3L3))\", \"first\", 13, 46, 0.174, 0.422, 0.939, 2323.237, 800.673], [\"17_8753_1\", false, \"PTN6_HUMAN\", 0.0, 1.59651e-10, \"PTN6_HUMAN\", \"110-128\", \"P29350\", 595, \"Tyrosine-protein phosphatase non-receptor type 6 \", 0.0, \"PTN6_HUMAN((110-128))((P29350))\", \"first\", 10, 28, 0.296, 0.747, 0.926, 2778.064, 123.619], [\"2_7742_1\", false, \"PRKDC_HUMAN\", 0.0, 6.93072e-10, \"PRKDC_HUMAN\", \"1643-1652\", \"P78527\", 4128, \"DNA-dependent protein kinase catalytic subunit \", 0.0, \"PRKDC_HUMAN((1643-1652))((P78527))\", \"first\", 11, 24, 0.246, 0.382, 0.898, 3739.263, 337.372], [\"5_8710_1\", false, \"CAND1_HUMAN\", 0.0, 4.37909e-08, \"CAND1_HUMAN\", \"778-794\", \"Q86VP6\", 1230, \"Cullin-associated NEDD8-dissociated protein 1 \", 0.0, \"CAND1_HUMAN((778-794))((Q86VP6))\", \"first\", 14, 32, 0.275, 0.474, 0.834, 2854.944, 96.553], [\"16_8674_1\", false, \"RPB3_HUMAN\", 0.0, 1.20487e-06, \"RPB3_HUMAN\", \"206-229\", \"P19387\", 275, \"DNA-directed RNA polymerase II subunit RPB3 \", 0.0, \"RPB3_HUMAN((206-229))((P19387))\", \"first\", 11, 26, 0.259, 0.374, 0.908, 2779.895, 122.938], [\"14_8592_1\", false, \"ANXA7_HUMAN\", 0.0, 5.42756e-09, \"ANXA7_HUMAN\", \"465-480\", \"P20073\", 488, \"Annexin A7 \", 0.0, \"ANXA7_HUMAN((465-480))((P20073))\", \"first\", 16, 37, 0.292, 0.384, 0.958, 2978.728, 37.056], [\"12_8825_1\", false, \"TFG_HUMAN\", 0.0, 5.82835e-09, \"TFG_HUMAN\", \"384-401\", \"Q92734\", 400, \"Protein TFG \", 0.0, \"TFG_HUMAN((384-401))((Q92734))\", \"first\", 13, 27, 0.135, 0.266, 0.785, 2847.823, 80.882], [\"19_8549_1\", false, \"ALDOA_HUMAN\", 0.0, 3.47424e-08, \"ALDOA_HUMAN\", \"2-14\", \"P04075\", 364, \"Fructose-bisphosphate aldolase A \", 0.0, \"ALDOA_HUMAN((2-14))((P04075))\", \"first\", 11, 31, 0.162, 0.342, 0.906, 3117.389, 50.417], [\"13_8589_1\", false, \"6PGD_HUMAN\", 0.0, 3.28654e-11, \"6PGD_HUMAN\", \"318-326\", \"P52209\", 483, \"6-phosphogluconate dehydrogenase  decarboxylating \", 0.001, \"6PGD_HUMAN((318-326))((P52209))\", \"first\", 9, 38, 0.301, 0.54, 0.975, 2872.892, 81.329], [\"18_8750_1\", false, \"SPF27_HUMAN\", 0.0, 3.66805e-08, \"SPF27_HUMAN\", \"30-43\", \"O75934\", 225, \"Pre-mRNA-splicing factor SPF27 \", 0.0, \"SPF27_HUMAN((30-43))((O75934))\", \"first\", 16, 52, 0.183, 0.422, 0.903, 2565.15, 158.112], [\"20_8655_1\", false, \"PPAC_HUMAN\", 0.0, 2.55697e-08, \"PPAC_HUMAN\", \"42-60\", \"P24666\", 158, \"Low molecular weight phosphotyrosine protein phosphatase \", 0.0, \"PPAC_HUMAN((42-60))((P24666))\", \"first\", 10, 28, 0.084, 0.142, 0.893, 3266.65, 53.562], [\"8_8337_1\", false, \"EF2_HUMAN\", 0.0, 7.97359e-10, \"EF2_HUMAN\", \"499-507\", \"P13639\", 858, \"Elongation factor 2 \", 0.0, \"EF2_HUMAN((499-507))((P13639))\", \"first\", 9, 28, 0.422, 0.716, 0.958, 3138.681, 181.513], [\"15_8713_1\", false, \"EI2BB_HUMAN\", 0.0, 6.72487e-08, \"EI2BB_HUMAN\", \"68-84\", \"P49770\", 351, \"Translation initiation factor eIF-2B subunit beta \", 0.0, \"EI2BB_HUMAN((68-84))((P49770))\", \"first\", 17, 35, 0.349, 0.607, 0.952, 2743.31, 46.934], [\"3_8330_1\", false, \"ATRX_HUMAN\", 0.0, 2.06585e-08, \"ATRX_HUMAN\", \"189-199\", \"P46100\", 2492, \"Transcriptional regulator ATRX \", 0.0, \"ATRX_HUMAN((189-199))((P46100))\", \"first\", 16, 53, 0.179, 0.363, 0.385, 3099.361, 74.41], [\"6_8508_1\", false, \"PRP8_HUMAN\", 0.0, 4.37781e-10, \"PRP8_HUMAN\", \"2259-2267\", \"Q6P2Q9\", 2335, \"Pre-mRNA-processing-splicing factor 8 \", 0.0, \"PRP8_HUMAN((2259-2267))((Q6P2Q9))\", \"first\", 12, 38, 0.314, 0.523, 0.939, 2880.794, 117.948], [\"19_8550_2\", false, \"ML12B_HUMAN\", 0.512, 1.0, \"ML12B_HUMAN\", \"36-46\", \"O14950\", 172, \"Myosin regulatory light chain 12B \", 0.001, \"ML12B_HUMAN((36-46))((O14950))||ML12A_HUMAN((35-45))((P19105))||MYL9_HUMAN((36-46))((P24844))\", \"lower\", 12, 40, 0.164, 0.347, 0.919, 3237.986, 204.054], [\"19_8550_1\", false, \"RBM14_HUMAN\", 0.0, 4.00174e-10, \"RBM14_HUMAN\", \"648-658\", \"Q96PK6\", 669, \"RNA-binding protein 14 \", 0.0, \"RBM14_HUMAN((648-658))((Q96PK6))\", \"first\", 11, 29, 0.06, 0.173, 0.883, 2943.92, 90.013], [\"14_8593_1\", false, \"VASP_HUMAN\", 0.0, 6.8977e-08, \"VASP_HUMAN\", \"258-274\", \"P50552\", 380, \"Vasodilator-stimulated phosphoprotein \", 0.0, \"VASP_HUMAN((258-274))((P50552))\", \"first\", 14, 34, 0.204, 0.311, 0.84, 2947.429, 5.548], [\"8_8338_1\", false, \"3BP1_HUMAN\", 0.0, 6.15201e-10, \"3BP1_HUMAN\", \"122-130\", \"Q9Y3L3\", 701, \"SH3 domain-binding protein 1 \", 0.001, \"BGIN_HUMAN((130-138))((Q6ZT62))||3BP1_HUMAN((122-130))((Q9Y3L3))\", \"first\", 8, 21, 0.489, 0.743, 0.978, 2756.434, 171.264], [\"4_8606_1\", false, \"GEMI5_HUMAN\", 0.0, 1.92368e-07, \"GEMI5_HUMAN\", \"878-891\", \"Q8TEQ6\", 1508, \"Gem-associated protein 5 \", 0.0, \"GEMI5_HUMAN((878-891))((Q8TEQ6))\", \"first\", 14, 23, 0.219, 0.282, 0.943, 2916.158, 81.673], [\"5_8711_1\", false, \"SPT5H_HUMAN\", 0.0, 1.4392e-08, \"SPT5H_HUMAN\", \"784-799\", \"O00267\", 1087, \"Transcription elongation factor SPT5 \", 0.0, \"SPT5H_HUMAN((784-799))((O00267))\", \"first\", 19, 48, 0.488, 0.663, 0.939, 2834.112, 75.553], [\"7_8625_1\", false, \"INT4_HUMAN\", 0.0, 1.66408e-07, \"INT4_HUMAN\", \"798-805\", \"Q96HW7\", 963, \"Integrator complex subunit 4 \", 0.008, \"INT4_HUMAN((798-805))((Q96HW7))\", \"first\", 7, 24, 0.337, 0.551, 0.935, 2997.385, 83.982], [\"2_7743_1\", false, \"RL6_HUMAN\", 0.0, 4.1918e-09, \"RL6_HUMAN\", \"263-273\", \"Q02878\", 288, \"60S ribosomal protein L6 \", 0.0, \"RL6_HUMAN((263-273))((Q02878))\", \"first\", 9, 33, 0.409, 0.7, 0.984, 3990.638, 86.341], [\"18_8751_1\", false, \"MARH5_HUMAN\", 0.0, 4.3135e-07, \"MARH5_HUMAN\", \"193-209\", \"Q9NX47\", 278, \"E3 ubiquitin-protein ligase MARCHF5 \", 0.0, \"MARH5_HUMAN((193-209))((Q9NX47))\", \"first\", 15, 47, 0.181, 0.343, 0.946, 2712.341, 22.807], [\"11_8619_1\", false, \"NCOA5_HUMAN\", 0.0, 1.3874e-07, \"NCOA5_HUMAN\", \"501-516\", \"Q9HCD5\", 579, \"Nuclear receptor coactivator 5 \", 0.0, \"NCOA5_HUMAN((501-516))((Q9HCD5))\", \"first\", 16, 34, 0.203, 0.276, 0.905, 3061.609, 131.532], [\"3_8331_1\", false, \"UBP24_HUMAN\", 0.0, 9.21033e-09, \"UBP24_HUMAN\", \"899-918\", \"Q9UPU5\", 2620, \"Ubiquitin carboxyl-terminal hydrolase 24 \", 0.0, \"UBP24_HUMAN((899-918))((Q9UPU5))\", \"first\", 15, 24, 0.33, 0.421, 0.86, 3352.649, 178.538], [\"4_8607_1\", false, \"DCAF1_HUMAN\", 0.0, 2.07237e-05, \"DCAF1_HUMAN\", \"746-756\", \"Q9Y4B6\", 1507, \"DDB1- and CUL4-associated factor 1 \", 0.0, \"DCAF1_HUMAN((746-756))((Q9Y4B6))\", \"first\", 11, 30, 0.336, 0.423, 0.973, 2925.228, 90.551], [\"18_8752_1\", false, \"CC134_HUMAN\", 0.0, 0.000121234, \"CC134_HUMAN\", \"52-65\", \"Q9H6E4\", 229, \"Coiled-coil domain-containing protein 134 \", 0.0, \"CC134_HUMAN((52-65))((Q9H6E4))\", \"first\", 11, 36, 0.158, 0.513, 0.976, 2661.442, 73.893], [\"12_8826_1\", false, \"TCPG_HUMAN\", 0.0, 2.96967e-08, \"TCPG_HUMAN\", \"371-378\", \"P49368\", 545, \"T-complex protein 1 subunit gamma \", 0.003, \"TCPG_HUMAN((371-378))((P49368))\", \"first\", 9, 26, 0.444, 0.58, 0.843, 2690.654, 77.019], [\"11_8620_1\", false, \"MAOM_HUMAN\", 0.0, 2.75615e-07, \"MAOM_HUMAN\", \"58-68\", \"P23368\", 584, \"NAD-dependent malic enzyme  mitochondrial \", 0.0, \"MAOM_HUMAN((58-68))((P23368))\", \"first\", 13, 49, 0.201, 0.282, 0.957, 2866.379, 32.5], [\"1_4982_1\", false, \"K1C9_HUMAN\", 0.0, 4.38072e-13, \"K1C9_HUMAN\", \"339-369\", \"P35527\", 623, \"contaminant \", 0.0, \"K1C9_HUMAN((339-369))((P35527))||K1C9_HUMAN((339-369))((K1C9_HUMAN))\", \"first\", 9, 14, 0.178, 0.27, 0.667, 4515.209, 252.807], [\"10_8613_2\", false, \"NADE_HUMAN\", 0.0, 1.02544e-05, \"NADE_HUMAN\", \"137-146\", \"Q6IA69\", 706, \"Glutamine-dependent NAD(+) synthetase \", 0.001, \"NADE_HUMAN((137-146))((Q6IA69))\", \"first\", 8, 13, 0.183, 0.292, 0.876, 2901.945, 0.571], [\"19_8551_1\", false, \"PDC10_HUMAN\", 0.0, 1.57304e-07, \"PDC10_HUMAN\", \"51-66\", \"Q9BUL8\", 212, \"Programmed cell death protein 10 \", 0.0, \"PDC10_HUMAN((51-66))((Q9BUL8))\", \"first\", 19, 38, 0.321, 0.521, 0.863, 3170.044, 135.854], [\"13_8590_1\", false, \"G6PD_HUMAN\", 0.0, 5.7988e-09, \"G6PD_HUMAN\", \"321-331\", \"P11413\", 515, \"Glucose-6-phosphate 1-dehydrogenase \", 0.0, \"G6PD_HUMAN((321-331))((P11413))\", \"first\", 12, 29, 0.59, 0.803, 0.959, 3075.09, 120.181], [\"21_8756_1\", false, \"H2A2C_HUMAN\", 0.0, 2.58387e-08, \"H2A2C_HUMAN\", \"90-101\", \"Q16777\", 129, \"Histone H2A type 2-C \", 0.007, \"H2AJ_HUMAN((90-101))((Q9BTM1))||H2A1J_HUMAN((90-101))((Q99878))||H2A2C_HUMAN((90-101))((Q16777))||H2A1D_HUMAN((90-101))((P20671))||H2A1_HUMAN((90-101))((P0C0S8))||H2A2A_HUMAN((90-101))((Q6FI13))||H2A1H_HUMAN((90-101))((Q96KK5))\", \"first\", 7, 8, 0.787, 0.91, 0.743, 2591.236, 334.971], [\"5_8713_1\", false, \"TCOF_HUMAN\", 0.0, 1.67591e-11, \"TCOF_HUMAN\", \"733-747\", \"Q13428\", 1488, \"Treacle protein \", 0.0, \"TCOF_HUMAN((733-747))((Q13428))\", \"first\", 15, 51, 0.303, 0.436, 0.962, 2793.098, 34.183], [\"14_8595_1\", false, \"IF4A3_HUMAN\", 0.0, 1.50685e-10, \"IF4A3_HUMAN\", \"243-253\", \"P38919\", 411, \"Eukaryotic initiation factor 4A-III \", 0.001, \"IF4A3_HUMAN((243-253))((P38919))\", \"first\", 10, 25, 0.151, 0.307, 0.86, 2786.587, 147.382], [\"18_8753_1\", false, \"ECHB_HUMAN\", 0.0, 1.88031e-08, \"ECHB_HUMAN\", \"230-239\", \"P55084\", 474, \"Trifunctional enzyme subunit beta  mitochondrial \", 0.0, \"ECHB_HUMAN((230-239))((P55084))\", \"first\", 11, 31, 0.38, 0.517, 0.994, 2934.473, 198.971], [\"13_8591_1\", false, \"DNPEP_HUMAN\", 0.0, 2.40242e-07, \"DNPEP_HUMAN\", \"160-174\", \"Q9ULA0\", 485, \"Aspartyl aminopeptidase \", 0.0, \"DNPEP_HUMAN((160-174))((Q9ULA0))\", \"first\", 8, 36, 0.046, 0.434, 0.858, 2794.554, 157.028], [\"6_8510_1\", false, \"RNF31_HUMAN\", 0.0, 5.73231e-10, \"RNF31_HUMAN\", \"876-883\", \"Q96EP0\", 1072, \"E3 ubiquitin-protein ligase RNF31 \", 0.006, \"RNF31_HUMAN((876-883))((Q96EP0))\", \"first\", 8, 27, 0.325, 0.684, 0.973, 3153.424, 154.25], [\"15_8715_1\", false, \"OLA1_HUMAN\", 0.0, 4.47919e-08, \"OLA1_HUMAN\", \"71-84\", \"Q9NTK5\", 396, \"Obg-like ATPase 1 \", 0.0, \"OLA1_HUMAN((71-84))((Q9NTK5))\", \"first\", 13, 42, 0.149, 0.46, 0.903, 2986.826, 196.227], [\"17_8756_1\", false, \"COX1_HUMAN\", 0.0, 3.3532e-05, \"COX1_HUMAN\", \"6-14\", \"P00395\", 513, \"Cytochrome c oxidase subunit 1 \", 0.006, \"COX1_HUMAN((6-14))((P00395))\", \"first\", 8, 35, 0.117, 0.472, 0.931, 3313.845, 411.524], [\"12_8827_1\", false, \"NUP54_HUMAN\", 0.0, 1.64162e-08, \"NUP54_HUMAN\", \"490-503\", \"Q7Z3B4\", 507, \"Nucleoporin p54 \", 0.0, \"NUP54_HUMAN((490-503))((Q7Z3B4))\", \"first\", 16, 55, 0.165, 0.319, 0.898, 2650.091, 115.92], [\"10_8614_1\", false, \"ZYX_HUMAN\", 0.0, 1.09724e-09, \"ZYX_HUMAN\", \"504-523\", \"Q15942\", 572, \"Zyxin \", 0.0, \"ZYX_HUMAN((504-523))((Q15942))\", \"first\", 7, 35, 0.111, 0.723, 0.592, 3000.803, 60.126], [\"7_8626_1\", false, \"MYO1G_HUMAN\", 0.0, 1.4974e-10, \"MYO1G_HUMAN\", \"572-582\", \"B0I1T2\", 1018, \"Unconventional myosin-Ig \", 0.0, \"MYO1G_HUMAN((572-582))((B0I1T2))\", \"first\", 14, 33, 0.297, 0.643, 0.907, 2880.35, 0.69], [\"9_8309_1\", false, \"CEP78_HUMAN\", 0.0, 8.61531e-06, \"CEP78_HUMAN\", \"260-275\", \"Q5JTW2\", 689, \"Centrosomal protein of 78 kDa \", 0.0, \"CEP78_HUMAN((260-275))((Q5JTW2))\", \"first\", 17, 44, 0.326, 0.521, 0.769, 3119.333, 39.032], [\"4_8609_1\", false, \"RBM33_HUMAN\", 0.0, 1.78819e-06, \"RBM33_HUMAN\", \"1010-1023\", \"Q96EV2\", 1170, \"RNA-binding protein 33 \", 0.0, \"RBM33_HUMAN((1010-1023))((Q96EV2))\", \"first\", 13, 40, 0.147, 0.277, 0.976, 2830.304, 4.789], [\"3_8332_1\", false, \"MYH9_HUMAN\", 0.0, 4.84486e-11, \"MYH9_HUMAN\", \"1001-1017\", \"P35579\", 1960, \"Myosin-9 \", 0.0, \"MYH9_HUMAN((1001-1017))((P35579))\", \"first\", 14, 33, 0.326, 0.601, 0.911, 3047.607, 97.08], [\"22_8389_1\", false, \"LASP1_HUMAN\", 0.0, 8.48189e-07, \"LASP1_HUMAN\", \"60-74\", \"Q14847\", 261, \"LIM and SH3 domain protein 1 \", 0.0, \"LASP1_HUMAN((60-74))((Q14847))\", \"first\", 9, 12, 0.559, 0.628, 0.876, 2936.29, 68.609], [\"15_8716_1\", false, \"DDB1_HUMAN\", 0.0, 2.91244e-09, \"DDB1_HUMAN\", \"890-898\", \"Q16531\", 1140, \"DNA damage-binding protein 1 \", 0.017, \"DDB1_HUMAN((890-898))((Q16531))\", \"first\", 8, 22, 0.048, 0.15, 0.911, 2877.82, 87.044], [\"6_8511_1\", false, \"TOP2B_HUMAN\", 0.0, 1.03548e-07, \"TOP2B_HUMAN\", \"971-980\", \"Q02880\", 1626, \"DNA topoisomerase 2-beta \", 0.0, \"TOP2B_HUMAN((971-980))((Q02880))\", \"first\", 13, 38, 0.211, 0.319, 0.964, 2945.003, 54.413], [\"8_8341_1\", false, \"PYGB_HUMAN\", 0.0, 1.25384e-08, \"PYGB_HUMAN\", \"325-334\", \"P11216\", 843, \"Glycogen phosphorylase  brain form \", 0.0, \"PYGB_HUMAN((325-334))((P11216))\", \"first\", 11, 29, 0.349, 0.533, 0.764, 3163.099, 205.288], [\"5_8714_1\", false, \"TPP2_HUMAN\", 0.0, 3.46276e-10, \"TPP2_HUMAN\", \"400-413\", \"P29144\", 1249, \"Tripeptidyl-peptidase 2 \", 0.0, \"TPP2_HUMAN((400-413))((P29144))\", \"first\", 13, 41, 0.282, 0.443, 0.917, 2849.556, 90.463], [\"7_8627_1\", false, \"FLNA_HUMAN\", 0.0, 1.01487e-11, \"FLNA_HUMAN\", \"1235-1247\", \"P21333\", 2647, \"Filamin-A \", 0.0, \"FLNA_HUMAN((1235-1247))((P21333))\", \"first\", 12, 40, 0.374, 0.66, 0.925, 3008.962, 94.728], [\"16_8678_1\", false, \"EF1G_HUMAN\", 0.0, 3.73062e-08, \"EF1G_HUMAN\", \"18-31\", \"P26641\", 437, \"Elongation factor 1-gamma \", 0.0, \"EF1G_HUMAN((18-31))((P26641))\", \"first\", 16, 38, 0.524, 0.719, 0.977, 2900.69, 2.902], [\"18_8754_1\", false, \"PSA1_HUMAN\", 0.0, 2.3749e-08, \"PSA1_HUMAN\", \"209-218\", \"P25786\", 263, \"Proteasome subunit alpha type-1 \", 0.0, \"PSA1_HUMAN((209-218))((P25786))\", \"first\", 12, 29, 0.275, 0.675, 0.967, 2953.016, 217.342], [\"14_8596_1\", false, \"SAMH1_HUMAN\", 0.0, 7.69853e-10, \"SAMH1_HUMAN\", \"545-552\", \"Q9Y3Z3\", 626, \"Deoxynucleoside triphosphate triphosphohydrolase SAMHD1 \", 0.001, \"SAMH1_HUMAN((545-552))((Q9Y3Z3))\", \"first\", 10, 34, 0.337, 0.653, 0.981, 2927.095, 15.416], [\"10_8615_1\", false, \"SYVC_HUMAN\", 0.0, 3.48092e-10, \"SYVC_HUMAN\", \"563-572\", \"P26640\", 1264, \"Valine--tRNA ligase \", 0.0, \"SYVC_HUMAN((563-572))((P26640))\", \"first\", 10, 34, 0.201, 0.32, 0.976, 2978.55, 69.815], [\"19_8553_1\", false, \"PPIB_HUMAN\", 0.0, 2.53541e-08, \"PPIB_HUMAN\", \"205-216\", \"P23284\", 216, \"Peptidyl-prolyl cis-trans isomerase B \", 0.0, \"PPIB_HUMAN((205-216))((P23284))\", \"first\", 9, 31, 0.233, 0.549, 0.961, 3107.171, 71.935], [\"3_8333_1\", false, \"MYH9_HUMAN\", 0.0, 4.84486e-11, \"MYH9_HUMAN\", \"1816-1829\", \"P35579\", 1960, \"Myosin-9 \", 0.0, \"MYH9_HUMAN((1816-1829))((P35579))\", \"first\", 15, 37, 0.348, 0.498, 0.98, 3151.828, 23.232], [\"5_8715_1\", false, \"AHNK_HUMAN\", 0.0, 3.27362e-13, \"AHNK_HUMAN\", \"2860-2873\", \"Q09666\", 5890, \"Neuroblast differentiation-associated protein AHNAK \", 0.0, \"AHNK_HUMAN((2860-2873))((Q09666))||AHNK_HUMAN((2604-2617))((Q09666))\", \"first\", 9, 23, 0.164, 0.428, 0.898, 2538.445, 135.471], [\"9_8310_1\", false, \"SRP72_HUMAN\", 0.0, 4.00711e-08, \"SRP72_HUMAN\", \"125-134\", \"O76094\", 671, \"Signal recognition particle subunit SRP72 \", 0.002, \"SRP72_HUMAN((125-134))((O76094))\", \"first\", 11, 31, 0.249, 0.39, 0.584, 3193.952, 35.355], [\"7_8628_1\", false, \"EF2_HUMAN\", 0.0, 7.97359e-10, \"EF2_HUMAN\", \"499-507\", \"P13639\", 858, \"Elongation factor 2 \", 0.0, \"EF2_HUMAN((499-507))((P13639))\", \"first\", 9, 29, 0.323, 0.558, 0.962, 3094.275, 179.874], [\"13_8593_1\", false, \"TCPQ_HUMAN\", 0.0, 8.32174e-09, \"TCPQ_HUMAN\", \"21-32\", \"P50990\", 548, \"T-complex protein 1 subunit theta \", 0.0, \"TCPQ_HUMAN((21-32))((P50990))\", \"first\", 18, 34, 0.432, 0.657, 0.921, 2913.921, 41.433], [\"11_8622_1\", false, \"ZAP70_HUMAN\", 0.0, 1.99929e-09, \"ZAP70_HUMAN\", \"90-100\", \"P43403\", 619, \"Tyrosine-protein kinase ZAP-70 \", 0.0, \"ZAP70_HUMAN((90-100))((P43403))\", \"first\", 12, 31, 0.506, 0.69, 0.45, 2876.852, 9.777], [\"10_8616_1\", false, \"TM214_HUMAN\", 0.0, 5.2266e-07, \"TM214_HUMAN\", \"117-126\", \"Q6NUQ4\", 689, \"Transmembrane protein 214 \", 0.0, \"TM214_HUMAN((117-126))((Q6NUQ4))\", \"first\", 11, 42, 0.262, 0.579, 0.985, 2825.78, 83.157], [\"16_8679_1\", false, \"BIP_HUMAN\", 0.0, 2.65143e-10, \"BIP_HUMAN\", \"102-114\", \"P11021\", 654, \"Endoplasmic reticulum chaperone BiP \", 0.0, \"BIP_HUMAN((102-114))((P11021))\", \"first\", 13, 33, 0.207, 0.383, 0.984, 2984.284, 80.489], [\"5_8716_1\", false, \"AHNK_HUMAN\", 0.0, 3.27362e-13, \"AHNK_HUMAN\", \"2860-2873\", \"Q09666\", 5890, \"Neuroblast differentiation-associated protein AHNAK \", 0.0, \"AHNK_HUMAN((2860-2873))((Q09666))||AHNK_HUMAN((2604-2617))((Q09666))\", \"first\", 21, 40, 0.292, 0.535, 0.929, 2538.445, 135.471], [\"3_8334_1\", false, \"TLN1_HUMAN\", 0.0, 7.84189e-12, \"TLN1_HUMAN\", \"119-132\", \"Q9Y490\", 2541, \"Talin-1 \", 0.0, \"TLN1_HUMAN((119-132))((Q9Y490))\", \"first\", 11, 31, 0.269, 0.52, 0.923, 3275.74, 67.54], [\"19_8554_1\", false, \"RL23A_HUMAN\", 0.0, 2.3466e-07, \"RL23A_HUMAN\", \"79-89\", \"P62750\", 156, \"60S ribosomal protein L23a \", 0.0, \"RL23A_HUMAN((79-89))((P62750))\", \"first\", 11, 34, 0.199, 0.367, 0.874, 3205.635, 57.278], [\"2_7747_1\", false, \"TRYP_PIG\", 0.0, 7.69341e-12, \"TRYP_PIG\", \"58-78\", \"TRYP_PIG\", 231, \"contaminant \", 0.0, \"TRYP_PIG((58-78))((TRYP_PIG))\", \"first\", 17, 39, 0.429, 0.61, 0.871, 4184.235, 34.539], [\"13_8594_1\", false, \"EF2_HUMAN\", 0.0, 7.97359e-10, \"EF2_HUMAN\", \"227-236\", \"P13639\", 858, \"Elongation factor 2 \", 0.0, \"EF2_HUMAN((227-236))((P13639))\", \"first\", 10, 32, 0.179, 0.433, 0.726, 3280.996, 325.469], [\"20_8660_1\", false, \"ARPC4_HUMAN\", 0.0, 1.35565e-09, \"ARPC4_HUMAN\", \"61-72\", \"P59998\", 168, \"Actin-related protein 2/3 complex subunit 4 \", 0.0, \"ARPC4_HUMAN((61-72))((P59998))\", \"first\", 12, 26, 0.463, 0.579, 0.981, 3189.351, 13.163], [\"4_8611_1\", false, \"SPTB2_HUMAN\", 0.0, 3.51291e-12, \"SPTB2_HUMAN\", \"1422-1433\", \"Q01082\", 2364, \"Spectrin beta chain  non-erythrocytic 1 \", 0.0, \"SPTB2_HUMAN((1422-1433))((Q01082))\", \"first\", 14, 47, 0.154, 0.276, 0.823, 2753.564, 81.957], [\"17_8759_1\", false, \"FLNA_HUMAN\", 0.0, 1.01487e-11, \"FLNA_HUMAN\", \"356-368\", \"P21333\", 2647, \"Filamin-A \", 0.0, \"FLNA_HUMAN((356-368))((P21333))\", \"first\", 9, 34, 0.136, 0.349, 0.942, 3124.012, 220.962], [\"11_8623_1\", false, \"FLNA_HUMAN\", 0.0, 1.01487e-11, \"FLNA_HUMAN\", \"1235-1247\", \"P21333\", 2647, \"Filamin-A \", 0.0, \"FLNA_HUMAN((1235-1247))((P21333))\", \"first\", 14, 40, 0.369, 0.629, 0.945, 3000.384, 100.451], [\"8_8343_1\", false, \"RSBN1_HUMAN\", 0.0, 1.11766e-05, \"RSBN1_HUMAN\", \"291-307\", \"Q5VWQ0\", 802, \"Lysine-specific demethylase 9 \", 0.0, \"RSBN1_HUMAN((291-307))((Q5VWQ0))\", \"first\", 12, 21, 0.511, 1.018, 0.905, 2960.759, 2.567], [\"18_8756_1\", false, \"ADHX_HUMAN\", 0.0, 2.07157e-09, \"ADHX_HUMAN\", \"219-227\", \"P11766\", 374, \"Alcohol dehydrogenase class-3 \", 0.0, \"ADHX_HUMAN((219-227))((P11766))\", \"first\", 9, 15, 0.259, 0.481, 0.99, 2929.841, 193.814], [\"10_8617_1\", false, \"sp|P19013\", 0.44, 0.989253, \"sp|P19013\", \"408-424\", \"sp|P19013\", 594, \"SWISS-PROT|P19013 Tax_Id=9606 Gene_Symbol=KRT4 keratin 4 contaminant \", 0.0, \"K2C4_HUMAN((334-350))((P19013))||sp|P19013((408-424))((sp|P19013))\", \"first\", 13, 34, 0.184, 0.331, 0.931, 2766.954, 142.183], [\"12_8831_1\", false, \"PP4R2_HUMAN\", 0.0, 1.17757e-11, \"PP4R2_HUMAN\", \"6-16\", \"Q9NY27\", 417, \"Serine/threonine-protein phosphatase 4 regulatory subunit 2 \", 0.0, \"PP4R2_HUMAN((6-16))((Q9NY27))\", \"first\", 9, 42, 0.195, 0.581, 0.904, 2485.651, 282.893], [\"22_8392_1\", false, \"ATPB_HUMAN\", 0.0, 9.03921e-12, \"ATPB_HUMAN\", \"110-122\", \"P06576\", 529, \"ATP synthase subunit beta  mitochondrial \", 0.335, \"ATPB_HUMAN((110-122))((P06576))\", \"first\", 9, 25, 0.047, 0.102, 0.753, 3034.964, 3.115], [\"10_8618_1\", false, \"ECHA_HUMAN\", 0.0, 9.85733e-10, \"ECHA_HUMAN\", \"296-304\", \"P40939\", 763, \"Trifunctional enzyme subunit alpha  mitochondrial \", 0.002, \"ECHA_HUMAN((296-304))((P40939))\", \"first\", 8, 22, 0.311, 0.446, 0.957, 2960.772, 20.606], [\"5_8717_1\", false, \"CTDP1_HUMAN\", 0.0, 9.62642e-08, \"CTDP1_HUMAN\", \"9-24\", \"Q9Y5B0\", 961, \"RNA polymerase II subunit A C-terminal domain phosphatase \", 0.0, \"CTDP1_HUMAN((9-24))((Q9Y5B0))\", \"first\", 20, 47, 0.459, 0.569, 0.951, 2935.062, 175.445], [\"18_8757_1\", false, \"GRAA_HUMAN\", 0.0, 5.95072e-08, \"GRAA_HUMAN\", \"138-156\", \"P12544\", 262, \"Granzyme A \", 0.026, \"GRAA_HUMAN((138-156))((P12544))\", \"first\", 9, 14, 0.626, 0.786, 0.259, 2830.822, 94.612], [\"11_8624_1\", false, \"API5_HUMAN\", 0.0, 2.27171e-10, \"API5_HUMAN\", \"161-170\", \"Q9BZZ5\", 524, \"Apoptosis inhibitor 5 \", 0.0, \"API5_HUMAN((161-170))((Q9BZZ5))\", \"first\", 9, 23, 0.263, 0.61, 0.941, 2669.193, 230.905], [\"14_8598_1\", false, \"ECHB_HUMAN\", 0.0, 1.88031e-08, \"ECHB_HUMAN\", \"409-417\", \"P55084\", 474, \"Trifunctional enzyme subunit beta  mitochondrial \", 0.0, \"ECHB_HUMAN((409-417))((P55084))\", \"first\", 9, 22, 0.547, 0.699, 0.977, 2764.884, 178.536], [\"19_8555_1\", false, \"PPIB_HUMAN\", 0.0, 2.53541e-08, \"PPIB_HUMAN\", \"132-146\", \"P23284\", 216, \"Peptidyl-prolyl cis-trans isomerase B \", 0.0, \"PPIB_HUMAN((132-146))((P23284))\", \"first\", 12, 32, 0.323, 0.565, 0.892, 3193.225, 157.641], [\"3_8335_1\", false, \"PLEC_HUMAN\", 0.0, 1.38503e-10, \"PLEC_HUMAN\", \"4492-4501\", \"Q15149\", 4684, \"Plectin \", 0.002, \"PLEC_HUMAN((4492-4501))((Q15149))\", \"first\", 10, 24, 0.434, 0.516, 0.803, 3269.884, 94.484], [\"2_7748_1\", false, \"AHNK_HUMAN\", 0.0, 3.27362e-13, \"AHNK_HUMAN\", \"4423-4442\", \"Q09666\", 5890, \"Neuroblast differentiation-associated protein AHNAK \", 0.0, \"AHNK_HUMAN((4423-4442))((Q09666))\", \"first\", 21, 46, 0.454, 0.777, 0.92, 4149.174, 69.828], [\"6_8514_1\", false, \"AHNK_HUMAN\", 0.0, 3.27362e-13, \"AHNK_HUMAN\", \"4607-4618\", \"Q09666\", 5890, \"Neuroblast differentiation-associated protein AHNAK \", 0.0, \"AHNK_HUMAN((4607-4618))((Q09666))\", \"first\", 16, 36, 0.142, 0.404, 0.832, 3023.917, 23.801], [\"13_8595_1\", false, \"SF3B4_HUMAN\", 0.0, 2.45518e-08, \"SF3B4_HUMAN\", \"10-24\", \"Q15427\", 424, \"Splicing factor 3B subunit 4 \", 0.0, \"SF3B4_HUMAN((10-24))((Q15427))\", \"first\", 17, 40, 0.451, 0.618, 0.973, 2976.201, 14.424], [\"9_8312_1\", false, \"EIF3C_HUMAN\", 0.0, 2.27689e-06, \"EIF3C_HUMAN\", \"532-551\", \"Q99613\", 913, \"Eukaryotic translation initiation factor 3 subunit C \", 0.0, \"EIF3C_HUMAN((532-551))((Q99613))||EIFCL_HUMAN((533-552))((B5ME19))\", \"first\", 19, 29, 0.423, 0.485, 0.913, 3142.829, 16.278], [\"9_79_1\", false, \"MYH9_HUMAN\", 0.0, 4.84486e-11, \"MYH9_HUMAN\", \"1092-1100\", \"P35579\", 1960, \"Myosin-9 \", 0.003, \"MYH9_HUMAN((1092-1100))((P35579))\", \"first\", 9, 27, 0.293, 0.562, 0.973, 1303.159, 483.772], [\"3_77_1\", false, \"PRP8_HUMAN\", 0.0, 4.37781e-10, \"PRP8_HUMAN\", \"1232-1240\", \"Q6P2Q9\", 2335, \"Pre-mRNA-processing-splicing factor 8 \", 0.004, \"PRP8_HUMAN((1232-1240))((Q6P2Q9))\", \"first\", 10, 22, 0.255, 0.344, 0.966, 1513.834, 706.361], [\"22_279_1\", false, \"CRIP1_HUMAN\", 0.0, 0.000248283, \"CRIP1_HUMAN\", \"37-50\", \"P50238\", 77, \"Cysteine-rich protein 1 \", 0.003, \"CRIP1_HUMAN((37-50))((P50238))\", \"first\", 11, 33, 0.134, 0.505, 0.926, 3140.27, 2357.3], [\"13_279_1\", false, \"VPS4A_HUMAN\", 0.0, 2.3472e-07, \"VPS4A_HUMAN\", \"237-246\", \"Q9UN37\", 437, \"Vacuolar protein sorting-associated protein 4A \", 0.0, \"VPS4A_HUMAN((237-246))((Q9UN37))\", \"first\", 11, 35, 0.377, 0.601, 0.983, 1368.183, 575.606], [\"12_387_2\", false, \"FLNA_HUMAN\", 0.0, 1.01487e-11, \"FLNA_HUMAN\", \"570-579\", \"P21333\", 2647, \"Filamin-A \", 0.002, \"FLNA_HUMAN((570-579))((P21333))\", \"first\", 13, 51, 0.301, 0.654, 0.31, 902.706, 143.033], [\"6_211_1\", false, \"PKN1_HUMAN\", 0.0, 2.10505e-10, \"PKN1_HUMAN\", \"249-257\", \"Q16512\", 942, \"Serine/threonine-protein kinase N1 \", 0.0, \"PKN1_HUMAN((249-257))((Q16512))\", \"first\", 12, 33, 0.274, 0.65, 0.82, 1217.898, 414.348], [\"8_8345_2\", false, \"COG3_HUMAN\", 0.0, 1.93856e-06, \"COG3_HUMAN\", \"39-48\", \"Q96JB2\", 828, \"Conserved oligomeric Golgi complex subunit 3 \", 0.001, \"COG3_HUMAN((39-48))((Q96JB2))\", \"first\", 7, 14, 0.187, 0.347, 0.922, 2708.052, 250.573], [\"3_8336_1\", false, \"UBP24_HUMAN\", 0.0, 9.21033e-09, \"UBP24_HUMAN\", \"1346-1357\", \"Q9UPU5\", 2620, \"Ubiquitin carboxyl-terminal hydrolase 24 \", 0.0, \"UBP24_HUMAN((1346-1357))((Q9UPU5))\", \"first\", 13, 27, 0.413, 0.502, 0.943, 3169.998, 5.587], [\"1_4987_2\", false, \"AHNK_HUMAN\", 0.0, 3.27362e-13, \"AHNK_HUMAN\", \"3219-3230\", \"Q09666\", 5890, \"Neuroblast differentiation-associated protein AHNAK \", 0.0, \"AHNK_HUMAN((3219-3230))((Q09666))||AHNK_HUMAN((2707-2718))((Q09666))\", \"first\", 11, 21, 0.276, 0.426, 0.975, 4574.294, 107.904], [\"1_4987_1\", false, \"AHNK_HUMAN\", 0.0, 3.27362e-13, \"AHNK_HUMAN\", \"4129-4140\", \"Q09666\", 5890, \"Neuroblast differentiation-associated protein AHNAK \", 0.0, \"AHNK_HUMAN((4129-4140))((Q09666))\", \"lower\", 10, 20, 0.246, 0.396, 0.863, 4355.45, 61.219], [\"15_8719_1\", false, \"G3P_HUMAN\", 0.0, 1.82145e-12, \"G3P_HUMAN\", \"324-336\", \"P04406\", 335, \"Glyceraldehyde-3-phosphate dehydrogenase \", 0.0, \"G3P_HUMAN((324-336))((P04406))\", \"first\", 11, 24, 0.155, 0.32, 0.858, 2962.281, 160.453], [\"10_8619_1\", false, \"2A5D_HUMAN\", 0.0, 8.91816e-06, \"2A5D_HUMAN\", \"550-561\", \"Q14738\", 602, \"Serine/threonine-protein phosphatase 2A 56 kDa regulatory subunit delta isoform \", 0.0, \"2A5D_HUMAN((550-561))((Q14738))\", \"first\", 12, 33, 0.17, 0.381, 0.883, 2833.538, 6.134], [\"12_8832_1\", false, \"SYDC_HUMAN\", 0.0, 7.02192e-08, \"SYDC_HUMAN\", \"461-476\", \"P14868\", 501, \"Aspartate--tRNA ligase  cytoplasmic \", 0.0, \"SYDC_HUMAN((461-476))((P14868))\", \"first\", 12, 20, 0.359, 0.642, 0.929, 2824.161, 52.712], [\"22_8393_1\", false, \"S10A9_HUMAN\", 0.0, 4.53704e-08, \"S10A9_HUMAN\", \"58-73\", \"P06702\", 114, \"Protein S100-A9 \", 0.0, \"S10A9_HUMAN((58-73))((P06702))\", \"first\", 20, 35, 0.33, 0.469, 0.836, 3326.741, 117.807], [\"17_8761_1\", false, \"ARPC2_HUMAN\", 0.0, 7.61508e-10, \"ARPC2_HUMAN\", \"1-10\", \"O15144\", 300, \"Actin-related protein 2/3 complex subunit 2 \", 0.0, \"ARPC2_HUMAN((1-10))((O15144))\", \"first\", 11, 26, 0.491, 0.708, 0.934, 2920.557, 16.443], [\"3_8337_1\", false, \"SPTB2_HUMAN\", 0.0, 3.51291e-12, \"SPTB2_HUMAN\", \"204-215\", \"Q01082\", 2364, \"Spectrin beta chain  non-erythrocytic 1 \", 0.0, \"SPTB2_HUMAN((204-215))((Q01082))\", \"first\", 11, 23, 0.216, 0.333, 0.836, 3249.624, 73.847], [\"6_8515_1\", false, \"CCAR2_HUMAN\", 0.0, 3.66673e-10, \"CCAR2_HUMAN\", \"113-124\", \"Q8N163\", 923, \"Cell cycle and apoptosis regulator protein 2 \", 0.0, \"CCAR2_HUMAN((113-124))((Q8N163))\", \"first\", 13, 35, 0.335, 0.498, 0.974, 2772.543, 228.318], [\"11_8626_1\", false, \"XRCC6_HUMAN\", 0.0, 8.30968e-11, \"XRCC6_HUMAN\", \"326-339\", \"P12956\", 609, \"X-ray repair cross-complementing protein 6 \", 0.0, \"XRCC6_HUMAN((326-339))((P12956))\", \"first\", 11, 41, 0.126, 0.379, 0.885, 2699.971, 197.146], [\"12_8833_1\", false, \"TLN1_HUMAN\", 0.0, 7.84189e-12, \"TLN1_HUMAN\", \"2532-2542\", \"Q9Y490\", 2541, \"Talin-1 \", 0.001, \"TLN1_HUMAN((2532-2542))((Q9Y490))\", \"first\", 7, 16, 0.148, 0.432, 0.926, 2489.403, 279.527], [\"20_8663_1\", false, \"1433Z_HUMAN\", 0.0, 1.77595e-10, \"1433Z_HUMAN\", \"104-116\", \"P63104\", 245, \"14-3-3 protein zeta/delta \", 0.0, \"1433Z_HUMAN((104-116))((P63104))\", \"first\", 10, 21, 0.272, 0.477, 0.954, 3409.455, 199.138], [\"7_8632_1\", false, \"ABCF1_HUMAN\", 0.0, 3.45668e-09, \"ABCF1_HUMAN\", \"703-714\", \"Q8NE71\", 845, \"ATP-binding cassette sub-family F member 1 \", 0.0, \"ABCF1_HUMAN((703-714))((Q8NE71))\", \"first\", 13, 22, 0.335, 0.484, 0.956, 2843.963, 71.139], [\"18_8759_1\", false, \"GDIB_HUMAN\", 0.0, 4.64472e-10, \"GDIB_HUMAN\", \"403-419\", \"P50395\", 445, \"Rab GDP dissociation inhibitor beta \", 0.0, \"GDIB_HUMAN((403-419))((P50395))\", \"first\", 19, 38, 0.306, 0.535, 0.511, 2783.917, 47.309], [\"8_8346_1\", false, \"PDS5B_HUMAN\", 0.0, 7.32133e-10, \"PDS5B_HUMAN\", \"628-648\", \"Q9NTI5\", 1447, \"Sister chromatid cohesion protein PDS5 homolog B \", 0.0, \"PDS5B_HUMAN((628-648))((Q9NTI5))\", \"first\", 17, 25, 0.506, 0.568, 0.921, 3030.818, 71.979], [\"13_8597_1\", false, \"ATPB_HUMAN\", 0.0, 9.03921e-12, \"ATPB_HUMAN\", \"265-280\", \"P06576\", 529, \"ATP synthase subunit beta  mitochondrial \", 0.0, \"ATPB_HUMAN((265-280))((P06576))\", \"first\", 13, 16, 0.375, 0.407, 0.949, 2870.648, 14.376], [\"10_8620_2\", false, \"ENL_HUMAN\", 0.0, 0.000609491, \"ENL_HUMAN\", \"38-51\", \"Q03111\", 559, \"Protein ENL \", 0.0, \"ENL_HUMAN((38-51))((Q03111))\", \"first\", 16, 34, 0.081, 0.167, 0.772, 2954.881, 45.142], [\"10_8620_1\", false, \"ABCF2_HUMAN\", 0.0, 9.78953e-07, \"ABCF2_HUMAN\", \"157-170\", \"Q9UG63\", 623, \"ATP-binding cassette sub-family F member 2 \", 0.0, \"ABCF2_HUMAN((157-170))((Q9UG63))\", \"lower\", 14, 26, 0.132, 0.189, 0.42, 2834.581, 75.158], [\"12_8834_1\", false, \"DPP2_HUMAN\", 0.0, 1.06023e-09, \"DPP2_HUMAN\", \"113-124\", \"Q9UHL4\", 492, \"Dipeptidyl peptidase 2 \", 0.0, \"DPP2_HUMAN((113-124))((Q9UHL4))\", \"first\", 11, 39, 0.305, 0.441, 0.983, 2792.498, 6.883], [\"10_8621_1\", false, \"FOXJ2_HUMAN\", 0.0, 2.06149e-07, \"FOXJ2_HUMAN\", \"224-241\", \"Q9P0K8\", 574, \"Forkhead box protein J2 \", 0.078, \"FOXJ2_HUMAN((224-241))((Q9P0K8))\", \"first\", 6, 16, 0.062, 0.139, 0.635, 2804.289, 105.676], [\"3_8338_1\", false, \"TLN1_HUMAN\", 0.0, 7.84189e-12, \"TLN1_HUMAN\", \"119-132\", \"Q9Y490\", 2541, \"Talin-1 \", 0.0, \"TLN1_HUMAN((119-132))((Q9Y490))\", \"first\", 19, 48, 0.359, 0.608, 0.936, 3275.74, 67.54], [\"14_8601_1\", false, \"LIS1_HUMAN\", 0.0, 3.08664e-09, \"LIS1_HUMAN\", \"391-406\", \"P43034\", 410, \"Platelet-activating factor acetylhydrolase IB subunit beta \", 0.0, \"LIS1_HUMAN((391-406))((P43034))\", \"first\", 16, 37, 0.233, 0.313, 0.929, 3023.096, 48.963], [\"18_8760_1\", false, \"K1C16_HUMAN\", 0.0, 2.09253e-10, \"K1C16_HUMAN\", \"312-331\", \"P08779\", 473, \"Keratin  type I cytoskeletal 16 \", 0.0, \"K1C16_HUMAN((312-331))((P08779))\", \"first\", 16, 27, 0.161, 0.211, 0.907, 2569.091, 167.712], [\"11_8627_1\", false, \"RPN1_HUMAN\", 0.0, 1.461e-09, \"RPN1_HUMAN\", \"205-216\", \"P04843\", 607, \"Dolichyl-diphosphooligosaccharide--protein glycosyltransferase subunit 1 \", 0.0, \"RPN1_HUMAN((205-216))((P04843))\", \"first\", 11, 27, 0.341, 0.501, 0.969, 3048.427, 115.045], [\"4_8614_1\", false, \"LCAP_HUMAN\", 0.0, 2.6028e-10, \"LCAP_HUMAN\", \"893-906\", \"Q9UIQ6\", 1025, \"Leucyl-cystinyl aminopeptidase \", 0.0, \"LCAP_HUMAN((893-906))((Q9UIQ6))\", \"first\", 15, 34, 0.358, 0.472, 0.959, 2741.708, 87.918], [\"13_8598_1\", false, \"DDX6_HUMAN\", 0.0, 8.45738e-10, \"DDX6_HUMAN\", \"467-484\", \"P26196\", 483, \"Probable ATP-dependent RNA helicase DDX6 \", 0.0, \"DDX6_HUMAN((467-484))((P26196))\", \"first\", 9, 20, 0.088, 0.256, 0.829, 2861.743, 94.499], [\"17_8762_1\", false, \"VDAC1_HUMAN\", 0.0, 4.71547e-11, \"VDAC1_HUMAN\", \"97-111\", \"P21796\", 283, \"Voltage-dependent anion-selective channel protein 1 \", 0.0, \"VDAC1_HUMAN((97-111))((P21796))\", \"first\", 13, 32, 0.191, 0.318, 0.927, 2947.472, 20.68], [\"5_8719_1\", false, \"DHX9_HUMAN\", 0.0, 9.20946e-10, \"DHX9_HUMAN\", \"1025-1038\", \"Q08211\", 1270, \"ATP-dependent RNA helicase A \", 0.0, \"DHX9_HUMAN((1025-1038))((Q08211))\", \"first\", 15, 42, 0.34, 0.523, 0.733, 2923.98, 163.493], [\"6_8516_1\", false, \"PACS1_HUMAN\", 0.0, 1.71839e-09, \"PACS1_HUMAN\", \"696-710\", \"Q6VY07\", 963, \"Phosphofurin acidic cluster sorting protein 1 \", 0.0, \"PACS1_HUMAN((696-710))((Q6VY07))\", \"first\", 16, 24, 0.36, 0.712, 0.965, 2916.98, 53.284], [\"2_7751_1\", false, \"MYH9_HUMAN\", 0.0, 4.84486e-11, \"MYH9_HUMAN\", \"1194-1210\", \"P35579\", 1960, \"Myosin-9 \", 0.0, \"MYH9_HUMAN((1194-1210))((P35579))\", \"first\", 16, 36, 0.229, 0.357, 0.958, 4037.791, 42.144], [\"11_8628_1\", false, \"ALBU_BOVIN\", 0.0, 2.13736e-08, \"ALBU_BOVIN\", \"387-400\", \"ALBU_BOVIN\", 607, \"contaminant \", 0.0, \"ALBU_BOVIN((387-400))((ALBU_BOVIN))\", \"first\", 19, 47, 0.299, 0.525, 0.448, 3089.337, 65.93], [\"16_8684_1\", false, \"KT3K_HUMAN\", 0.0, 3.46721e-07, \"KT3K_HUMAN\", \"103-117\", \"Q9HA64\", 309, \"Ketosamine-3-kinase \", 0.0, \"KT3K_HUMAN((103-117))((Q9HA64))\", \"first\", 9, 30, 0.194, 0.521, 0.764, 2662.268, 232.957], [\"21_8764_1\", false, \"UB2V1_HUMAN\", 0.0, 6.52513e-07, \"UB2V1_HUMAN\", \"75-84\", \"Q13404\", 147, \"Ubiquitin-conjugating enzyme E2 variant 1 \", 0.0, \"UB2V1_HUMAN((75-84))((Q13404))\", \"first\", 11, 30, 0.389, 0.567, 0.979, 3122.541, 25.054], [\"17_8763_1\", false, \"MDHC_HUMAN\", 0.0, 5.27682e-08, \"MDHC_HUMAN\", \"180-200\", \"P40925\", 334, \"Malate dehydrogenase  cytoplasmic \", 0.0, \"MDHC_HUMAN((180-200))((P40925))\", \"first\", 16, 45, 0.173, 0.363, 0.931, 3075.49, 140.502], [\"6_8517_1\", false, \"MYH9_HUMAN\", 0.0, 4.84486e-11, \"MYH9_HUMAN\", \"1698-1717\", \"P35579\", 1960, \"Myosin-9 \", 0.0, \"MYH9_HUMAN((1698-1717))((P35579))\", \"first\", 14, 51, 0.223, 0.548, 0.884, 2929.878, 71.284], [\"4_8615_1\", false, \"PTPRC_HUMAN\", 0.0, 3.90357e-10, \"PTPRC_HUMAN\", \"1246-1257\", \"P08575\", 1306, \"Receptor-type tyrosine-protein phosphatase C \", 0.0, \"PTPRC_HUMAN((1246-1257))((P08575))\", \"first\", 10, 31, 0.14, 0.248, 0.958, 2780.503, 53.594], [\"14_8602_1\", false, \"ANXA6_HUMAN\", 0.0, 3.71515e-10, \"ANXA6_HUMAN\", \"561-569\", \"P08133\", 673, \"Annexin A6 \", 0.0, \"ANXA6_HUMAN((561-569))((P08133))\", \"first\", 12, 32, 0.323, 0.713, 0.961, 3112.091, 168.033], [\"17_8764_1\", false, \"SRSF1_HUMAN\", 0.0, 2.66434e-08, \"SRSF1_HUMAN\", \"143-155\", \"Q07955\", 248, \"Serine/arginine-rich splicing factor 1 \", 0.0, \"SRSF1_HUMAN((143-155))((Q07955))\", \"first\", 15, 30, 0.425, 0.601, 0.617, 2890.274, 14.276], [\"15_8723_1\", false, \"PSMD7_HUMAN\", 0.0, 5.79472e-10, \"PSMD7_HUMAN\", \"268-280\", \"P51665\", 324, \"26S proteasome non-ATPase regulatory subunit 7 \", 0.0, \"PSMD7_HUMAN((268-280))((P51665))\", \"first\", 20, 56, 0.343, 0.556, 0.923, 2902.604, 110.152], [\"21_8765_1\", false, \"RM49_HUMAN\", 0.0, 1.67457e-07, \"RM49_HUMAN\", \"135-149\", \"Q13405\", 166, \"39S ribosomal protein L49  mitochondrial \", 0.0, \"RM49_HUMAN((135-149))((Q13405))\", \"first\", 17, 44, 0.467, 0.638, 0.96, 2935.997, 62.399], [\"10_8622_1\", false, \"FLNA_HUMAN\", 0.0, 1.01487e-11, \"FLNA_HUMAN\", \"1235-1247\", \"P21333\", 2647, \"Filamin-A \", 0.0, \"FLNA_HUMAN((1235-1247))((P21333))\", \"first\", 13, 43, 0.37, 0.66, 0.945, 3005.723, 95.043], [\"14_8603_1\", false, \"PRS7_HUMAN\", 0.0, 8.37684e-07, \"PRS7_HUMAN\", \"187-201\", \"P35998\", 433, \"26S proteasome regulatory subunit 7 \", 0.0, \"PRS7_HUMAN((187-201))((P35998))\", \"first\", 10, 26, 0.15, 0.268, 0.882, 2744.562, 196.373], [\"8_8349_1\", false, \"CAN7_HUMAN\", 0.0, 0.000116912, \"CAN7_HUMAN\", \"682-691\", \"Q9Y6W3\", 813, \"Calpain-7 \", 0.0, \"CAN7_HUMAN((682-691))((Q9Y6W3))\", \"first\", 12, 41, 0.168, 0.293, 0.932, 3049.358, 89.886], [\"20_8666_1\", false, \"ATPO_HUMAN\", 0.0, 1.88384e-09, \"ATPO_HUMAN\", \"74-85\", \"P48047\", 213, \"ATP synthase subunit O  mitochondrial \", 0.0, \"ATPO_HUMAN((74-85))((P48047))\", \"first\", 16, 33, 0.39, 0.53, 0.941, 3270.437, 6.989], [\"6_8518_1\", false, \"FYB1_HUMAN\", 0.0, 2.32565e-09, \"FYB1_HUMAN\", \"533-542\", \"O15117\", 783, \"FYN-binding protein 1 \", 0.0, \"FYB1_HUMAN((533-542))((O15117))\", \"first\", 11, 41, 0.318, 0.525, 0.925, 3056.321, 54.981], [\"9_8316_1\", false, \"CAPAM_HUMAN\", 0.0, 1.17461e-07, \"CAPAM_HUMAN\", \"453-464\", \"Q9H4Z3\", 704, \"mRNA (2'-O-methyladenosine-N(6)-)-methyltransferase \", 0.0, \"CAPAM_HUMAN((453-464))((Q9H4Z3))\", \"first\", 12, 34, 0.359, 0.55, 0.789, 3192.575, 32.07], [\"18_8762_1\", false, \"GDIR2_HUMAN\", 0.0, 3.7369e-10, \"GDIR2_HUMAN\", \"5-31\", \"P52566\", 201, \"Rho GDP-dissociation inhibitor 2 \", 0.0, \"GDIR2_HUMAN((5-31))((P52566))\", \"first\", 15, 33, 0.3, 0.46, 0.859, 2581.896, 27.124], [\"10_8623_1\", false, \"ECHA_HUMAN\", 0.0, 9.85733e-10, \"ECHA_HUMAN\", \"665-677\", \"P40939\", 763, \"Trifunctional enzyme subunit alpha  mitochondrial \", 0.0, \"ECHA_HUMAN((665-677))((P40939))\", \"first\", 13, 22, 0.656, 0.776, 0.993, 3001.667, 36.617], [\"17_8765_1\", false, \"RS3A_HUMAN\", 0.0, 9.22329e-08, \"RS3A_HUMAN\", \"188-200\", \"P61247\", 264, \"40S ribosomal protein S3a \", 0.0, \"RS3A_HUMAN((188-200))((P61247))\", \"first\", 11, 33, 0.236, 0.493, 0.941, 2790.649, 114.074], [\"20_8667_1\", false, \"CIB1_HUMAN\", 0.0, 6.17073e-07, \"CIB1_HUMAN\", \"34-44\", \"Q99828\", 191, \"Calcium and integrin-binding protein 1 \", 0.0, \"CIB1_HUMAN((34-44))((Q99828))\", \"first\", 12, 30, 0.363, 0.526, 0.705, 3174.326, 36.815], [\"6_8519_1\", false, \"PININ_HUMAN\", 0.0, 4.56863e-08, \"PININ_HUMAN\", \"272-281\", \"Q9H307\", 717, \"Pinin \", 0.0, \"PININ_HUMAN((272-281))((Q9H307))\", \"first\", 10, 31, 0.241, 0.54, 0.988, 3121.288, 119.762], [\"7_8636_1\", false, \"MSH2_HUMAN\", 0.0, 2.16203e-08, \"MSH2_HUMAN\", \"22-36\", \"P43246\", 934, \"DNA mismatch repair protein Msh2 \", 0.0, \"MSH2_HUMAN((22-36))((P43246))\", \"first\", 11, 34, 0.266, 0.41, 0.929, 3095.893, 179.956], [\"15_8724_3\", false, \"DLGP4_HUMAN\", 0.0, 1.1749e-06, \"DLGP4_HUMAN\", \"899-907\", \"Q9Y2H0\", 992, \"Disks large-associated protein 4 \", 0.006, \"DLGP4_HUMAN((899-907))((Q9Y2H0))\", \"lower\", 11, 25, 0.065, 0.163, 0.95, 2658.621, 134.004], [\"5_8722_1\", false, \"NU155_HUMAN\", 0.0, 1.15281e-10, \"NU155_HUMAN\", \"724-741\", \"O75694\", 1391, \"Nuclear pore complex protein Nup155 \", 0.0, \"NU155_HUMAN((724-741))((O75694))\", \"first\", 16, 44, 0.368, 0.497, 0.927, 2883.703, 122.753], [\"3_8341_1\", false, \"PERF_HUMAN\", 0.0, 4.95633e-10, \"PERF_HUMAN\", \"215-226\", \"P14222\", 555, \"Perforin-1 \", 0.0, \"PERF_HUMAN((215-226))((P14222))\", \"first\", 11, 43, 0.248, 0.492, 0.97, 3287.962, 111.356], [\"15_8724_4\", false, \"SRSF6_HUMAN\", 0.0, 3.17648e-06, \"SRSF6_HUMAN\", \"146-155\", \"Q13247\", 344, \"Serine/arginine-rich splicing factor 6 \", 0.002, \"SRSF6_HUMAN((146-155))((Q13247))\", \"first\", 11, 35, 0.066, 0.112, 0.934, 2942.205, 149.581], [\"13_8601_1\", false, \"DNPEP_HUMAN\", 0.0, 2.40242e-07, \"DNPEP_HUMAN\", \"160-174\", \"Q9ULA0\", 485, \"Aspartyl aminopeptidase \", 0.0, \"DNPEP_HUMAN((160-174))((Q9ULA0))\", \"first\", 20, 56, 0.128, 0.253, 0.796, 2794.554, 157.028], [\"19_8561_1\", false, \"PDC10_HUMAN\", 0.0, 1.57304e-07, \"PDC10_HUMAN\", \"54-66\", \"Q9BUL8\", 212, \"Programmed cell death protein 10 \", 0.0, \"PDC10_HUMAN((54-66))((Q9BUL8))\", \"first\", 13, 38, 0.166, 0.341, 0.87, 3141.993, 105.291], [\"4_8617_1\", false, \"DOCK8_HUMAN\", 0.0, 6.50239e-09, \"DOCK8_HUMAN\", \"1364-1371\", \"Q8NF50\", 2099, \"Dedicator of cytokinesis protein 8 \", 0.008, \"DOCK8_HUMAN((1364-1371))((Q8NF50))\", \"first\", 9, 27, 0.44, 0.659, 0.984, 2609.992, 227.05], [\"17_8766_1\", false, \"RS3A_HUMAN\", 0.0, 9.22329e-08, \"RS3A_HUMAN\", \"188-200\", \"P61247\", 264, \"40S ribosomal protein S3a \", 0.0, \"RS3A_HUMAN((188-200))((P61247))\", \"first\", 10, 23, 0.174, 0.431, 0.941, 2790.649, 114.074], [\"2_7755_1\", false, \"TRYP_PIG\", 0.0, 7.69341e-12, \"TRYP_PIG\", \"58-78\", \"TRYP_PIG\", 231, \"contaminant \", 0.0, \"TRYP_PIG((58-78))((TRYP_PIG))\", \"first\", 30, 94, 0.361, 0.589, 0.935, 4184.235, 34.539], [\"0_7563_1\", false, \"K1C10_HUMAN__sp|P13645\", 0.0, 5.99999e-13, \"K1C10_HUMAN\", \"346-363\", \"P13645\", 593, \"contaminant \", 0.0, \"K1C10_HUMAN((346-363))((P13645))||K1C10_HUMAN((346-363))((K1C10_HUMAN))||sp|P13645((346-363))((sp|P13645))\", \"first\", 9, 13, 0.501, 0.72, 0.721, 4595.276, 40.916], [\"13_8602_1\", false, \"HSP7E_HUMAN\", 0.0, 0.000119607, \"HSP7E_HUMAN\", \"161-169\", \"Q0VDF9\", 509, \"Heat shock 70 kDa protein 14 \", 0.001, \"HSP7E_HUMAN((161-169))((Q0VDF9))\", \"first\", 9, 29, 0.255, 0.38, 0.989, 2953.844, 3.141]];\n",
       "\n",
       "    if (typeof require === 'undefined') {\n",
       "        // TODO: This should become the default (use a simple import)\n",
       "        // when the ESM version works independently of whether\n",
       "        // require.js is there or not, see\n",
       "        // https://datatables.net/forums/discussion/69066/esm-es6-module-support?\n",
       "        const {default: $} = await import(\"https://esm.sh/jquery@3.5.0\");\n",
       "        const {default: initDataTables} = await import(\"https://esm.sh/datatables.net@1.11.3?deps=jquery@3.5.0\");\n",
       "\n",
       "        initDataTables();\n",
       "\n",
       "        // Define the dt_args\n",
       "        let dt_args = {};\n",
       "        dt_args[\"data\"] = data;\n",
       "\n",
       "        // Display the table\n",
       "        $(document).ready(function () {\n",
       "            $('#c51b43db-b593-4c16-ab3c-cf60620e5652').DataTable(dt_args);\n",
       "        });\n",
       "    } else {\n",
       "        require([\"jquery\", \"datatables\"], ($, datatables) => {\n",
       "                // Define the dt_args\n",
       "                let dt_args = {};\n",
       "                dt_args[\"data\"] = data;\n",
       "\n",
       "                // Display the table\n",
       "                $(document).ready(function () {\n",
       "                    $('#c51b43db-b593-4c16-ab3c-cf60620e5652').DataTable(dt_args);\n",
       "                });\n",
       "            }\n",
       "        )\n",
       "    }\n",
       "</script>\n"
      ],
      "text/plain": [
       "    ionbot_match_id  is_shared_peptide        protein_group  \\\n",
       "0            19_5_1              False            H13_HUMAN   \n",
       "1            10_8_1              False          ANXA6_HUMAN   \n",
       "2            22_5_1              False           B2MG_HUMAN   \n",
       "3             7_6_1              False          MATR3_HUMAN   \n",
       "4           10_28_1              False           EZRI_HUMAN   \n",
       "..              ...                ...                  ...   \n",
       "195        4_8617_1              False          DOCK8_HUMAN   \n",
       "196       17_8766_1              False           RS3A_HUMAN   \n",
       "197        2_7755_1              False             TRYP_PIG   \n",
       "198        0_7563_1              False  K1C10_HUMAN__sp|...   \n",
       "199       13_8602_1              False          HSP7E_HUMAN   \n",
       "\n",
       "     protein_group_q-value  protein_group_PEP      protein  \\\n",
       "0                    0.0         2.608590e-07    H13_HUMAN   \n",
       "1                    0.0         3.715150e-10  ANXA6_HUMAN   \n",
       "2                    0.0         3.443430e-07   B2MG_HUMAN   \n",
       "3                    0.0         1.751380e-10  MATR3_HUMAN   \n",
       "4                    0.0         6.146990e-08   EZRI_HUMAN   \n",
       "..                   ...                  ...          ...   \n",
       "195                  0.0         6.502390e-09  DOCK8_HUMAN   \n",
       "196                  0.0         9.223290e-08   RS3A_HUMAN   \n",
       "197                  0.0         7.693410e-12     TRYP_PIG   \n",
       "198                  0.0         5.999990e-13  K1C10_HUMAN   \n",
       "199                  0.0         1.196070e-04  HSP7E_HUMAN   \n",
       "\n",
       "    position_in_protein uniprot_id  protein_length  protein_description  ...  \\\n",
       "0               124-131     P16402             221        Histone H1.3   ...   \n",
       "1               450-457     P08133             673          Annexin A6   ...   \n",
       "2                 33-40     P61769             119  Beta-2-microglob...  ...   \n",
       "3               479-488     P43243             847            Matrin-3   ...   \n",
       "4               510-517     P15311             586               Ezrin   ...   \n",
       "..                  ...        ...             ...                  ...  ...   \n",
       "195           1364-1371     Q8NF50            2099  Dedicator of cyt...  ...   \n",
       "196             188-200     P61247             264  40S ribosomal pr...  ...   \n",
       "197               58-78   TRYP_PIG             231         contaminant   ...   \n",
       "198             346-363     P13645             593         contaminant   ...   \n",
       "199             161-169     Q0VDF9             509  Heat shock 70 kD...  ...   \n",
       "\n",
       "       PEP             proteins   rank by-count  all-count  by-explained  \\\n",
       "0    0.002  H13_HUMAN((124-1...  first        9         29         0.373   \n",
       "1    0.041  ANXA6_HUMAN((450...  first       10         51         0.316   \n",
       "2    0.115  B2MG_HUMAN((33-4...  first       12         42         0.268   \n",
       "3    0.002  MATR3_HUMAN((479...  first       10         34         0.258   \n",
       "4    0.004  EZRI_HUMAN((510-...  first       10         45         0.249   \n",
       "..     ...                  ...    ...      ...        ...           ...   \n",
       "195  0.008  DOCK8_HUMAN((136...  first        9         27         0.440   \n",
       "196  0.000  RS3A_HUMAN((188-...  first       10         23         0.174   \n",
       "197  0.000  TRYP_PIG((58-78)...  first       30         94         0.361   \n",
       "198  0.000  K1C10_HUMAN((346...  first        9         13         0.501   \n",
       "199  0.001  HSP7E_HUMAN((161...  first        9         29         0.255   \n",
       "\n",
       "     all-explained  by-intensity-pattern-correlation predicted_retention_time  \\\n",
       "0            0.589                0.906                          1517.148       \n",
       "1            0.630                0.987                           967.732       \n",
       "2            0.588                0.887                          1916.716       \n",
       "3            0.601                0.827                           857.875       \n",
       "4            0.682                0.864                           972.544       \n",
       "..             ...                  ...                               ...       \n",
       "195          0.659                0.984                          2609.992       \n",
       "196          0.431                0.941                          2790.649       \n",
       "197          0.589                0.935                          4184.235       \n",
       "198          0.720                0.721                          4595.276       \n",
       "199          0.380                0.989                          2953.844       \n",
       "\n",
       "    rt-pred-error  \n",
       "0         397.597  \n",
       "1         606.213  \n",
       "2        1577.966  \n",
       "3         506.792  \n",
       "4         623.667  \n",
       "..            ...  \n",
       "195       227.050  \n",
       "196       114.074  \n",
       "197        34.539  \n",
       "198        40.916  \n",
       "199         3.141  \n",
       "\n",
       "[200 rows x 38 columns]"
      ]
     },
     "execution_count": 34,
     "metadata": {},
     "output_type": "execute_result"
    }
   ],
   "source": [
    "proteins.head(200)"
   ]
  },
  {
   "cell_type": "code",
   "execution_count": 35,
   "metadata": {},
   "outputs": [
    {
     "data": {
      "application/vnd.plotly.v1+json": {
       "config": {
        "plotlyServerURL": "https://plot.ly"
       },
       "data": [
        {
         "alignmentgroup": "True",
         "hovertemplate": "#ids=%{x}<br>sample=%{y}<extra></extra>",
         "legendgroup": "",
         "marker": {
          "color": "#636efa"
         },
         "name": "",
         "offsetgroup": "",
         "orientation": "h",
         "showlegend": false,
         "textposition": "auto",
         "type": "bar",
         "x": [
          249255,
          221609,
          183690
         ],
         "xaxis": "x",
         "y": [
          "PXD000561_full",
          "PXD000561_nocorr_nort",
          "PXD000561_closed"
         ],
         "yaxis": "y"
        }
       ],
       "layout": {
        "barmode": "relative",
        "legend": {
         "tracegroupgap": 0
        },
        "margin": {
         "t": 60
        },
        "template": {
         "data": {
          "bar": [
           {
            "error_x": {
             "color": "#2a3f5f"
            },
            "error_y": {
             "color": "#2a3f5f"
            },
            "marker": {
             "line": {
              "color": "#E5ECF6",
              "width": 0.5
             }
            },
            "type": "bar"
           }
          ],
          "barpolar": [
           {
            "marker": {
             "line": {
              "color": "#E5ECF6",
              "width": 0.5
             }
            },
            "type": "barpolar"
           }
          ],
          "carpet": [
           {
            "aaxis": {
             "endlinecolor": "#2a3f5f",
             "gridcolor": "white",
             "linecolor": "white",
             "minorgridcolor": "white",
             "startlinecolor": "#2a3f5f"
            },
            "baxis": {
             "endlinecolor": "#2a3f5f",
             "gridcolor": "white",
             "linecolor": "white",
             "minorgridcolor": "white",
             "startlinecolor": "#2a3f5f"
            },
            "type": "carpet"
           }
          ],
          "choropleth": [
           {
            "colorbar": {
             "outlinewidth": 0,
             "ticks": ""
            },
            "type": "choropleth"
           }
          ],
          "contour": [
           {
            "colorbar": {
             "outlinewidth": 0,
             "ticks": ""
            },
            "colorscale": [
             [
              0,
              "#0d0887"
             ],
             [
              0.1111111111111111,
              "#46039f"
             ],
             [
              0.2222222222222222,
              "#7201a8"
             ],
             [
              0.3333333333333333,
              "#9c179e"
             ],
             [
              0.4444444444444444,
              "#bd3786"
             ],
             [
              0.5555555555555556,
              "#d8576b"
             ],
             [
              0.6666666666666666,
              "#ed7953"
             ],
             [
              0.7777777777777778,
              "#fb9f3a"
             ],
             [
              0.8888888888888888,
              "#fdca26"
             ],
             [
              1,
              "#f0f921"
             ]
            ],
            "type": "contour"
           }
          ],
          "contourcarpet": [
           {
            "colorbar": {
             "outlinewidth": 0,
             "ticks": ""
            },
            "type": "contourcarpet"
           }
          ],
          "heatmap": [
           {
            "colorbar": {
             "outlinewidth": 0,
             "ticks": ""
            },
            "colorscale": [
             [
              0,
              "#0d0887"
             ],
             [
              0.1111111111111111,
              "#46039f"
             ],
             [
              0.2222222222222222,
              "#7201a8"
             ],
             [
              0.3333333333333333,
              "#9c179e"
             ],
             [
              0.4444444444444444,
              "#bd3786"
             ],
             [
              0.5555555555555556,
              "#d8576b"
             ],
             [
              0.6666666666666666,
              "#ed7953"
             ],
             [
              0.7777777777777778,
              "#fb9f3a"
             ],
             [
              0.8888888888888888,
              "#fdca26"
             ],
             [
              1,
              "#f0f921"
             ]
            ],
            "type": "heatmap"
           }
          ],
          "heatmapgl": [
           {
            "colorbar": {
             "outlinewidth": 0,
             "ticks": ""
            },
            "colorscale": [
             [
              0,
              "#0d0887"
             ],
             [
              0.1111111111111111,
              "#46039f"
             ],
             [
              0.2222222222222222,
              "#7201a8"
             ],
             [
              0.3333333333333333,
              "#9c179e"
             ],
             [
              0.4444444444444444,
              "#bd3786"
             ],
             [
              0.5555555555555556,
              "#d8576b"
             ],
             [
              0.6666666666666666,
              "#ed7953"
             ],
             [
              0.7777777777777778,
              "#fb9f3a"
             ],
             [
              0.8888888888888888,
              "#fdca26"
             ],
             [
              1,
              "#f0f921"
             ]
            ],
            "type": "heatmapgl"
           }
          ],
          "histogram": [
           {
            "marker": {
             "colorbar": {
              "outlinewidth": 0,
              "ticks": ""
             }
            },
            "type": "histogram"
           }
          ],
          "histogram2d": [
           {
            "colorbar": {
             "outlinewidth": 0,
             "ticks": ""
            },
            "colorscale": [
             [
              0,
              "#0d0887"
             ],
             [
              0.1111111111111111,
              "#46039f"
             ],
             [
              0.2222222222222222,
              "#7201a8"
             ],
             [
              0.3333333333333333,
              "#9c179e"
             ],
             [
              0.4444444444444444,
              "#bd3786"
             ],
             [
              0.5555555555555556,
              "#d8576b"
             ],
             [
              0.6666666666666666,
              "#ed7953"
             ],
             [
              0.7777777777777778,
              "#fb9f3a"
             ],
             [
              0.8888888888888888,
              "#fdca26"
             ],
             [
              1,
              "#f0f921"
             ]
            ],
            "type": "histogram2d"
           }
          ],
          "histogram2dcontour": [
           {
            "colorbar": {
             "outlinewidth": 0,
             "ticks": ""
            },
            "colorscale": [
             [
              0,
              "#0d0887"
             ],
             [
              0.1111111111111111,
              "#46039f"
             ],
             [
              0.2222222222222222,
              "#7201a8"
             ],
             [
              0.3333333333333333,
              "#9c179e"
             ],
             [
              0.4444444444444444,
              "#bd3786"
             ],
             [
              0.5555555555555556,
              "#d8576b"
             ],
             [
              0.6666666666666666,
              "#ed7953"
             ],
             [
              0.7777777777777778,
              "#fb9f3a"
             ],
             [
              0.8888888888888888,
              "#fdca26"
             ],
             [
              1,
              "#f0f921"
             ]
            ],
            "type": "histogram2dcontour"
           }
          ],
          "mesh3d": [
           {
            "colorbar": {
             "outlinewidth": 0,
             "ticks": ""
            },
            "type": "mesh3d"
           }
          ],
          "parcoords": [
           {
            "line": {
             "colorbar": {
              "outlinewidth": 0,
              "ticks": ""
             }
            },
            "type": "parcoords"
           }
          ],
          "pie": [
           {
            "automargin": true,
            "type": "pie"
           }
          ],
          "scatter": [
           {
            "marker": {
             "colorbar": {
              "outlinewidth": 0,
              "ticks": ""
             }
            },
            "type": "scatter"
           }
          ],
          "scatter3d": [
           {
            "line": {
             "colorbar": {
              "outlinewidth": 0,
              "ticks": ""
             }
            },
            "marker": {
             "colorbar": {
              "outlinewidth": 0,
              "ticks": ""
             }
            },
            "type": "scatter3d"
           }
          ],
          "scattercarpet": [
           {
            "marker": {
             "colorbar": {
              "outlinewidth": 0,
              "ticks": ""
             }
            },
            "type": "scattercarpet"
           }
          ],
          "scattergeo": [
           {
            "marker": {
             "colorbar": {
              "outlinewidth": 0,
              "ticks": ""
             }
            },
            "type": "scattergeo"
           }
          ],
          "scattergl": [
           {
            "marker": {
             "colorbar": {
              "outlinewidth": 0,
              "ticks": ""
             }
            },
            "type": "scattergl"
           }
          ],
          "scattermapbox": [
           {
            "marker": {
             "colorbar": {
              "outlinewidth": 0,
              "ticks": ""
             }
            },
            "type": "scattermapbox"
           }
          ],
          "scatterpolar": [
           {
            "marker": {
             "colorbar": {
              "outlinewidth": 0,
              "ticks": ""
             }
            },
            "type": "scatterpolar"
           }
          ],
          "scatterpolargl": [
           {
            "marker": {
             "colorbar": {
              "outlinewidth": 0,
              "ticks": ""
             }
            },
            "type": "scatterpolargl"
           }
          ],
          "scatterternary": [
           {
            "marker": {
             "colorbar": {
              "outlinewidth": 0,
              "ticks": ""
             }
            },
            "type": "scatterternary"
           }
          ],
          "surface": [
           {
            "colorbar": {
             "outlinewidth": 0,
             "ticks": ""
            },
            "colorscale": [
             [
              0,
              "#0d0887"
             ],
             [
              0.1111111111111111,
              "#46039f"
             ],
             [
              0.2222222222222222,
              "#7201a8"
             ],
             [
              0.3333333333333333,
              "#9c179e"
             ],
             [
              0.4444444444444444,
              "#bd3786"
             ],
             [
              0.5555555555555556,
              "#d8576b"
             ],
             [
              0.6666666666666666,
              "#ed7953"
             ],
             [
              0.7777777777777778,
              "#fb9f3a"
             ],
             [
              0.8888888888888888,
              "#fdca26"
             ],
             [
              1,
              "#f0f921"
             ]
            ],
            "type": "surface"
           }
          ],
          "table": [
           {
            "cells": {
             "fill": {
              "color": "#EBF0F8"
             },
             "line": {
              "color": "white"
             }
            },
            "header": {
             "fill": {
              "color": "#C8D4E3"
             },
             "line": {
              "color": "white"
             }
            },
            "type": "table"
           }
          ]
         },
         "layout": {
          "annotationdefaults": {
           "arrowcolor": "#2a3f5f",
           "arrowhead": 0,
           "arrowwidth": 1
          },
          "coloraxis": {
           "colorbar": {
            "outlinewidth": 0,
            "ticks": ""
           }
          },
          "colorscale": {
           "diverging": [
            [
             0,
             "#8e0152"
            ],
            [
             0.1,
             "#c51b7d"
            ],
            [
             0.2,
             "#de77ae"
            ],
            [
             0.3,
             "#f1b6da"
            ],
            [
             0.4,
             "#fde0ef"
            ],
            [
             0.5,
             "#f7f7f7"
            ],
            [
             0.6,
             "#e6f5d0"
            ],
            [
             0.7,
             "#b8e186"
            ],
            [
             0.8,
             "#7fbc41"
            ],
            [
             0.9,
             "#4d9221"
            ],
            [
             1,
             "#276419"
            ]
           ],
           "sequential": [
            [
             0,
             "#0d0887"
            ],
            [
             0.1111111111111111,
             "#46039f"
            ],
            [
             0.2222222222222222,
             "#7201a8"
            ],
            [
             0.3333333333333333,
             "#9c179e"
            ],
            [
             0.4444444444444444,
             "#bd3786"
            ],
            [
             0.5555555555555556,
             "#d8576b"
            ],
            [
             0.6666666666666666,
             "#ed7953"
            ],
            [
             0.7777777777777778,
             "#fb9f3a"
            ],
            [
             0.8888888888888888,
             "#fdca26"
            ],
            [
             1,
             "#f0f921"
            ]
           ],
           "sequentialminus": [
            [
             0,
             "#0d0887"
            ],
            [
             0.1111111111111111,
             "#46039f"
            ],
            [
             0.2222222222222222,
             "#7201a8"
            ],
            [
             0.3333333333333333,
             "#9c179e"
            ],
            [
             0.4444444444444444,
             "#bd3786"
            ],
            [
             0.5555555555555556,
             "#d8576b"
            ],
            [
             0.6666666666666666,
             "#ed7953"
            ],
            [
             0.7777777777777778,
             "#fb9f3a"
            ],
            [
             0.8888888888888888,
             "#fdca26"
            ],
            [
             1,
             "#f0f921"
            ]
           ]
          },
          "colorway": [
           "#636efa",
           "#EF553B",
           "#00cc96",
           "#ab63fa",
           "#FFA15A",
           "#19d3f3",
           "#FF6692",
           "#B6E880",
           "#FF97FF",
           "#FECB52"
          ],
          "font": {
           "color": "#2a3f5f"
          },
          "geo": {
           "bgcolor": "white",
           "lakecolor": "white",
           "landcolor": "#E5ECF6",
           "showlakes": true,
           "showland": true,
           "subunitcolor": "white"
          },
          "hoverlabel": {
           "align": "left"
          },
          "hovermode": "closest",
          "mapbox": {
           "style": "light"
          },
          "paper_bgcolor": "white",
          "plot_bgcolor": "#E5ECF6",
          "polar": {
           "angularaxis": {
            "gridcolor": "white",
            "linecolor": "white",
            "ticks": ""
           },
           "bgcolor": "#E5ECF6",
           "radialaxis": {
            "gridcolor": "white",
            "linecolor": "white",
            "ticks": ""
           }
          },
          "scene": {
           "xaxis": {
            "backgroundcolor": "#E5ECF6",
            "gridcolor": "white",
            "gridwidth": 2,
            "linecolor": "white",
            "showbackground": true,
            "ticks": "",
            "zerolinecolor": "white"
           },
           "yaxis": {
            "backgroundcolor": "#E5ECF6",
            "gridcolor": "white",
            "gridwidth": 2,
            "linecolor": "white",
            "showbackground": true,
            "ticks": "",
            "zerolinecolor": "white"
           },
           "zaxis": {
            "backgroundcolor": "#E5ECF6",
            "gridcolor": "white",
            "gridwidth": 2,
            "linecolor": "white",
            "showbackground": true,
            "ticks": "",
            "zerolinecolor": "white"
           }
          },
          "shapedefaults": {
           "line": {
            "color": "#2a3f5f"
           }
          },
          "ternary": {
           "aaxis": {
            "gridcolor": "white",
            "linecolor": "white",
            "ticks": ""
           },
           "baxis": {
            "gridcolor": "white",
            "linecolor": "white",
            "ticks": ""
           },
           "bgcolor": "#E5ECF6",
           "caxis": {
            "gridcolor": "white",
            "linecolor": "white",
            "ticks": ""
           }
          },
          "title": {
           "x": 0.05
          },
          "xaxis": {
           "automargin": true,
           "gridcolor": "white",
           "linecolor": "white",
           "ticks": "",
           "title": {
            "standoff": 15
           },
           "zerolinecolor": "white",
           "zerolinewidth": 2
          },
          "yaxis": {
           "automargin": true,
           "gridcolor": "white",
           "linecolor": "white",
           "ticks": "",
           "title": {
            "standoff": 15
           },
           "zerolinecolor": "white",
           "zerolinewidth": 2
          }
         }
        },
        "xaxis": {
         "anchor": "y",
         "domain": [
          0,
          1
         ],
         "title": {
          "text": "#ids"
         }
        },
        "yaxis": {
         "anchor": "x",
         "categoryorder": "total ascending",
         "domain": [
          0,
          1
         ],
         "title": {
          "text": "sample"
         }
        }
       }
      },
      "text/html": [
       "<div>                            <div id=\"e2eed5c0-49bf-4080-8cb4-2b9abcb5d3d1\" class=\"plotly-graph-div\" style=\"height:525px; width:100%;\"></div>            <script type=\"text/javascript\">                require([\"plotly\"], function(Plotly) {                    window.PLOTLYENV=window.PLOTLYENV || {};                                    if (document.getElementById(\"e2eed5c0-49bf-4080-8cb4-2b9abcb5d3d1\")) {                    Plotly.newPlot(                        \"e2eed5c0-49bf-4080-8cb4-2b9abcb5d3d1\",                        [{\"alignmentgroup\": \"True\", \"hovertemplate\": \"#ids=%{x}<br>sample=%{y}<extra></extra>\", \"legendgroup\": \"\", \"marker\": {\"color\": \"#636efa\"}, \"name\": \"\", \"offsetgroup\": \"\", \"orientation\": \"h\", \"showlegend\": false, \"textposition\": \"auto\", \"type\": \"bar\", \"x\": [249255, 221609, 183690], \"xaxis\": \"x\", \"y\": [\"PXD000561_full\", \"PXD000561_nocorr_nort\", \"PXD000561_closed\"], \"yaxis\": \"y\"}],                        {\"barmode\": \"relative\", \"legend\": {\"tracegroupgap\": 0}, \"margin\": {\"t\": 60}, \"template\": {\"data\": {\"bar\": [{\"error_x\": {\"color\": \"#2a3f5f\"}, \"error_y\": {\"color\": \"#2a3f5f\"}, \"marker\": {\"line\": {\"color\": \"#E5ECF6\", \"width\": 0.5}}, \"type\": \"bar\"}], \"barpolar\": [{\"marker\": {\"line\": {\"color\": \"#E5ECF6\", \"width\": 0.5}}, \"type\": \"barpolar\"}], \"carpet\": [{\"aaxis\": {\"endlinecolor\": \"#2a3f5f\", \"gridcolor\": \"white\", \"linecolor\": \"white\", \"minorgridcolor\": \"white\", \"startlinecolor\": \"#2a3f5f\"}, \"baxis\": {\"endlinecolor\": \"#2a3f5f\", \"gridcolor\": \"white\", \"linecolor\": \"white\", \"minorgridcolor\": \"white\", \"startlinecolor\": \"#2a3f5f\"}, \"type\": \"carpet\"}], \"choropleth\": [{\"colorbar\": {\"outlinewidth\": 0, \"ticks\": \"\"}, \"type\": \"choropleth\"}], \"contour\": [{\"colorbar\": {\"outlinewidth\": 0, \"ticks\": \"\"}, \"colorscale\": [[0.0, \"#0d0887\"], [0.1111111111111111, \"#46039f\"], [0.2222222222222222, \"#7201a8\"], [0.3333333333333333, \"#9c179e\"], [0.4444444444444444, \"#bd3786\"], [0.5555555555555556, \"#d8576b\"], [0.6666666666666666, \"#ed7953\"], [0.7777777777777778, \"#fb9f3a\"], [0.8888888888888888, \"#fdca26\"], [1.0, \"#f0f921\"]], \"type\": \"contour\"}], \"contourcarpet\": [{\"colorbar\": {\"outlinewidth\": 0, \"ticks\": \"\"}, \"type\": \"contourcarpet\"}], \"heatmap\": [{\"colorbar\": {\"outlinewidth\": 0, \"ticks\": \"\"}, \"colorscale\": [[0.0, \"#0d0887\"], [0.1111111111111111, \"#46039f\"], [0.2222222222222222, \"#7201a8\"], [0.3333333333333333, \"#9c179e\"], [0.4444444444444444, \"#bd3786\"], [0.5555555555555556, \"#d8576b\"], [0.6666666666666666, \"#ed7953\"], [0.7777777777777778, \"#fb9f3a\"], [0.8888888888888888, \"#fdca26\"], [1.0, \"#f0f921\"]], \"type\": \"heatmap\"}], \"heatmapgl\": [{\"colorbar\": {\"outlinewidth\": 0, \"ticks\": \"\"}, \"colorscale\": [[0.0, \"#0d0887\"], [0.1111111111111111, \"#46039f\"], [0.2222222222222222, \"#7201a8\"], [0.3333333333333333, \"#9c179e\"], [0.4444444444444444, \"#bd3786\"], [0.5555555555555556, \"#d8576b\"], [0.6666666666666666, \"#ed7953\"], [0.7777777777777778, \"#fb9f3a\"], [0.8888888888888888, \"#fdca26\"], [1.0, \"#f0f921\"]], \"type\": \"heatmapgl\"}], \"histogram\": [{\"marker\": {\"colorbar\": {\"outlinewidth\": 0, \"ticks\": \"\"}}, \"type\": \"histogram\"}], \"histogram2d\": [{\"colorbar\": {\"outlinewidth\": 0, \"ticks\": \"\"}, \"colorscale\": [[0.0, \"#0d0887\"], [0.1111111111111111, \"#46039f\"], [0.2222222222222222, \"#7201a8\"], [0.3333333333333333, \"#9c179e\"], [0.4444444444444444, \"#bd3786\"], [0.5555555555555556, \"#d8576b\"], [0.6666666666666666, \"#ed7953\"], [0.7777777777777778, \"#fb9f3a\"], [0.8888888888888888, \"#fdca26\"], [1.0, \"#f0f921\"]], \"type\": \"histogram2d\"}], \"histogram2dcontour\": [{\"colorbar\": {\"outlinewidth\": 0, \"ticks\": \"\"}, \"colorscale\": [[0.0, \"#0d0887\"], [0.1111111111111111, \"#46039f\"], [0.2222222222222222, \"#7201a8\"], [0.3333333333333333, \"#9c179e\"], [0.4444444444444444, \"#bd3786\"], [0.5555555555555556, \"#d8576b\"], [0.6666666666666666, \"#ed7953\"], [0.7777777777777778, \"#fb9f3a\"], [0.8888888888888888, \"#fdca26\"], [1.0, \"#f0f921\"]], \"type\": \"histogram2dcontour\"}], \"mesh3d\": [{\"colorbar\": {\"outlinewidth\": 0, \"ticks\": \"\"}, \"type\": \"mesh3d\"}], \"parcoords\": [{\"line\": {\"colorbar\": {\"outlinewidth\": 0, \"ticks\": \"\"}}, \"type\": \"parcoords\"}], \"pie\": [{\"automargin\": true, \"type\": \"pie\"}], \"scatter\": [{\"marker\": {\"colorbar\": {\"outlinewidth\": 0, \"ticks\": \"\"}}, \"type\": \"scatter\"}], \"scatter3d\": [{\"line\": {\"colorbar\": {\"outlinewidth\": 0, \"ticks\": \"\"}}, \"marker\": {\"colorbar\": {\"outlinewidth\": 0, \"ticks\": \"\"}}, \"type\": \"scatter3d\"}], \"scattercarpet\": [{\"marker\": {\"colorbar\": {\"outlinewidth\": 0, \"ticks\": \"\"}}, \"type\": \"scattercarpet\"}], \"scattergeo\": [{\"marker\": {\"colorbar\": {\"outlinewidth\": 0, \"ticks\": \"\"}}, \"type\": \"scattergeo\"}], \"scattergl\": [{\"marker\": {\"colorbar\": {\"outlinewidth\": 0, \"ticks\": \"\"}}, \"type\": \"scattergl\"}], \"scattermapbox\": [{\"marker\": {\"colorbar\": {\"outlinewidth\": 0, \"ticks\": \"\"}}, \"type\": \"scattermapbox\"}], \"scatterpolar\": [{\"marker\": {\"colorbar\": {\"outlinewidth\": 0, \"ticks\": \"\"}}, \"type\": \"scatterpolar\"}], \"scatterpolargl\": [{\"marker\": {\"colorbar\": {\"outlinewidth\": 0, \"ticks\": \"\"}}, \"type\": \"scatterpolargl\"}], \"scatterternary\": [{\"marker\": {\"colorbar\": {\"outlinewidth\": 0, \"ticks\": \"\"}}, \"type\": \"scatterternary\"}], \"surface\": [{\"colorbar\": {\"outlinewidth\": 0, \"ticks\": \"\"}, \"colorscale\": [[0.0, \"#0d0887\"], [0.1111111111111111, \"#46039f\"], [0.2222222222222222, \"#7201a8\"], [0.3333333333333333, \"#9c179e\"], [0.4444444444444444, \"#bd3786\"], [0.5555555555555556, \"#d8576b\"], [0.6666666666666666, \"#ed7953\"], [0.7777777777777778, \"#fb9f3a\"], [0.8888888888888888, \"#fdca26\"], [1.0, \"#f0f921\"]], \"type\": \"surface\"}], \"table\": [{\"cells\": {\"fill\": {\"color\": \"#EBF0F8\"}, \"line\": {\"color\": \"white\"}}, \"header\": {\"fill\": {\"color\": \"#C8D4E3\"}, \"line\": {\"color\": \"white\"}}, \"type\": \"table\"}]}, \"layout\": {\"annotationdefaults\": {\"arrowcolor\": \"#2a3f5f\", \"arrowhead\": 0, \"arrowwidth\": 1}, \"coloraxis\": {\"colorbar\": {\"outlinewidth\": 0, \"ticks\": \"\"}}, \"colorscale\": {\"diverging\": [[0, \"#8e0152\"], [0.1, \"#c51b7d\"], [0.2, \"#de77ae\"], [0.3, \"#f1b6da\"], [0.4, \"#fde0ef\"], [0.5, \"#f7f7f7\"], [0.6, \"#e6f5d0\"], [0.7, \"#b8e186\"], [0.8, \"#7fbc41\"], [0.9, \"#4d9221\"], [1, \"#276419\"]], \"sequential\": [[0.0, \"#0d0887\"], [0.1111111111111111, \"#46039f\"], [0.2222222222222222, \"#7201a8\"], [0.3333333333333333, \"#9c179e\"], [0.4444444444444444, \"#bd3786\"], [0.5555555555555556, \"#d8576b\"], [0.6666666666666666, \"#ed7953\"], [0.7777777777777778, \"#fb9f3a\"], [0.8888888888888888, \"#fdca26\"], [1.0, \"#f0f921\"]], \"sequentialminus\": [[0.0, \"#0d0887\"], [0.1111111111111111, \"#46039f\"], [0.2222222222222222, \"#7201a8\"], [0.3333333333333333, \"#9c179e\"], [0.4444444444444444, \"#bd3786\"], [0.5555555555555556, \"#d8576b\"], [0.6666666666666666, \"#ed7953\"], [0.7777777777777778, \"#fb9f3a\"], [0.8888888888888888, \"#fdca26\"], [1.0, \"#f0f921\"]]}, \"colorway\": [\"#636efa\", \"#EF553B\", \"#00cc96\", \"#ab63fa\", \"#FFA15A\", \"#19d3f3\", \"#FF6692\", \"#B6E880\", \"#FF97FF\", \"#FECB52\"], \"font\": {\"color\": \"#2a3f5f\"}, \"geo\": {\"bgcolor\": \"white\", \"lakecolor\": \"white\", \"landcolor\": \"#E5ECF6\", \"showlakes\": true, \"showland\": true, \"subunitcolor\": \"white\"}, \"hoverlabel\": {\"align\": \"left\"}, \"hovermode\": \"closest\", \"mapbox\": {\"style\": \"light\"}, \"paper_bgcolor\": \"white\", \"plot_bgcolor\": \"#E5ECF6\", \"polar\": {\"angularaxis\": {\"gridcolor\": \"white\", \"linecolor\": \"white\", \"ticks\": \"\"}, \"bgcolor\": \"#E5ECF6\", \"radialaxis\": {\"gridcolor\": \"white\", \"linecolor\": \"white\", \"ticks\": \"\"}}, \"scene\": {\"xaxis\": {\"backgroundcolor\": \"#E5ECF6\", \"gridcolor\": \"white\", \"gridwidth\": 2, \"linecolor\": \"white\", \"showbackground\": true, \"ticks\": \"\", \"zerolinecolor\": \"white\"}, \"yaxis\": {\"backgroundcolor\": \"#E5ECF6\", \"gridcolor\": \"white\", \"gridwidth\": 2, \"linecolor\": \"white\", \"showbackground\": true, \"ticks\": \"\", \"zerolinecolor\": \"white\"}, \"zaxis\": {\"backgroundcolor\": \"#E5ECF6\", \"gridcolor\": \"white\", \"gridwidth\": 2, \"linecolor\": \"white\", \"showbackground\": true, \"ticks\": \"\", \"zerolinecolor\": \"white\"}}, \"shapedefaults\": {\"line\": {\"color\": \"#2a3f5f\"}}, \"ternary\": {\"aaxis\": {\"gridcolor\": \"white\", \"linecolor\": \"white\", \"ticks\": \"\"}, \"baxis\": {\"gridcolor\": \"white\", \"linecolor\": \"white\", \"ticks\": \"\"}, \"bgcolor\": \"#E5ECF6\", \"caxis\": {\"gridcolor\": \"white\", \"linecolor\": \"white\", \"ticks\": \"\"}}, \"title\": {\"x\": 0.05}, \"xaxis\": {\"automargin\": true, \"gridcolor\": \"white\", \"linecolor\": \"white\", \"ticks\": \"\", \"title\": {\"standoff\": 15}, \"zerolinecolor\": \"white\", \"zerolinewidth\": 2}, \"yaxis\": {\"automargin\": true, \"gridcolor\": \"white\", \"linecolor\": \"white\", \"ticks\": \"\", \"title\": {\"standoff\": 15}, \"zerolinecolor\": \"white\", \"zerolinewidth\": 2}}}, \"xaxis\": {\"anchor\": \"y\", \"domain\": [0.0, 1.0], \"title\": {\"text\": \"#ids\"}}, \"yaxis\": {\"anchor\": \"x\", \"categoryorder\": \"total ascending\", \"domain\": [0.0, 1.0], \"title\": {\"text\": \"sample\"}}},                        {\"responsive\": true}                    ).then(function(){\n",
       "                            \n",
       "var gd = document.getElementById('e2eed5c0-49bf-4080-8cb4-2b9abcb5d3d1');\n",
       "var x = new MutationObserver(function (mutations, observer) {{\n",
       "        var display = window.getComputedStyle(gd).display;\n",
       "        if (!display || display === 'none') {{\n",
       "            console.log([gd, 'removed!']);\n",
       "            Plotly.purge(gd);\n",
       "            observer.disconnect();\n",
       "        }}\n",
       "}});\n",
       "\n",
       "// Listen for the removal of the full notebook cells\n",
       "var notebookContainer = gd.closest('#notebook-container');\n",
       "if (notebookContainer) {{\n",
       "    x.observe(notebookContainer, {childList: true});\n",
       "}}\n",
       "\n",
       "// Listen for the clearing of the current output cell\n",
       "var outputEl = gd.closest('.output');\n",
       "if (outputEl) {{\n",
       "    x.observe(outputEl, {childList: true});\n",
       "}}\n",
       "\n",
       "                        })                };                });            </script>        </div>"
      ]
     },
     "metadata": {},
     "output_type": "display_data"
    }
   ],
   "source": [
    "tmp = proteins[\"sample\"].value_counts().reset_index(level=0)\n",
    "tmp.columns = [\"sample\",\"#ids\"]\n",
    "fig = px.bar(tmp, y='sample', x='#ids', orientation='h')\n",
    "fig.update_layout(yaxis={'categoryorder':'total ascending'})\n",
    "fig.show()"
   ]
  },
  {
   "cell_type": "code",
   "execution_count": 36,
   "metadata": {},
   "outputs": [
    {
     "data": {
      "application/vnd.plotly.v1+json": {
       "config": {
        "plotlyServerURL": "https://plot.ly"
       },
       "data": [
        {
         "alignmentgroup": "True",
         "hovertemplate": "#ids=%{x}<br>sample=%{y}<extra></extra>",
         "legendgroup": "",
         "marker": {
          "color": "#636efa"
         },
         "name": "",
         "offsetgroup": "",
         "orientation": "h",
         "showlegend": false,
         "textposition": "auto",
         "type": "bar",
         "x": [
          99812,
          90678,
          68375
         ],
         "xaxis": "x",
         "y": [
          "PXD000561_full",
          "PXD000561_nocorr_nort",
          "PXD000561_closed"
         ],
         "yaxis": "y"
        }
       ],
       "layout": {
        "barmode": "relative",
        "legend": {
         "tracegroupgap": 0
        },
        "margin": {
         "t": 60
        },
        "template": {
         "data": {
          "bar": [
           {
            "error_x": {
             "color": "#2a3f5f"
            },
            "error_y": {
             "color": "#2a3f5f"
            },
            "marker": {
             "line": {
              "color": "#E5ECF6",
              "width": 0.5
             }
            },
            "type": "bar"
           }
          ],
          "barpolar": [
           {
            "marker": {
             "line": {
              "color": "#E5ECF6",
              "width": 0.5
             }
            },
            "type": "barpolar"
           }
          ],
          "carpet": [
           {
            "aaxis": {
             "endlinecolor": "#2a3f5f",
             "gridcolor": "white",
             "linecolor": "white",
             "minorgridcolor": "white",
             "startlinecolor": "#2a3f5f"
            },
            "baxis": {
             "endlinecolor": "#2a3f5f",
             "gridcolor": "white",
             "linecolor": "white",
             "minorgridcolor": "white",
             "startlinecolor": "#2a3f5f"
            },
            "type": "carpet"
           }
          ],
          "choropleth": [
           {
            "colorbar": {
             "outlinewidth": 0,
             "ticks": ""
            },
            "type": "choropleth"
           }
          ],
          "contour": [
           {
            "colorbar": {
             "outlinewidth": 0,
             "ticks": ""
            },
            "colorscale": [
             [
              0,
              "#0d0887"
             ],
             [
              0.1111111111111111,
              "#46039f"
             ],
             [
              0.2222222222222222,
              "#7201a8"
             ],
             [
              0.3333333333333333,
              "#9c179e"
             ],
             [
              0.4444444444444444,
              "#bd3786"
             ],
             [
              0.5555555555555556,
              "#d8576b"
             ],
             [
              0.6666666666666666,
              "#ed7953"
             ],
             [
              0.7777777777777778,
              "#fb9f3a"
             ],
             [
              0.8888888888888888,
              "#fdca26"
             ],
             [
              1,
              "#f0f921"
             ]
            ],
            "type": "contour"
           }
          ],
          "contourcarpet": [
           {
            "colorbar": {
             "outlinewidth": 0,
             "ticks": ""
            },
            "type": "contourcarpet"
           }
          ],
          "heatmap": [
           {
            "colorbar": {
             "outlinewidth": 0,
             "ticks": ""
            },
            "colorscale": [
             [
              0,
              "#0d0887"
             ],
             [
              0.1111111111111111,
              "#46039f"
             ],
             [
              0.2222222222222222,
              "#7201a8"
             ],
             [
              0.3333333333333333,
              "#9c179e"
             ],
             [
              0.4444444444444444,
              "#bd3786"
             ],
             [
              0.5555555555555556,
              "#d8576b"
             ],
             [
              0.6666666666666666,
              "#ed7953"
             ],
             [
              0.7777777777777778,
              "#fb9f3a"
             ],
             [
              0.8888888888888888,
              "#fdca26"
             ],
             [
              1,
              "#f0f921"
             ]
            ],
            "type": "heatmap"
           }
          ],
          "heatmapgl": [
           {
            "colorbar": {
             "outlinewidth": 0,
             "ticks": ""
            },
            "colorscale": [
             [
              0,
              "#0d0887"
             ],
             [
              0.1111111111111111,
              "#46039f"
             ],
             [
              0.2222222222222222,
              "#7201a8"
             ],
             [
              0.3333333333333333,
              "#9c179e"
             ],
             [
              0.4444444444444444,
              "#bd3786"
             ],
             [
              0.5555555555555556,
              "#d8576b"
             ],
             [
              0.6666666666666666,
              "#ed7953"
             ],
             [
              0.7777777777777778,
              "#fb9f3a"
             ],
             [
              0.8888888888888888,
              "#fdca26"
             ],
             [
              1,
              "#f0f921"
             ]
            ],
            "type": "heatmapgl"
           }
          ],
          "histogram": [
           {
            "marker": {
             "colorbar": {
              "outlinewidth": 0,
              "ticks": ""
             }
            },
            "type": "histogram"
           }
          ],
          "histogram2d": [
           {
            "colorbar": {
             "outlinewidth": 0,
             "ticks": ""
            },
            "colorscale": [
             [
              0,
              "#0d0887"
             ],
             [
              0.1111111111111111,
              "#46039f"
             ],
             [
              0.2222222222222222,
              "#7201a8"
             ],
             [
              0.3333333333333333,
              "#9c179e"
             ],
             [
              0.4444444444444444,
              "#bd3786"
             ],
             [
              0.5555555555555556,
              "#d8576b"
             ],
             [
              0.6666666666666666,
              "#ed7953"
             ],
             [
              0.7777777777777778,
              "#fb9f3a"
             ],
             [
              0.8888888888888888,
              "#fdca26"
             ],
             [
              1,
              "#f0f921"
             ]
            ],
            "type": "histogram2d"
           }
          ],
          "histogram2dcontour": [
           {
            "colorbar": {
             "outlinewidth": 0,
             "ticks": ""
            },
            "colorscale": [
             [
              0,
              "#0d0887"
             ],
             [
              0.1111111111111111,
              "#46039f"
             ],
             [
              0.2222222222222222,
              "#7201a8"
             ],
             [
              0.3333333333333333,
              "#9c179e"
             ],
             [
              0.4444444444444444,
              "#bd3786"
             ],
             [
              0.5555555555555556,
              "#d8576b"
             ],
             [
              0.6666666666666666,
              "#ed7953"
             ],
             [
              0.7777777777777778,
              "#fb9f3a"
             ],
             [
              0.8888888888888888,
              "#fdca26"
             ],
             [
              1,
              "#f0f921"
             ]
            ],
            "type": "histogram2dcontour"
           }
          ],
          "mesh3d": [
           {
            "colorbar": {
             "outlinewidth": 0,
             "ticks": ""
            },
            "type": "mesh3d"
           }
          ],
          "parcoords": [
           {
            "line": {
             "colorbar": {
              "outlinewidth": 0,
              "ticks": ""
             }
            },
            "type": "parcoords"
           }
          ],
          "pie": [
           {
            "automargin": true,
            "type": "pie"
           }
          ],
          "scatter": [
           {
            "marker": {
             "colorbar": {
              "outlinewidth": 0,
              "ticks": ""
             }
            },
            "type": "scatter"
           }
          ],
          "scatter3d": [
           {
            "line": {
             "colorbar": {
              "outlinewidth": 0,
              "ticks": ""
             }
            },
            "marker": {
             "colorbar": {
              "outlinewidth": 0,
              "ticks": ""
             }
            },
            "type": "scatter3d"
           }
          ],
          "scattercarpet": [
           {
            "marker": {
             "colorbar": {
              "outlinewidth": 0,
              "ticks": ""
             }
            },
            "type": "scattercarpet"
           }
          ],
          "scattergeo": [
           {
            "marker": {
             "colorbar": {
              "outlinewidth": 0,
              "ticks": ""
             }
            },
            "type": "scattergeo"
           }
          ],
          "scattergl": [
           {
            "marker": {
             "colorbar": {
              "outlinewidth": 0,
              "ticks": ""
             }
            },
            "type": "scattergl"
           }
          ],
          "scattermapbox": [
           {
            "marker": {
             "colorbar": {
              "outlinewidth": 0,
              "ticks": ""
             }
            },
            "type": "scattermapbox"
           }
          ],
          "scatterpolar": [
           {
            "marker": {
             "colorbar": {
              "outlinewidth": 0,
              "ticks": ""
             }
            },
            "type": "scatterpolar"
           }
          ],
          "scatterpolargl": [
           {
            "marker": {
             "colorbar": {
              "outlinewidth": 0,
              "ticks": ""
             }
            },
            "type": "scatterpolargl"
           }
          ],
          "scatterternary": [
           {
            "marker": {
             "colorbar": {
              "outlinewidth": 0,
              "ticks": ""
             }
            },
            "type": "scatterternary"
           }
          ],
          "surface": [
           {
            "colorbar": {
             "outlinewidth": 0,
             "ticks": ""
            },
            "colorscale": [
             [
              0,
              "#0d0887"
             ],
             [
              0.1111111111111111,
              "#46039f"
             ],
             [
              0.2222222222222222,
              "#7201a8"
             ],
             [
              0.3333333333333333,
              "#9c179e"
             ],
             [
              0.4444444444444444,
              "#bd3786"
             ],
             [
              0.5555555555555556,
              "#d8576b"
             ],
             [
              0.6666666666666666,
              "#ed7953"
             ],
             [
              0.7777777777777778,
              "#fb9f3a"
             ],
             [
              0.8888888888888888,
              "#fdca26"
             ],
             [
              1,
              "#f0f921"
             ]
            ],
            "type": "surface"
           }
          ],
          "table": [
           {
            "cells": {
             "fill": {
              "color": "#EBF0F8"
             },
             "line": {
              "color": "white"
             }
            },
            "header": {
             "fill": {
              "color": "#C8D4E3"
             },
             "line": {
              "color": "white"
             }
            },
            "type": "table"
           }
          ]
         },
         "layout": {
          "annotationdefaults": {
           "arrowcolor": "#2a3f5f",
           "arrowhead": 0,
           "arrowwidth": 1
          },
          "coloraxis": {
           "colorbar": {
            "outlinewidth": 0,
            "ticks": ""
           }
          },
          "colorscale": {
           "diverging": [
            [
             0,
             "#8e0152"
            ],
            [
             0.1,
             "#c51b7d"
            ],
            [
             0.2,
             "#de77ae"
            ],
            [
             0.3,
             "#f1b6da"
            ],
            [
             0.4,
             "#fde0ef"
            ],
            [
             0.5,
             "#f7f7f7"
            ],
            [
             0.6,
             "#e6f5d0"
            ],
            [
             0.7,
             "#b8e186"
            ],
            [
             0.8,
             "#7fbc41"
            ],
            [
             0.9,
             "#4d9221"
            ],
            [
             1,
             "#276419"
            ]
           ],
           "sequential": [
            [
             0,
             "#0d0887"
            ],
            [
             0.1111111111111111,
             "#46039f"
            ],
            [
             0.2222222222222222,
             "#7201a8"
            ],
            [
             0.3333333333333333,
             "#9c179e"
            ],
            [
             0.4444444444444444,
             "#bd3786"
            ],
            [
             0.5555555555555556,
             "#d8576b"
            ],
            [
             0.6666666666666666,
             "#ed7953"
            ],
            [
             0.7777777777777778,
             "#fb9f3a"
            ],
            [
             0.8888888888888888,
             "#fdca26"
            ],
            [
             1,
             "#f0f921"
            ]
           ],
           "sequentialminus": [
            [
             0,
             "#0d0887"
            ],
            [
             0.1111111111111111,
             "#46039f"
            ],
            [
             0.2222222222222222,
             "#7201a8"
            ],
            [
             0.3333333333333333,
             "#9c179e"
            ],
            [
             0.4444444444444444,
             "#bd3786"
            ],
            [
             0.5555555555555556,
             "#d8576b"
            ],
            [
             0.6666666666666666,
             "#ed7953"
            ],
            [
             0.7777777777777778,
             "#fb9f3a"
            ],
            [
             0.8888888888888888,
             "#fdca26"
            ],
            [
             1,
             "#f0f921"
            ]
           ]
          },
          "colorway": [
           "#636efa",
           "#EF553B",
           "#00cc96",
           "#ab63fa",
           "#FFA15A",
           "#19d3f3",
           "#FF6692",
           "#B6E880",
           "#FF97FF",
           "#FECB52"
          ],
          "font": {
           "color": "#2a3f5f"
          },
          "geo": {
           "bgcolor": "white",
           "lakecolor": "white",
           "landcolor": "#E5ECF6",
           "showlakes": true,
           "showland": true,
           "subunitcolor": "white"
          },
          "hoverlabel": {
           "align": "left"
          },
          "hovermode": "closest",
          "mapbox": {
           "style": "light"
          },
          "paper_bgcolor": "white",
          "plot_bgcolor": "#E5ECF6",
          "polar": {
           "angularaxis": {
            "gridcolor": "white",
            "linecolor": "white",
            "ticks": ""
           },
           "bgcolor": "#E5ECF6",
           "radialaxis": {
            "gridcolor": "white",
            "linecolor": "white",
            "ticks": ""
           }
          },
          "scene": {
           "xaxis": {
            "backgroundcolor": "#E5ECF6",
            "gridcolor": "white",
            "gridwidth": 2,
            "linecolor": "white",
            "showbackground": true,
            "ticks": "",
            "zerolinecolor": "white"
           },
           "yaxis": {
            "backgroundcolor": "#E5ECF6",
            "gridcolor": "white",
            "gridwidth": 2,
            "linecolor": "white",
            "showbackground": true,
            "ticks": "",
            "zerolinecolor": "white"
           },
           "zaxis": {
            "backgroundcolor": "#E5ECF6",
            "gridcolor": "white",
            "gridwidth": 2,
            "linecolor": "white",
            "showbackground": true,
            "ticks": "",
            "zerolinecolor": "white"
           }
          },
          "shapedefaults": {
           "line": {
            "color": "#2a3f5f"
           }
          },
          "ternary": {
           "aaxis": {
            "gridcolor": "white",
            "linecolor": "white",
            "ticks": ""
           },
           "baxis": {
            "gridcolor": "white",
            "linecolor": "white",
            "ticks": ""
           },
           "bgcolor": "#E5ECF6",
           "caxis": {
            "gridcolor": "white",
            "linecolor": "white",
            "ticks": ""
           }
          },
          "title": {
           "x": 0.05
          },
          "xaxis": {
           "automargin": true,
           "gridcolor": "white",
           "linecolor": "white",
           "ticks": "",
           "title": {
            "standoff": 15
           },
           "zerolinecolor": "white",
           "zerolinewidth": 2
          },
          "yaxis": {
           "automargin": true,
           "gridcolor": "white",
           "linecolor": "white",
           "ticks": "",
           "title": {
            "standoff": 15
           },
           "zerolinecolor": "white",
           "zerolinewidth": 2
          }
         }
        },
        "xaxis": {
         "anchor": "y",
         "domain": [
          0,
          1
         ],
         "title": {
          "text": "#ids"
         }
        },
        "yaxis": {
         "anchor": "x",
         "categoryorder": "total ascending",
         "domain": [
          0,
          1
         ],
         "title": {
          "text": "sample"
         }
        }
       }
      },
      "text/html": [
       "<div>                            <div id=\"ab6374fc-8ea9-46fb-ba75-8e11d34d2326\" class=\"plotly-graph-div\" style=\"height:525px; width:100%;\"></div>            <script type=\"text/javascript\">                require([\"plotly\"], function(Plotly) {                    window.PLOTLYENV=window.PLOTLYENV || {};                                    if (document.getElementById(\"ab6374fc-8ea9-46fb-ba75-8e11d34d2326\")) {                    Plotly.newPlot(                        \"ab6374fc-8ea9-46fb-ba75-8e11d34d2326\",                        [{\"alignmentgroup\": \"True\", \"hovertemplate\": \"#ids=%{x}<br>sample=%{y}<extra></extra>\", \"legendgroup\": \"\", \"marker\": {\"color\": \"#636efa\"}, \"name\": \"\", \"offsetgroup\": \"\", \"orientation\": \"h\", \"showlegend\": false, \"textposition\": \"auto\", \"type\": \"bar\", \"x\": [99812, 90678, 68375], \"xaxis\": \"x\", \"y\": [\"PXD000561_full\", \"PXD000561_nocorr_nort\", \"PXD000561_closed\"], \"yaxis\": \"y\"}],                        {\"barmode\": \"relative\", \"legend\": {\"tracegroupgap\": 0}, \"margin\": {\"t\": 60}, \"template\": {\"data\": {\"bar\": [{\"error_x\": {\"color\": \"#2a3f5f\"}, \"error_y\": {\"color\": \"#2a3f5f\"}, \"marker\": {\"line\": {\"color\": \"#E5ECF6\", \"width\": 0.5}}, \"type\": \"bar\"}], \"barpolar\": [{\"marker\": {\"line\": {\"color\": \"#E5ECF6\", \"width\": 0.5}}, \"type\": \"barpolar\"}], \"carpet\": [{\"aaxis\": {\"endlinecolor\": \"#2a3f5f\", \"gridcolor\": \"white\", \"linecolor\": \"white\", \"minorgridcolor\": \"white\", \"startlinecolor\": \"#2a3f5f\"}, \"baxis\": {\"endlinecolor\": \"#2a3f5f\", \"gridcolor\": \"white\", \"linecolor\": \"white\", \"minorgridcolor\": \"white\", \"startlinecolor\": \"#2a3f5f\"}, \"type\": \"carpet\"}], \"choropleth\": [{\"colorbar\": {\"outlinewidth\": 0, \"ticks\": \"\"}, \"type\": \"choropleth\"}], \"contour\": [{\"colorbar\": {\"outlinewidth\": 0, \"ticks\": \"\"}, \"colorscale\": [[0.0, \"#0d0887\"], [0.1111111111111111, \"#46039f\"], [0.2222222222222222, \"#7201a8\"], [0.3333333333333333, \"#9c179e\"], [0.4444444444444444, \"#bd3786\"], [0.5555555555555556, \"#d8576b\"], [0.6666666666666666, \"#ed7953\"], [0.7777777777777778, \"#fb9f3a\"], [0.8888888888888888, \"#fdca26\"], [1.0, \"#f0f921\"]], \"type\": \"contour\"}], \"contourcarpet\": [{\"colorbar\": {\"outlinewidth\": 0, \"ticks\": \"\"}, \"type\": \"contourcarpet\"}], \"heatmap\": [{\"colorbar\": {\"outlinewidth\": 0, \"ticks\": \"\"}, \"colorscale\": [[0.0, \"#0d0887\"], [0.1111111111111111, \"#46039f\"], [0.2222222222222222, \"#7201a8\"], [0.3333333333333333, \"#9c179e\"], [0.4444444444444444, \"#bd3786\"], [0.5555555555555556, \"#d8576b\"], [0.6666666666666666, \"#ed7953\"], [0.7777777777777778, \"#fb9f3a\"], [0.8888888888888888, \"#fdca26\"], [1.0, \"#f0f921\"]], \"type\": \"heatmap\"}], \"heatmapgl\": [{\"colorbar\": {\"outlinewidth\": 0, \"ticks\": \"\"}, \"colorscale\": [[0.0, \"#0d0887\"], [0.1111111111111111, \"#46039f\"], [0.2222222222222222, \"#7201a8\"], [0.3333333333333333, \"#9c179e\"], [0.4444444444444444, \"#bd3786\"], [0.5555555555555556, \"#d8576b\"], [0.6666666666666666, \"#ed7953\"], [0.7777777777777778, \"#fb9f3a\"], [0.8888888888888888, \"#fdca26\"], [1.0, \"#f0f921\"]], \"type\": \"heatmapgl\"}], \"histogram\": [{\"marker\": {\"colorbar\": {\"outlinewidth\": 0, \"ticks\": \"\"}}, \"type\": \"histogram\"}], \"histogram2d\": [{\"colorbar\": {\"outlinewidth\": 0, \"ticks\": \"\"}, \"colorscale\": [[0.0, \"#0d0887\"], [0.1111111111111111, \"#46039f\"], [0.2222222222222222, \"#7201a8\"], [0.3333333333333333, \"#9c179e\"], [0.4444444444444444, \"#bd3786\"], [0.5555555555555556, \"#d8576b\"], [0.6666666666666666, \"#ed7953\"], [0.7777777777777778, \"#fb9f3a\"], [0.8888888888888888, \"#fdca26\"], [1.0, \"#f0f921\"]], \"type\": \"histogram2d\"}], \"histogram2dcontour\": [{\"colorbar\": {\"outlinewidth\": 0, \"ticks\": \"\"}, \"colorscale\": [[0.0, \"#0d0887\"], [0.1111111111111111, \"#46039f\"], [0.2222222222222222, \"#7201a8\"], [0.3333333333333333, \"#9c179e\"], [0.4444444444444444, \"#bd3786\"], [0.5555555555555556, \"#d8576b\"], [0.6666666666666666, \"#ed7953\"], [0.7777777777777778, \"#fb9f3a\"], [0.8888888888888888, \"#fdca26\"], [1.0, \"#f0f921\"]], \"type\": \"histogram2dcontour\"}], \"mesh3d\": [{\"colorbar\": {\"outlinewidth\": 0, \"ticks\": \"\"}, \"type\": \"mesh3d\"}], \"parcoords\": [{\"line\": {\"colorbar\": {\"outlinewidth\": 0, \"ticks\": \"\"}}, \"type\": \"parcoords\"}], \"pie\": [{\"automargin\": true, \"type\": \"pie\"}], \"scatter\": [{\"marker\": {\"colorbar\": {\"outlinewidth\": 0, \"ticks\": \"\"}}, \"type\": \"scatter\"}], \"scatter3d\": [{\"line\": {\"colorbar\": {\"outlinewidth\": 0, \"ticks\": \"\"}}, \"marker\": {\"colorbar\": {\"outlinewidth\": 0, \"ticks\": \"\"}}, \"type\": \"scatter3d\"}], \"scattercarpet\": [{\"marker\": {\"colorbar\": {\"outlinewidth\": 0, \"ticks\": \"\"}}, \"type\": \"scattercarpet\"}], \"scattergeo\": [{\"marker\": {\"colorbar\": {\"outlinewidth\": 0, \"ticks\": \"\"}}, \"type\": \"scattergeo\"}], \"scattergl\": [{\"marker\": {\"colorbar\": {\"outlinewidth\": 0, \"ticks\": \"\"}}, \"type\": \"scattergl\"}], \"scattermapbox\": [{\"marker\": {\"colorbar\": {\"outlinewidth\": 0, \"ticks\": \"\"}}, \"type\": \"scattermapbox\"}], \"scatterpolar\": [{\"marker\": {\"colorbar\": {\"outlinewidth\": 0, \"ticks\": \"\"}}, \"type\": \"scatterpolar\"}], \"scatterpolargl\": [{\"marker\": {\"colorbar\": {\"outlinewidth\": 0, \"ticks\": \"\"}}, \"type\": \"scatterpolargl\"}], \"scatterternary\": [{\"marker\": {\"colorbar\": {\"outlinewidth\": 0, \"ticks\": \"\"}}, \"type\": \"scatterternary\"}], \"surface\": [{\"colorbar\": {\"outlinewidth\": 0, \"ticks\": \"\"}, \"colorscale\": [[0.0, \"#0d0887\"], [0.1111111111111111, \"#46039f\"], [0.2222222222222222, \"#7201a8\"], [0.3333333333333333, \"#9c179e\"], [0.4444444444444444, \"#bd3786\"], [0.5555555555555556, \"#d8576b\"], [0.6666666666666666, \"#ed7953\"], [0.7777777777777778, \"#fb9f3a\"], [0.8888888888888888, \"#fdca26\"], [1.0, \"#f0f921\"]], \"type\": \"surface\"}], \"table\": [{\"cells\": {\"fill\": {\"color\": \"#EBF0F8\"}, \"line\": {\"color\": \"white\"}}, \"header\": {\"fill\": {\"color\": \"#C8D4E3\"}, \"line\": {\"color\": \"white\"}}, \"type\": \"table\"}]}, \"layout\": {\"annotationdefaults\": {\"arrowcolor\": \"#2a3f5f\", \"arrowhead\": 0, \"arrowwidth\": 1}, \"coloraxis\": {\"colorbar\": {\"outlinewidth\": 0, \"ticks\": \"\"}}, \"colorscale\": {\"diverging\": [[0, \"#8e0152\"], [0.1, \"#c51b7d\"], [0.2, \"#de77ae\"], [0.3, \"#f1b6da\"], [0.4, \"#fde0ef\"], [0.5, \"#f7f7f7\"], [0.6, \"#e6f5d0\"], [0.7, \"#b8e186\"], [0.8, \"#7fbc41\"], [0.9, \"#4d9221\"], [1, \"#276419\"]], \"sequential\": [[0.0, \"#0d0887\"], [0.1111111111111111, \"#46039f\"], [0.2222222222222222, \"#7201a8\"], [0.3333333333333333, \"#9c179e\"], [0.4444444444444444, \"#bd3786\"], [0.5555555555555556, \"#d8576b\"], [0.6666666666666666, \"#ed7953\"], [0.7777777777777778, \"#fb9f3a\"], [0.8888888888888888, \"#fdca26\"], [1.0, \"#f0f921\"]], \"sequentialminus\": [[0.0, \"#0d0887\"], [0.1111111111111111, \"#46039f\"], [0.2222222222222222, \"#7201a8\"], [0.3333333333333333, \"#9c179e\"], [0.4444444444444444, \"#bd3786\"], [0.5555555555555556, \"#d8576b\"], [0.6666666666666666, \"#ed7953\"], [0.7777777777777778, \"#fb9f3a\"], [0.8888888888888888, \"#fdca26\"], [1.0, \"#f0f921\"]]}, \"colorway\": [\"#636efa\", \"#EF553B\", \"#00cc96\", \"#ab63fa\", \"#FFA15A\", \"#19d3f3\", \"#FF6692\", \"#B6E880\", \"#FF97FF\", \"#FECB52\"], \"font\": {\"color\": \"#2a3f5f\"}, \"geo\": {\"bgcolor\": \"white\", \"lakecolor\": \"white\", \"landcolor\": \"#E5ECF6\", \"showlakes\": true, \"showland\": true, \"subunitcolor\": \"white\"}, \"hoverlabel\": {\"align\": \"left\"}, \"hovermode\": \"closest\", \"mapbox\": {\"style\": \"light\"}, \"paper_bgcolor\": \"white\", \"plot_bgcolor\": \"#E5ECF6\", \"polar\": {\"angularaxis\": {\"gridcolor\": \"white\", \"linecolor\": \"white\", \"ticks\": \"\"}, \"bgcolor\": \"#E5ECF6\", \"radialaxis\": {\"gridcolor\": \"white\", \"linecolor\": \"white\", \"ticks\": \"\"}}, \"scene\": {\"xaxis\": {\"backgroundcolor\": \"#E5ECF6\", \"gridcolor\": \"white\", \"gridwidth\": 2, \"linecolor\": \"white\", \"showbackground\": true, \"ticks\": \"\", \"zerolinecolor\": \"white\"}, \"yaxis\": {\"backgroundcolor\": \"#E5ECF6\", \"gridcolor\": \"white\", \"gridwidth\": 2, \"linecolor\": \"white\", \"showbackground\": true, \"ticks\": \"\", \"zerolinecolor\": \"white\"}, \"zaxis\": {\"backgroundcolor\": \"#E5ECF6\", \"gridcolor\": \"white\", \"gridwidth\": 2, \"linecolor\": \"white\", \"showbackground\": true, \"ticks\": \"\", \"zerolinecolor\": \"white\"}}, \"shapedefaults\": {\"line\": {\"color\": \"#2a3f5f\"}}, \"ternary\": {\"aaxis\": {\"gridcolor\": \"white\", \"linecolor\": \"white\", \"ticks\": \"\"}, \"baxis\": {\"gridcolor\": \"white\", \"linecolor\": \"white\", \"ticks\": \"\"}, \"bgcolor\": \"#E5ECF6\", \"caxis\": {\"gridcolor\": \"white\", \"linecolor\": \"white\", \"ticks\": \"\"}}, \"title\": {\"x\": 0.05}, \"xaxis\": {\"automargin\": true, \"gridcolor\": \"white\", \"linecolor\": \"white\", \"ticks\": \"\", \"title\": {\"standoff\": 15}, \"zerolinecolor\": \"white\", \"zerolinewidth\": 2}, \"yaxis\": {\"automargin\": true, \"gridcolor\": \"white\", \"linecolor\": \"white\", \"ticks\": \"\", \"title\": {\"standoff\": 15}, \"zerolinecolor\": \"white\", \"zerolinewidth\": 2}}}, \"xaxis\": {\"anchor\": \"y\", \"domain\": [0.0, 1.0], \"title\": {\"text\": \"#ids\"}}, \"yaxis\": {\"anchor\": \"x\", \"categoryorder\": \"total ascending\", \"domain\": [0.0, 1.0], \"title\": {\"text\": \"sample\"}}},                        {\"responsive\": true}                    ).then(function(){\n",
       "                            \n",
       "var gd = document.getElementById('ab6374fc-8ea9-46fb-ba75-8e11d34d2326');\n",
       "var x = new MutationObserver(function (mutations, observer) {{\n",
       "        var display = window.getComputedStyle(gd).display;\n",
       "        if (!display || display === 'none') {{\n",
       "            console.log([gd, 'removed!']);\n",
       "            Plotly.purge(gd);\n",
       "            observer.disconnect();\n",
       "        }}\n",
       "}});\n",
       "\n",
       "// Listen for the removal of the full notebook cells\n",
       "var notebookContainer = gd.closest('#notebook-container');\n",
       "if (notebookContainer) {{\n",
       "    x.observe(notebookContainer, {childList: true});\n",
       "}}\n",
       "\n",
       "// Listen for the clearing of the current output cell\n",
       "var outputEl = gd.closest('.output');\n",
       "if (outputEl) {{\n",
       "    x.observe(outputEl, {childList: true});\n",
       "}}\n",
       "\n",
       "                        })                };                });            </script>        </div>"
      ]
     },
     "metadata": {},
     "output_type": "display_data"
    }
   ],
   "source": [
    "tmp = proteins.drop_duplicates([\"sample\",\"matched_peptide\",\"modifications\"],keep=\"first\")\n",
    "tmp = tmp[\"sample\"].value_counts().reset_index(level=0)\n",
    "tmp.columns = [\"sample\",\"#ids\"]\n",
    "fig = px.bar(tmp, y='sample', x='#ids', orientation='h')\n",
    "fig.update_layout(yaxis={'categoryorder':'total ascending'})\n",
    "fig.show()"
   ]
  },
  {
   "cell_type": "code",
   "execution_count": 37,
   "metadata": {},
   "outputs": [
    {
     "data": {
      "application/vnd.plotly.v1+json": {
       "config": {
        "plotlyServerURL": "https://plot.ly"
       },
       "data": [
        {
         "alignmentgroup": "True",
         "hovertemplate": "#ids=%{x}<br>sample=%{y}<extra></extra>",
         "legendgroup": "",
         "marker": {
          "color": "#636efa"
         },
         "name": "",
         "offsetgroup": "",
         "orientation": "h",
         "showlegend": false,
         "textposition": "auto",
         "type": "bar",
         "x": [
          71334,
          64305,
          61295
         ],
         "xaxis": "x",
         "y": [
          "PXD000561_full",
          "PXD000561_nocorr_nort",
          "PXD000561_closed"
         ],
         "yaxis": "y"
        }
       ],
       "layout": {
        "barmode": "relative",
        "legend": {
         "tracegroupgap": 0
        },
        "margin": {
         "t": 60
        },
        "template": {
         "data": {
          "bar": [
           {
            "error_x": {
             "color": "#2a3f5f"
            },
            "error_y": {
             "color": "#2a3f5f"
            },
            "marker": {
             "line": {
              "color": "#E5ECF6",
              "width": 0.5
             }
            },
            "type": "bar"
           }
          ],
          "barpolar": [
           {
            "marker": {
             "line": {
              "color": "#E5ECF6",
              "width": 0.5
             }
            },
            "type": "barpolar"
           }
          ],
          "carpet": [
           {
            "aaxis": {
             "endlinecolor": "#2a3f5f",
             "gridcolor": "white",
             "linecolor": "white",
             "minorgridcolor": "white",
             "startlinecolor": "#2a3f5f"
            },
            "baxis": {
             "endlinecolor": "#2a3f5f",
             "gridcolor": "white",
             "linecolor": "white",
             "minorgridcolor": "white",
             "startlinecolor": "#2a3f5f"
            },
            "type": "carpet"
           }
          ],
          "choropleth": [
           {
            "colorbar": {
             "outlinewidth": 0,
             "ticks": ""
            },
            "type": "choropleth"
           }
          ],
          "contour": [
           {
            "colorbar": {
             "outlinewidth": 0,
             "ticks": ""
            },
            "colorscale": [
             [
              0,
              "#0d0887"
             ],
             [
              0.1111111111111111,
              "#46039f"
             ],
             [
              0.2222222222222222,
              "#7201a8"
             ],
             [
              0.3333333333333333,
              "#9c179e"
             ],
             [
              0.4444444444444444,
              "#bd3786"
             ],
             [
              0.5555555555555556,
              "#d8576b"
             ],
             [
              0.6666666666666666,
              "#ed7953"
             ],
             [
              0.7777777777777778,
              "#fb9f3a"
             ],
             [
              0.8888888888888888,
              "#fdca26"
             ],
             [
              1,
              "#f0f921"
             ]
            ],
            "type": "contour"
           }
          ],
          "contourcarpet": [
           {
            "colorbar": {
             "outlinewidth": 0,
             "ticks": ""
            },
            "type": "contourcarpet"
           }
          ],
          "heatmap": [
           {
            "colorbar": {
             "outlinewidth": 0,
             "ticks": ""
            },
            "colorscale": [
             [
              0,
              "#0d0887"
             ],
             [
              0.1111111111111111,
              "#46039f"
             ],
             [
              0.2222222222222222,
              "#7201a8"
             ],
             [
              0.3333333333333333,
              "#9c179e"
             ],
             [
              0.4444444444444444,
              "#bd3786"
             ],
             [
              0.5555555555555556,
              "#d8576b"
             ],
             [
              0.6666666666666666,
              "#ed7953"
             ],
             [
              0.7777777777777778,
              "#fb9f3a"
             ],
             [
              0.8888888888888888,
              "#fdca26"
             ],
             [
              1,
              "#f0f921"
             ]
            ],
            "type": "heatmap"
           }
          ],
          "heatmapgl": [
           {
            "colorbar": {
             "outlinewidth": 0,
             "ticks": ""
            },
            "colorscale": [
             [
              0,
              "#0d0887"
             ],
             [
              0.1111111111111111,
              "#46039f"
             ],
             [
              0.2222222222222222,
              "#7201a8"
             ],
             [
              0.3333333333333333,
              "#9c179e"
             ],
             [
              0.4444444444444444,
              "#bd3786"
             ],
             [
              0.5555555555555556,
              "#d8576b"
             ],
             [
              0.6666666666666666,
              "#ed7953"
             ],
             [
              0.7777777777777778,
              "#fb9f3a"
             ],
             [
              0.8888888888888888,
              "#fdca26"
             ],
             [
              1,
              "#f0f921"
             ]
            ],
            "type": "heatmapgl"
           }
          ],
          "histogram": [
           {
            "marker": {
             "colorbar": {
              "outlinewidth": 0,
              "ticks": ""
             }
            },
            "type": "histogram"
           }
          ],
          "histogram2d": [
           {
            "colorbar": {
             "outlinewidth": 0,
             "ticks": ""
            },
            "colorscale": [
             [
              0,
              "#0d0887"
             ],
             [
              0.1111111111111111,
              "#46039f"
             ],
             [
              0.2222222222222222,
              "#7201a8"
             ],
             [
              0.3333333333333333,
              "#9c179e"
             ],
             [
              0.4444444444444444,
              "#bd3786"
             ],
             [
              0.5555555555555556,
              "#d8576b"
             ],
             [
              0.6666666666666666,
              "#ed7953"
             ],
             [
              0.7777777777777778,
              "#fb9f3a"
             ],
             [
              0.8888888888888888,
              "#fdca26"
             ],
             [
              1,
              "#f0f921"
             ]
            ],
            "type": "histogram2d"
           }
          ],
          "histogram2dcontour": [
           {
            "colorbar": {
             "outlinewidth": 0,
             "ticks": ""
            },
            "colorscale": [
             [
              0,
              "#0d0887"
             ],
             [
              0.1111111111111111,
              "#46039f"
             ],
             [
              0.2222222222222222,
              "#7201a8"
             ],
             [
              0.3333333333333333,
              "#9c179e"
             ],
             [
              0.4444444444444444,
              "#bd3786"
             ],
             [
              0.5555555555555556,
              "#d8576b"
             ],
             [
              0.6666666666666666,
              "#ed7953"
             ],
             [
              0.7777777777777778,
              "#fb9f3a"
             ],
             [
              0.8888888888888888,
              "#fdca26"
             ],
             [
              1,
              "#f0f921"
             ]
            ],
            "type": "histogram2dcontour"
           }
          ],
          "mesh3d": [
           {
            "colorbar": {
             "outlinewidth": 0,
             "ticks": ""
            },
            "type": "mesh3d"
           }
          ],
          "parcoords": [
           {
            "line": {
             "colorbar": {
              "outlinewidth": 0,
              "ticks": ""
             }
            },
            "type": "parcoords"
           }
          ],
          "pie": [
           {
            "automargin": true,
            "type": "pie"
           }
          ],
          "scatter": [
           {
            "marker": {
             "colorbar": {
              "outlinewidth": 0,
              "ticks": ""
             }
            },
            "type": "scatter"
           }
          ],
          "scatter3d": [
           {
            "line": {
             "colorbar": {
              "outlinewidth": 0,
              "ticks": ""
             }
            },
            "marker": {
             "colorbar": {
              "outlinewidth": 0,
              "ticks": ""
             }
            },
            "type": "scatter3d"
           }
          ],
          "scattercarpet": [
           {
            "marker": {
             "colorbar": {
              "outlinewidth": 0,
              "ticks": ""
             }
            },
            "type": "scattercarpet"
           }
          ],
          "scattergeo": [
           {
            "marker": {
             "colorbar": {
              "outlinewidth": 0,
              "ticks": ""
             }
            },
            "type": "scattergeo"
           }
          ],
          "scattergl": [
           {
            "marker": {
             "colorbar": {
              "outlinewidth": 0,
              "ticks": ""
             }
            },
            "type": "scattergl"
           }
          ],
          "scattermapbox": [
           {
            "marker": {
             "colorbar": {
              "outlinewidth": 0,
              "ticks": ""
             }
            },
            "type": "scattermapbox"
           }
          ],
          "scatterpolar": [
           {
            "marker": {
             "colorbar": {
              "outlinewidth": 0,
              "ticks": ""
             }
            },
            "type": "scatterpolar"
           }
          ],
          "scatterpolargl": [
           {
            "marker": {
             "colorbar": {
              "outlinewidth": 0,
              "ticks": ""
             }
            },
            "type": "scatterpolargl"
           }
          ],
          "scatterternary": [
           {
            "marker": {
             "colorbar": {
              "outlinewidth": 0,
              "ticks": ""
             }
            },
            "type": "scatterternary"
           }
          ],
          "surface": [
           {
            "colorbar": {
             "outlinewidth": 0,
             "ticks": ""
            },
            "colorscale": [
             [
              0,
              "#0d0887"
             ],
             [
              0.1111111111111111,
              "#46039f"
             ],
             [
              0.2222222222222222,
              "#7201a8"
             ],
             [
              0.3333333333333333,
              "#9c179e"
             ],
             [
              0.4444444444444444,
              "#bd3786"
             ],
             [
              0.5555555555555556,
              "#d8576b"
             ],
             [
              0.6666666666666666,
              "#ed7953"
             ],
             [
              0.7777777777777778,
              "#fb9f3a"
             ],
             [
              0.8888888888888888,
              "#fdca26"
             ],
             [
              1,
              "#f0f921"
             ]
            ],
            "type": "surface"
           }
          ],
          "table": [
           {
            "cells": {
             "fill": {
              "color": "#EBF0F8"
             },
             "line": {
              "color": "white"
             }
            },
            "header": {
             "fill": {
              "color": "#C8D4E3"
             },
             "line": {
              "color": "white"
             }
            },
            "type": "table"
           }
          ]
         },
         "layout": {
          "annotationdefaults": {
           "arrowcolor": "#2a3f5f",
           "arrowhead": 0,
           "arrowwidth": 1
          },
          "coloraxis": {
           "colorbar": {
            "outlinewidth": 0,
            "ticks": ""
           }
          },
          "colorscale": {
           "diverging": [
            [
             0,
             "#8e0152"
            ],
            [
             0.1,
             "#c51b7d"
            ],
            [
             0.2,
             "#de77ae"
            ],
            [
             0.3,
             "#f1b6da"
            ],
            [
             0.4,
             "#fde0ef"
            ],
            [
             0.5,
             "#f7f7f7"
            ],
            [
             0.6,
             "#e6f5d0"
            ],
            [
             0.7,
             "#b8e186"
            ],
            [
             0.8,
             "#7fbc41"
            ],
            [
             0.9,
             "#4d9221"
            ],
            [
             1,
             "#276419"
            ]
           ],
           "sequential": [
            [
             0,
             "#0d0887"
            ],
            [
             0.1111111111111111,
             "#46039f"
            ],
            [
             0.2222222222222222,
             "#7201a8"
            ],
            [
             0.3333333333333333,
             "#9c179e"
            ],
            [
             0.4444444444444444,
             "#bd3786"
            ],
            [
             0.5555555555555556,
             "#d8576b"
            ],
            [
             0.6666666666666666,
             "#ed7953"
            ],
            [
             0.7777777777777778,
             "#fb9f3a"
            ],
            [
             0.8888888888888888,
             "#fdca26"
            ],
            [
             1,
             "#f0f921"
            ]
           ],
           "sequentialminus": [
            [
             0,
             "#0d0887"
            ],
            [
             0.1111111111111111,
             "#46039f"
            ],
            [
             0.2222222222222222,
             "#7201a8"
            ],
            [
             0.3333333333333333,
             "#9c179e"
            ],
            [
             0.4444444444444444,
             "#bd3786"
            ],
            [
             0.5555555555555556,
             "#d8576b"
            ],
            [
             0.6666666666666666,
             "#ed7953"
            ],
            [
             0.7777777777777778,
             "#fb9f3a"
            ],
            [
             0.8888888888888888,
             "#fdca26"
            ],
            [
             1,
             "#f0f921"
            ]
           ]
          },
          "colorway": [
           "#636efa",
           "#EF553B",
           "#00cc96",
           "#ab63fa",
           "#FFA15A",
           "#19d3f3",
           "#FF6692",
           "#B6E880",
           "#FF97FF",
           "#FECB52"
          ],
          "font": {
           "color": "#2a3f5f"
          },
          "geo": {
           "bgcolor": "white",
           "lakecolor": "white",
           "landcolor": "#E5ECF6",
           "showlakes": true,
           "showland": true,
           "subunitcolor": "white"
          },
          "hoverlabel": {
           "align": "left"
          },
          "hovermode": "closest",
          "mapbox": {
           "style": "light"
          },
          "paper_bgcolor": "white",
          "plot_bgcolor": "#E5ECF6",
          "polar": {
           "angularaxis": {
            "gridcolor": "white",
            "linecolor": "white",
            "ticks": ""
           },
           "bgcolor": "#E5ECF6",
           "radialaxis": {
            "gridcolor": "white",
            "linecolor": "white",
            "ticks": ""
           }
          },
          "scene": {
           "xaxis": {
            "backgroundcolor": "#E5ECF6",
            "gridcolor": "white",
            "gridwidth": 2,
            "linecolor": "white",
            "showbackground": true,
            "ticks": "",
            "zerolinecolor": "white"
           },
           "yaxis": {
            "backgroundcolor": "#E5ECF6",
            "gridcolor": "white",
            "gridwidth": 2,
            "linecolor": "white",
            "showbackground": true,
            "ticks": "",
            "zerolinecolor": "white"
           },
           "zaxis": {
            "backgroundcolor": "#E5ECF6",
            "gridcolor": "white",
            "gridwidth": 2,
            "linecolor": "white",
            "showbackground": true,
            "ticks": "",
            "zerolinecolor": "white"
           }
          },
          "shapedefaults": {
           "line": {
            "color": "#2a3f5f"
           }
          },
          "ternary": {
           "aaxis": {
            "gridcolor": "white",
            "linecolor": "white",
            "ticks": ""
           },
           "baxis": {
            "gridcolor": "white",
            "linecolor": "white",
            "ticks": ""
           },
           "bgcolor": "#E5ECF6",
           "caxis": {
            "gridcolor": "white",
            "linecolor": "white",
            "ticks": ""
           }
          },
          "title": {
           "x": 0.05
          },
          "xaxis": {
           "automargin": true,
           "gridcolor": "white",
           "linecolor": "white",
           "ticks": "",
           "title": {
            "standoff": 15
           },
           "zerolinecolor": "white",
           "zerolinewidth": 2
          },
          "yaxis": {
           "automargin": true,
           "gridcolor": "white",
           "linecolor": "white",
           "ticks": "",
           "title": {
            "standoff": 15
           },
           "zerolinecolor": "white",
           "zerolinewidth": 2
          }
         }
        },
        "xaxis": {
         "anchor": "y",
         "domain": [
          0,
          1
         ],
         "title": {
          "text": "#ids"
         }
        },
        "yaxis": {
         "anchor": "x",
         "categoryorder": "total ascending",
         "domain": [
          0,
          1
         ],
         "title": {
          "text": "sample"
         }
        }
       }
      },
      "text/html": [
       "<div>                            <div id=\"0338424f-65bd-4c4f-ba87-57154d5a4a18\" class=\"plotly-graph-div\" style=\"height:525px; width:100%;\"></div>            <script type=\"text/javascript\">                require([\"plotly\"], function(Plotly) {                    window.PLOTLYENV=window.PLOTLYENV || {};                                    if (document.getElementById(\"0338424f-65bd-4c4f-ba87-57154d5a4a18\")) {                    Plotly.newPlot(                        \"0338424f-65bd-4c4f-ba87-57154d5a4a18\",                        [{\"alignmentgroup\": \"True\", \"hovertemplate\": \"#ids=%{x}<br>sample=%{y}<extra></extra>\", \"legendgroup\": \"\", \"marker\": {\"color\": \"#636efa\"}, \"name\": \"\", \"offsetgroup\": \"\", \"orientation\": \"h\", \"showlegend\": false, \"textposition\": \"auto\", \"type\": \"bar\", \"x\": [71334, 64305, 61295], \"xaxis\": \"x\", \"y\": [\"PXD000561_full\", \"PXD000561_nocorr_nort\", \"PXD000561_closed\"], \"yaxis\": \"y\"}],                        {\"barmode\": \"relative\", \"legend\": {\"tracegroupgap\": 0}, \"margin\": {\"t\": 60}, \"template\": {\"data\": {\"bar\": [{\"error_x\": {\"color\": \"#2a3f5f\"}, \"error_y\": {\"color\": \"#2a3f5f\"}, \"marker\": {\"line\": {\"color\": \"#E5ECF6\", \"width\": 0.5}}, \"type\": \"bar\"}], \"barpolar\": [{\"marker\": {\"line\": {\"color\": \"#E5ECF6\", \"width\": 0.5}}, \"type\": \"barpolar\"}], \"carpet\": [{\"aaxis\": {\"endlinecolor\": \"#2a3f5f\", \"gridcolor\": \"white\", \"linecolor\": \"white\", \"minorgridcolor\": \"white\", \"startlinecolor\": \"#2a3f5f\"}, \"baxis\": {\"endlinecolor\": \"#2a3f5f\", \"gridcolor\": \"white\", \"linecolor\": \"white\", \"minorgridcolor\": \"white\", \"startlinecolor\": \"#2a3f5f\"}, \"type\": \"carpet\"}], \"choropleth\": [{\"colorbar\": {\"outlinewidth\": 0, \"ticks\": \"\"}, \"type\": \"choropleth\"}], \"contour\": [{\"colorbar\": {\"outlinewidth\": 0, \"ticks\": \"\"}, \"colorscale\": [[0.0, \"#0d0887\"], [0.1111111111111111, \"#46039f\"], [0.2222222222222222, \"#7201a8\"], [0.3333333333333333, \"#9c179e\"], [0.4444444444444444, \"#bd3786\"], [0.5555555555555556, \"#d8576b\"], [0.6666666666666666, \"#ed7953\"], [0.7777777777777778, \"#fb9f3a\"], [0.8888888888888888, \"#fdca26\"], [1.0, \"#f0f921\"]], \"type\": \"contour\"}], \"contourcarpet\": [{\"colorbar\": {\"outlinewidth\": 0, \"ticks\": \"\"}, \"type\": \"contourcarpet\"}], \"heatmap\": [{\"colorbar\": {\"outlinewidth\": 0, \"ticks\": \"\"}, \"colorscale\": [[0.0, \"#0d0887\"], [0.1111111111111111, \"#46039f\"], [0.2222222222222222, \"#7201a8\"], [0.3333333333333333, \"#9c179e\"], [0.4444444444444444, \"#bd3786\"], [0.5555555555555556, \"#d8576b\"], [0.6666666666666666, \"#ed7953\"], [0.7777777777777778, \"#fb9f3a\"], [0.8888888888888888, \"#fdca26\"], [1.0, \"#f0f921\"]], \"type\": \"heatmap\"}], \"heatmapgl\": [{\"colorbar\": {\"outlinewidth\": 0, \"ticks\": \"\"}, \"colorscale\": [[0.0, \"#0d0887\"], [0.1111111111111111, \"#46039f\"], [0.2222222222222222, \"#7201a8\"], [0.3333333333333333, \"#9c179e\"], [0.4444444444444444, \"#bd3786\"], [0.5555555555555556, \"#d8576b\"], [0.6666666666666666, \"#ed7953\"], [0.7777777777777778, \"#fb9f3a\"], [0.8888888888888888, \"#fdca26\"], [1.0, \"#f0f921\"]], \"type\": \"heatmapgl\"}], \"histogram\": [{\"marker\": {\"colorbar\": {\"outlinewidth\": 0, \"ticks\": \"\"}}, \"type\": \"histogram\"}], \"histogram2d\": [{\"colorbar\": {\"outlinewidth\": 0, \"ticks\": \"\"}, \"colorscale\": [[0.0, \"#0d0887\"], [0.1111111111111111, \"#46039f\"], [0.2222222222222222, \"#7201a8\"], [0.3333333333333333, \"#9c179e\"], [0.4444444444444444, \"#bd3786\"], [0.5555555555555556, \"#d8576b\"], [0.6666666666666666, \"#ed7953\"], [0.7777777777777778, \"#fb9f3a\"], [0.8888888888888888, \"#fdca26\"], [1.0, \"#f0f921\"]], \"type\": \"histogram2d\"}], \"histogram2dcontour\": [{\"colorbar\": {\"outlinewidth\": 0, \"ticks\": \"\"}, \"colorscale\": [[0.0, \"#0d0887\"], [0.1111111111111111, \"#46039f\"], [0.2222222222222222, \"#7201a8\"], [0.3333333333333333, \"#9c179e\"], [0.4444444444444444, \"#bd3786\"], [0.5555555555555556, \"#d8576b\"], [0.6666666666666666, \"#ed7953\"], [0.7777777777777778, \"#fb9f3a\"], [0.8888888888888888, \"#fdca26\"], [1.0, \"#f0f921\"]], \"type\": \"histogram2dcontour\"}], \"mesh3d\": [{\"colorbar\": {\"outlinewidth\": 0, \"ticks\": \"\"}, \"type\": \"mesh3d\"}], \"parcoords\": [{\"line\": {\"colorbar\": {\"outlinewidth\": 0, \"ticks\": \"\"}}, \"type\": \"parcoords\"}], \"pie\": [{\"automargin\": true, \"type\": \"pie\"}], \"scatter\": [{\"marker\": {\"colorbar\": {\"outlinewidth\": 0, \"ticks\": \"\"}}, \"type\": \"scatter\"}], \"scatter3d\": [{\"line\": {\"colorbar\": {\"outlinewidth\": 0, \"ticks\": \"\"}}, \"marker\": {\"colorbar\": {\"outlinewidth\": 0, \"ticks\": \"\"}}, \"type\": \"scatter3d\"}], \"scattercarpet\": [{\"marker\": {\"colorbar\": {\"outlinewidth\": 0, \"ticks\": \"\"}}, \"type\": \"scattercarpet\"}], \"scattergeo\": [{\"marker\": {\"colorbar\": {\"outlinewidth\": 0, \"ticks\": \"\"}}, \"type\": \"scattergeo\"}], \"scattergl\": [{\"marker\": {\"colorbar\": {\"outlinewidth\": 0, \"ticks\": \"\"}}, \"type\": \"scattergl\"}], \"scattermapbox\": [{\"marker\": {\"colorbar\": {\"outlinewidth\": 0, \"ticks\": \"\"}}, \"type\": \"scattermapbox\"}], \"scatterpolar\": [{\"marker\": {\"colorbar\": {\"outlinewidth\": 0, \"ticks\": \"\"}}, \"type\": \"scatterpolar\"}], \"scatterpolargl\": [{\"marker\": {\"colorbar\": {\"outlinewidth\": 0, \"ticks\": \"\"}}, \"type\": \"scatterpolargl\"}], \"scatterternary\": [{\"marker\": {\"colorbar\": {\"outlinewidth\": 0, \"ticks\": \"\"}}, \"type\": \"scatterternary\"}], \"surface\": [{\"colorbar\": {\"outlinewidth\": 0, \"ticks\": \"\"}, \"colorscale\": [[0.0, \"#0d0887\"], [0.1111111111111111, \"#46039f\"], [0.2222222222222222, \"#7201a8\"], [0.3333333333333333, \"#9c179e\"], [0.4444444444444444, \"#bd3786\"], [0.5555555555555556, \"#d8576b\"], [0.6666666666666666, \"#ed7953\"], [0.7777777777777778, \"#fb9f3a\"], [0.8888888888888888, \"#fdca26\"], [1.0, \"#f0f921\"]], \"type\": \"surface\"}], \"table\": [{\"cells\": {\"fill\": {\"color\": \"#EBF0F8\"}, \"line\": {\"color\": \"white\"}}, \"header\": {\"fill\": {\"color\": \"#C8D4E3\"}, \"line\": {\"color\": \"white\"}}, \"type\": \"table\"}]}, \"layout\": {\"annotationdefaults\": {\"arrowcolor\": \"#2a3f5f\", \"arrowhead\": 0, \"arrowwidth\": 1}, \"coloraxis\": {\"colorbar\": {\"outlinewidth\": 0, \"ticks\": \"\"}}, \"colorscale\": {\"diverging\": [[0, \"#8e0152\"], [0.1, \"#c51b7d\"], [0.2, \"#de77ae\"], [0.3, \"#f1b6da\"], [0.4, \"#fde0ef\"], [0.5, \"#f7f7f7\"], [0.6, \"#e6f5d0\"], [0.7, \"#b8e186\"], [0.8, \"#7fbc41\"], [0.9, \"#4d9221\"], [1, \"#276419\"]], \"sequential\": [[0.0, \"#0d0887\"], [0.1111111111111111, \"#46039f\"], [0.2222222222222222, \"#7201a8\"], [0.3333333333333333, \"#9c179e\"], [0.4444444444444444, \"#bd3786\"], [0.5555555555555556, \"#d8576b\"], [0.6666666666666666, \"#ed7953\"], [0.7777777777777778, \"#fb9f3a\"], [0.8888888888888888, \"#fdca26\"], [1.0, \"#f0f921\"]], \"sequentialminus\": [[0.0, \"#0d0887\"], [0.1111111111111111, \"#46039f\"], [0.2222222222222222, \"#7201a8\"], [0.3333333333333333, \"#9c179e\"], [0.4444444444444444, \"#bd3786\"], [0.5555555555555556, \"#d8576b\"], [0.6666666666666666, \"#ed7953\"], [0.7777777777777778, \"#fb9f3a\"], [0.8888888888888888, \"#fdca26\"], [1.0, \"#f0f921\"]]}, \"colorway\": [\"#636efa\", \"#EF553B\", \"#00cc96\", \"#ab63fa\", \"#FFA15A\", \"#19d3f3\", \"#FF6692\", \"#B6E880\", \"#FF97FF\", \"#FECB52\"], \"font\": {\"color\": \"#2a3f5f\"}, \"geo\": {\"bgcolor\": \"white\", \"lakecolor\": \"white\", \"landcolor\": \"#E5ECF6\", \"showlakes\": true, \"showland\": true, \"subunitcolor\": \"white\"}, \"hoverlabel\": {\"align\": \"left\"}, \"hovermode\": \"closest\", \"mapbox\": {\"style\": \"light\"}, \"paper_bgcolor\": \"white\", \"plot_bgcolor\": \"#E5ECF6\", \"polar\": {\"angularaxis\": {\"gridcolor\": \"white\", \"linecolor\": \"white\", \"ticks\": \"\"}, \"bgcolor\": \"#E5ECF6\", \"radialaxis\": {\"gridcolor\": \"white\", \"linecolor\": \"white\", \"ticks\": \"\"}}, \"scene\": {\"xaxis\": {\"backgroundcolor\": \"#E5ECF6\", \"gridcolor\": \"white\", \"gridwidth\": 2, \"linecolor\": \"white\", \"showbackground\": true, \"ticks\": \"\", \"zerolinecolor\": \"white\"}, \"yaxis\": {\"backgroundcolor\": \"#E5ECF6\", \"gridcolor\": \"white\", \"gridwidth\": 2, \"linecolor\": \"white\", \"showbackground\": true, \"ticks\": \"\", \"zerolinecolor\": \"white\"}, \"zaxis\": {\"backgroundcolor\": \"#E5ECF6\", \"gridcolor\": \"white\", \"gridwidth\": 2, \"linecolor\": \"white\", \"showbackground\": true, \"ticks\": \"\", \"zerolinecolor\": \"white\"}}, \"shapedefaults\": {\"line\": {\"color\": \"#2a3f5f\"}}, \"ternary\": {\"aaxis\": {\"gridcolor\": \"white\", \"linecolor\": \"white\", \"ticks\": \"\"}, \"baxis\": {\"gridcolor\": \"white\", \"linecolor\": \"white\", \"ticks\": \"\"}, \"bgcolor\": \"#E5ECF6\", \"caxis\": {\"gridcolor\": \"white\", \"linecolor\": \"white\", \"ticks\": \"\"}}, \"title\": {\"x\": 0.05}, \"xaxis\": {\"automargin\": true, \"gridcolor\": \"white\", \"linecolor\": \"white\", \"ticks\": \"\", \"title\": {\"standoff\": 15}, \"zerolinecolor\": \"white\", \"zerolinewidth\": 2}, \"yaxis\": {\"automargin\": true, \"gridcolor\": \"white\", \"linecolor\": \"white\", \"ticks\": \"\", \"title\": {\"standoff\": 15}, \"zerolinecolor\": \"white\", \"zerolinewidth\": 2}}}, \"xaxis\": {\"anchor\": \"y\", \"domain\": [0.0, 1.0], \"title\": {\"text\": \"#ids\"}}, \"yaxis\": {\"anchor\": \"x\", \"categoryorder\": \"total ascending\", \"domain\": [0.0, 1.0], \"title\": {\"text\": \"sample\"}}},                        {\"responsive\": true}                    ).then(function(){\n",
       "                            \n",
       "var gd = document.getElementById('0338424f-65bd-4c4f-ba87-57154d5a4a18');\n",
       "var x = new MutationObserver(function (mutations, observer) {{\n",
       "        var display = window.getComputedStyle(gd).display;\n",
       "        if (!display || display === 'none') {{\n",
       "            console.log([gd, 'removed!']);\n",
       "            Plotly.purge(gd);\n",
       "            observer.disconnect();\n",
       "        }}\n",
       "}});\n",
       "\n",
       "// Listen for the removal of the full notebook cells\n",
       "var notebookContainer = gd.closest('#notebook-container');\n",
       "if (notebookContainer) {{\n",
       "    x.observe(notebookContainer, {childList: true});\n",
       "}}\n",
       "\n",
       "// Listen for the clearing of the current output cell\n",
       "var outputEl = gd.closest('.output');\n",
       "if (outputEl) {{\n",
       "    x.observe(outputEl, {childList: true});\n",
       "}}\n",
       "\n",
       "                        })                };                });            </script>        </div>"
      ]
     },
     "metadata": {},
     "output_type": "display_data"
    }
   ],
   "source": [
    "tmp = proteins.drop_duplicates([\"sample\",\"matched_peptide\"],keep=\"first\")\n",
    "tmp = tmp[\"sample\"].value_counts().reset_index(level=0)\n",
    "tmp.columns = [\"sample\",\"#ids\"]\n",
    "fig = px.bar(tmp, y='sample', x='#ids', orientation='h')\n",
    "fig.update_layout(yaxis={'categoryorder':'total ascending'})\n",
    "fig.show()"
   ]
  },
  {
   "cell_type": "code",
   "execution_count": null,
   "metadata": {},
   "outputs": [],
   "source": []
  }
 ],
 "metadata": {
  "kernelspec": {
   "display_name": "Python 3",
   "language": "python",
   "name": "python3"
  },
  "language_info": {
   "codemirror_mode": {
    "name": "ipython",
    "version": 3
   },
   "file_extension": ".py",
   "mimetype": "text/x-python",
   "name": "python",
   "nbconvert_exporter": "python",
   "pygments_lexer": "ipython3",
   "version": "3.8.3"
  }
 },
 "nbformat": 4,
 "nbformat_minor": 4
}

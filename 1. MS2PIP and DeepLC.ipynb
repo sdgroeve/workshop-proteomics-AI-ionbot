{
 "cells": [
  {
   "cell_type": "markdown",
   "metadata": {},
   "source": [
    "Only on Google Colab, first run this code cell:"
   ]
  },
  {
   "cell_type": "code",
   "execution_count": null,
   "metadata": {},
   "outputs": [],
   "source": [
    "! git clone https://github.com/compomics/workshop-ml-proteomics --branch EPIC-XS-workshop --depth 1\n",
    "! cp workshop-ml-proteomics/* . -r\n",
    "! pip install -q deeplc pyteomics spectrum_utils ms2pip"
   ]
  },
  {
   "cell_type": "markdown",
   "metadata": {},
   "source": [
    "Always run this one:"
   ]
  },
  {
   "cell_type": "code",
   "execution_count": null,
   "metadata": {},
   "outputs": [],
   "source": [
    "import matplotlib.pyplot as plt\n",
    "import spectrum_utils.plot as sup\n",
    "from pyteomics.mass import calculate_mass\n",
    "\n",
    "from scripts.ms2pip_utils import get_usi_spectrum, get_theoretical_spectrum, get_predicted_spectrum, get_intensity_array"
   ]
  },
  {
   "cell_type": "markdown",
   "metadata": {
    "id": "VNcI3VJTq9zq"
   },
   "source": [
    "# 1 Peptide spectrum prediction with MS²PIP\n",
    "\n",
    "## 1.1 Observed and theoretical peptide fragmentation spectra\n",
    "\n",
    "The intact mass of a peptide does not provide sufficient information to identify it in a complex sample. For instance, the peptides `ACDEK` and `EDCAK` share the same amino acid composition and have the exact same mass. As a result, these peptides are indistinguishable based on their intact mass alone (they are isomeric). More information on the peptide is therefore required.\n",
    "\n",
    "Through peptide fragmentation, we can break a peptide into various fragment ions, each representing a part of the peptide sequence. Fragmentation takes place in the collision cell of the mass spectrometer and can be performed by colliding the peptides with an inert gas, such as argon. The resulting fragment ions are then acquired in the MS2 scan, making up the peptide fragmentation spectrum.\n",
    "\n",
    "![LC-MS DDA overview](./images/1.1-lcms-dda-overview.png)\n",
    "\n",
    "_Overview of a data-dependent mass spectrometry workflow with peptide fragmentation._\n",
    "\n",
    "Using the Universal Spectrum Identifier<sup>[1]</sup>, we can directly download spectra from the PRIDE Archive. This spectrum was identified as peptide `VLHPLEGAVVIIFK` with precursor charge 2:"
   ]
  },
  {
   "cell_type": "code",
   "execution_count": null,
   "metadata": {},
   "outputs": [],
   "source": [
    "usi = \"mzspec:PXD000561:Adult_CD8Tcells_Gel_Elite_44_f08:scan:9398:VTEIAITASDR/2\"\n",
    "observed_spectrum = get_usi_spectrum(usi)\n",
    "\n",
    "plt.figure(figsize=(12,4))\n",
    "plt.title(usi)\n",
    "sup.spectrum(observed_spectrum)\n",
    "plt.show()"
   ]
  },
  {
   "cell_type": "markdown",
   "metadata": {},
   "source": [
    "**How do we know that this is the spectrum for peptide `VTEIAITASDR`?**\n",
    "\n",
    "The most common fragment ion types from the _HCD_ and _CID_ fragmentation techniques are \"b\" and \"y\" ions. Each of these ions are the result of \"breaking\" the peptide in two parts. Depending on the location of the breakage along the peptide backbone, different b- or y-ion will be generated:\n",
    "\n",
    "![image](https://www.bioinfor.com/wp-content/uploads/2016/11/denovo-screenshot.png)\n",
    "\n",
    "_Figure 1.2 Example of peptide fragmentation._\n",
    "\n",
    "As we know the masses of each amino acid, we can simply calculate the mass of each expected b- and y-ion for any given peptide:\n",
    "- b-ions: Sum the masses of all amino acid residues and the mass of a proton\n",
    "- y-ions: Sum the masses of all amino acid residues and add the mass of a proton and H<sub>2</sub>O."
   ]
  },
  {
   "cell_type": "markdown",
   "metadata": {},
   "source": [
    "Using these formulae, we can calculate a full _theoretical fragmentation spectrum_. Such a spectrum shows us where to expect peaks and where not. This information helps us to identify an MS2 spectrum. The theoretical spectrum for our downloaded spectrum from PRIDE Archive would contain the following b-ions:"
   ]
  },
  {
   "cell_type": "code",
   "execution_count": null,
   "metadata": {},
   "outputs": [],
   "source": [
    "peptide = \"VTEIAITASDR\"\n",
    "\n",
    "for i, amino_acid in enumerate(peptide[:-1]):\n",
    "    ion_mass = calculate_mass(sequence=peptide[:i+1], ion_type=\"b\", charge=1)\n",
    "    print(f\"b{i+1}\\t{ion_mass:.2f} Da\\t\", peptide[:i+1])"
   ]
  },
  {
   "cell_type": "markdown",
   "metadata": {},
   "source": [
    "The full theoretical spectrum looks like this:"
   ]
  },
  {
   "cell_type": "code",
   "execution_count": null,
   "metadata": {},
   "outputs": [],
   "source": [
    "theoretical_spectrum = get_theoretical_spectrum(\"VTEIAITASDR\", modifications=\"-\")\n",
    "\n",
    "plt.figure(figsize=(12,4))\n",
    "sup.spectrum(theoretical_spectrum)\n",
    "plt.show()"
   ]
  },
  {
   "cell_type": "markdown",
   "metadata": {},
   "source": [
    "_Question 1.1: Run the code cell below. Often, a theoretical spectrum is instead visualized like the one below, why would that be?_"
   ]
  },
  {
   "cell_type": "code",
   "execution_count": null,
   "metadata": {},
   "outputs": [],
   "source": [
    "theoretical_spectrum = get_theoretical_spectrum(\"VTEIAITASDR\", modifications=\"-\", b_ion_weight=0.5)\n",
    "\n",
    "plt.figure(figsize=(12,4))\n",
    "sup.spectrum(theoretical_spectrum)\n",
    "plt.show()"
   ]
  },
  {
   "cell_type": "markdown",
   "metadata": {},
   "source": [
    "By matching an observed spectrum - such as the one downloaded before - with a theoretical spectrum, we can assess the probability that the peptide-to-spectrum match (PSM) is correct:"
   ]
  },
  {
   "cell_type": "code",
   "execution_count": null,
   "metadata": {},
   "outputs": [],
   "source": [
    "plt.figure(figsize=(12,6))\n",
    "sup.mirror(observed_spectrum, theoretical_spectrum)\n",
    "plt.show()"
   ]
  },
  {
   "cell_type": "markdown",
   "metadata": {},
   "source": [
    "We can also annotate the observed spectrum accordingly:"
   ]
  },
  {
   "cell_type": "code",
   "execution_count": null,
   "metadata": {},
   "outputs": [],
   "source": [
    "observed_spectrum.annotate_peptide_fragments(0.02, \"Da\")\n",
    "\n",
    "plt.figure(figsize=(12,6))\n",
    "sup.mirror(observed_spectrum, theoretical_spectrum)\n",
    "plt.show()"
   ]
  },
  {
   "cell_type": "markdown",
   "metadata": {},
   "source": [
    "_Question 1.2: In the above code, what would the `0.02 Da` mean? Why is this important?_\n",
    "\n",
    "How well do the spectra match? Are all peaks matched? Are all peaks as intense as you would expect?\n",
    "\n",
    "\n",
    "## 1.2 Predicted peptide fragmentation spectra\n",
    "\n",
    "As you probably noticed, while we can simply calculate the fragment ion _m/z_ values for any given peptide, the resulting theoretical spectrum does not really resemble an observed spectrum. Many peaks are not as intense, many others are not present at all. Unfortunately, we cannot simply calculate the expected intensity of fragment ion peaks. This is where more complex models are required; models that can be learned from thousands or millions of observed fragmentation spectra with machine learning (ML).\n",
    "\n",
    "MS²PIP<sup>[3]</sup> employs the XGBoost library, which is an advanced ML algorithm based decision trees. For each input - a peptide amino acid sequence - MS²PIP calculates meaningful features for the peptide and each fragment ion, derived from amino acid properties such as basicity, hydrophobicity, and isoelectric point. These features are then passed to the XGBoost algorithm, either to train new intensity prediction models, or to use existing models to make predictions. The output from MS²PIP is then a predicted spectrum with intensities that approximate true, observed fragmentation spectra:"
   ]
  },
  {
   "cell_type": "code",
   "execution_count": null,
   "metadata": {},
   "outputs": [],
   "source": [
    "predicted_spectrum = get_predicted_spectrum(\"VTEIAITASDR\", modifications=\"-\", charge=2)\n",
    "\n",
    "plt.figure(figsize=(12,4))\n",
    "sup.spectrum(predicted_spectrum)\n",
    "plt.show()"
   ]
  },
  {
   "cell_type": "markdown",
   "metadata": {},
   "source": [
    "Let's compare it to the observed spectrum:"
   ]
  },
  {
   "cell_type": "code",
   "execution_count": null,
   "metadata": {},
   "outputs": [],
   "source": [
    "plt.figure(figsize=(12,6))\n",
    "sup.mirror(observed_spectrum, predicted_spectrum)\n",
    "plt.show()"
   ]
  },
  {
   "cell_type": "markdown",
   "metadata": {},
   "source": [
    "As you can see, this is a much closer resemblance to the observed spectrum than the simple theoretical spectrum was. The brilliant aspect of spectrum prediction, is that you can run it for ANY peptide, even peptides that have not been observed before. If you don't have any non-amino acid characters (B, J, O, U, X, or Z)  in your name, fill it in below, and let's see what your peptide looks like!"
   ]
  },
  {
   "cell_type": "code",
   "execution_count": null,
   "metadata": {},
   "outputs": [],
   "source": [
    "your_name = \"LENNARTMARTENS\"  # <-- Fill in your name here\n",
    "charge = 2                    # <-- Try different precursor charge states (positive values, e.g. between 2 and 6)\n",
    "\n",
    "predicted_spectrum = get_predicted_spectrum(your_name, modifications=\"-\", charge=charge)\n",
    "\n",
    "plt.figure(figsize=(12,4))\n",
    "plt.title(your_name + \"/\" + str(charge))\n",
    "sup.spectrum(predicted_spectrum)\n",
    "plt.show()"
   ]
  },
  {
   "cell_type": "markdown",
   "metadata": {},
   "source": [
    "You can find out more about MS²PIP in the optional\n",
    "[section 3 of this workshop](https://colab.research.google.com/github/compomics/workshop-ml-proteomics/blob/EPIC-XS-workshop/3.%20More%20MS2PIP%20and%20DeepLC.ipynb)\n",
    "or on [github.com/compomics/ms2pip_c](https://github.com/compomics/ms2pip_c)."
   ]
  },
  {
   "cell_type": "markdown",
   "metadata": {},
   "source": [
    "# 2 Retention time prediction with DeepLC"
   ]
  },
  {
   "cell_type": "code",
   "execution_count": null,
   "metadata": {},
   "outputs": [],
   "source": [
    "import pandas as pd\n",
    "import seaborn as sns\n",
    "from deeplc import DeepLC\n",
    "from matplotlib import pyplot as plt\n",
    "\n",
    "# Suppress tensorflow logging\n",
    "import os\n",
    "import warnings\n",
    "os.environ['TF_CPP_MIN_LOG_LEVEL'] = '3' \n",
    "warnings.filterwarnings('ignore', category=DeprecationWarning)\n",
    "warnings.filterwarnings('ignore', category=FutureWarning)\n",
    "import tensorflow as tf\n",
    "tf.get_logger().setLevel('ERROR')"
   ]
  },
  {
   "cell_type": "markdown",
   "metadata": {},
   "source": [
    "## 2.0 Introduction\n",
    "\n",
    "**High Performance/Pressure Liquid Chromatography**\n",
    "\n",
    "As all data acquisition parts in LC-IM-MS the LC part separates analytes. In this case the separation is based on the physicochemical properties of our peptides. In most cases peptides are separated based on their hydrophobicity in so-called reverse-phase LC.\n",
    "A more detailed explanation can be found [here](https://www.ssi.shimadzu.com/products/liquid-chromatography/knowledge-base/hplc-basics.html).\n",
    "\n",
    "<br>\n",
    "\n",
    "**Mobile and stationary phase; migration through the column**\n",
    "\n",
    "In HPLC the separation happens in a column. This separation is achieved with two phases, the stationary phase (usually) consists of molecules (e.g., 18 carbons) covalently bound to silica beads. The sample is pumped through the column with two solvents that form the mobile phase (A and B) that have different chemical properties (e.g., hydrophobicity).\n",
    "\n",
    "\n",
    "The analytes in the sample interact with both the stationary and mobile phase. The physicochemical properties of the peptides dictate how much they can interact with either of the two phases. (More) interaction with the mobile phase results in migration of the peptides in the column:\n",
    "\n",
    "![workflow_lc](https://www.ssi.shimadzu.com/sites/ssi.shimadzu.com/files/Products/Images/hplc/knowledge-base/sample-bands-animation.gif)\n",
    "\n",
    "_Adapted from [shimadzu.com](https://www.ssi.shimadzu.com/products/liquid-chromatography/knowledge-base/hplc-basics.html)_\n",
    "\n",
    "\n",
    "## 2.1 DeepLC predictions\n",
    "\n",
    "DeepLC is a retention time predictor for (modified) peptides that employs deep learning. Its strength lies in the fact that it can accurately predict retention times for modified peptides, even if hasn’t seen said modification during training.<sup>[4]</sup>\n",
    "\n",
    "\n",
    "### 2.1.1 Reading data and preparing DeepLC\n",
    "\n",
    "First we will read a table that contains all of our data:"
   ]
  },
  {
   "cell_type": "code",
   "execution_count": null,
   "metadata": {},
   "outputs": [],
   "source": [
    "df = pd.read_csv(\"https://dl.dropboxusercontent.com/s/bok4w3jw2gxohbz/deeplc_input.csv\",index_col=0)"
   ]
  },
  {
   "cell_type": "markdown",
   "metadata": {},
   "source": [
    "The data looks like this:"
   ]
  },
  {
   "cell_type": "code",
   "execution_count": null,
   "metadata": {},
   "outputs": [],
   "source": [
    "df"
   ]
  },
  {
   "cell_type": "markdown",
   "metadata": {},
   "source": [
    "We have multiple columns describing the scan number, if a PSM is the best ranked PSM, if there are any modifications, the precursor mass, the peptide mass, the observed retention time, and the associated q-value with the PSM.\n",
    "\n",
    "For DeepLC we need strings instead of NaN in the modifications column, so lets replace those with empty strings:"
   ]
  },
  {
   "cell_type": "code",
   "execution_count": null,
   "metadata": {},
   "outputs": [],
   "source": [
    "df.fillna(\"\",inplace=True)"
   ]
  },
  {
   "cell_type": "markdown",
   "metadata": {},
   "source": [
    "Here we sample rows from the original table, this is purely done for computational reasons (e.g., on a laptop). Feel free to increase the numbers if you have a faster system."
   ]
  },
  {
   "cell_type": "code",
   "execution_count": null,
   "metadata": {},
   "outputs": [],
   "source": [
    "num_total_rows_select = 1000\n",
    "num_calib = 250\n",
    "\n",
    "sub_df_pred = df[df[\"scan\"].isin(list(set(df[df[\"q_value\"] < 0.01][\"scan\"].sample(num_total_rows_select))))].copy()\n",
    "sub_df_calib = sub_df_pred[sub_df_pred[\"scan\"].isin(list(set(sub_df_pred[sub_df_pred[\"q_value\"] < 0.0001][\"scan\"].sample(num_calib))))].copy()"
   ]
  },
  {
   "cell_type": "markdown",
   "metadata": {},
   "source": [
    "Here we make sure that the column names are changed to something that DeepLC recognizes:"
   ]
  },
  {
   "cell_type": "code",
   "execution_count": null,
   "metadata": {},
   "outputs": [],
   "source": [
    "sub_df_pred.rename({\n",
    "    \"database_peptide\" : \"seq\",\n",
    "    \"rt\" : \"tr\"\n",
    "},axis=1,inplace=True)\n",
    "\n",
    "sub_df_calib.rename({\n",
    "    \"database_peptide\" : \"seq\",\n",
    "    \"rt\" : \"tr\"\n",
    "},axis=1,inplace=True)"
   ]
  },
  {
   "cell_type": "markdown",
   "metadata": {},
   "source": [
    "Initiate a DeepLC instance that will perform the calibration and predictions:"
   ]
  },
  {
   "cell_type": "code",
   "execution_count": null,
   "metadata": {
    "scrolled": true
   },
   "outputs": [],
   "source": [
    "dlc = DeepLC(\n",
    "    path_model=[\"DeepLC_data/mods/full_hc_PXD005573_mcp_cb975cfdd4105f97efa0b3afffe075cc.hdf5\"],\n",
    "    cnn_model=True,\n",
    "    pygam_calibration=False,\n",
    "    verbose=False\n",
    ")"
   ]
  },
  {
   "cell_type": "markdown",
   "metadata": {},
   "source": [
    "We need to calibrate predictions to our specific LC setup to make them valid, so first we will feed some predictions to our DeepLC instance:"
   ]
  },
  {
   "cell_type": "code",
   "execution_count": null,
   "metadata": {
    "scrolled": true
   },
   "outputs": [],
   "source": [
    "dlc.calibrate_preds(seq_df=sub_df_calib[sub_df_calib[\"best_psm\"]==1])"
   ]
  },
  {
   "cell_type": "markdown",
   "metadata": {},
   "source": [
    "## 2.2 Prediction errors of (ranked) PSMs\n",
    "\n",
    "### 2.2.1 Comparing PSM q-values with their predicted retention time error\n",
    "\n",
    "Let's first make predictions:"
   ]
  },
  {
   "cell_type": "code",
   "execution_count": null,
   "metadata": {},
   "outputs": [],
   "source": [
    "preds = dlc.make_preds(seq_df=sub_df_pred)\n",
    "sub_df_pred[\"preds\"] = preds"
   ]
  },
  {
   "cell_type": "markdown",
   "metadata": {},
   "source": [
    "It can sometimes be hard to rank peptides that match to a spectum. There are always loads of PSMs matches, but most are not considered valid (Q-value > 0.01)."
   ]
  },
  {
   "cell_type": "code",
   "execution_count": null,
   "metadata": {},
   "outputs": [],
   "source": [
    "df[(df[\"scan\"] == 42424) & (df[\"rt\"] > 3937) & (df[\"rt\"] < 3938)]"
   ]
  },
  {
   "cell_type": "markdown",
   "metadata": {},
   "source": [
    "In the next cell we compare PSMs with a q-value <= 0.01 against PSMs with a q-value > 0.01. It is immediately obvious that the group with a higher q-value also has a wider error distribution. This highlights the possibility of rescoring PSMs in further analysis."
   ]
  },
  {
   "cell_type": "code",
   "execution_count": null,
   "metadata": {},
   "outputs": [],
   "source": [
    "sub_df_pred_lowerrank = sub_df_pred[sub_df_pred[\"q_value\"] > 0.01]\n",
    "sub_df_pred_firstrank = sub_df_pred[sub_df_pred[\"q_value\"] <= 0.01]\n",
    "\n",
    "# Init plot\n",
    "plt.figure(figsize=(10,10))\n",
    "ax = plt.gca()\n",
    "ax.set_aspect('equal')\n",
    "\n",
    "# Plot data\n",
    "plt.scatter(sub_df_pred_lowerrank[\"tr\"],sub_df_pred_lowerrank[\"preds\"],s=3.5, alpha=0.25,label=\"q-value > 0.01\")\n",
    "plt.scatter(sub_df_pred_firstrank[\"tr\"],sub_df_pred_firstrank[\"preds\"],s=3.5, alpha=0.25,label=\"q-value <= 0.01\")\n",
    "plt.plot([1500,14500],[1500,14500],c=\"black\",linestyle=\"dotted\")\n",
    "\n",
    "plt.xlabel(\"Observed retention time (s)\")\n",
    "plt.ylabel(\"Predicted retention time (s)\")\n",
    "plt.legend()\n",
    "\n",
    "plt.xlim(0,16000)\n",
    "plt.ylim(0,16000)\n",
    "\n",
    "plt.show()\n",
    "\n",
    "sns.distplot(sub_df_pred_lowerrank[\"tr\"]-sub_df_pred_lowerrank[\"preds\"],\n",
    "             hist = False, kde = True, label=\"q-value > 0.01\")\n",
    "sns.distplot(sub_df_pred_firstrank[\"tr\"]-sub_df_pred_firstrank[\"preds\"],\n",
    "             hist = False, kde = True, label=\"q-value <= 0.01\")\n",
    "plt.xlabel(\"Error (s)\")\n",
    "\n",
    "plt.show()"
   ]
  },
  {
   "cell_type": "markdown",
   "metadata": {},
   "source": [
    "You can find out more about DeepLC in the optional\n",
    "[section 3 of this workshop](https://colab.research.google.com/github/compomics/workshop-ml-proteomics/blob/EPIC-XS-workshop/3.%20More%20MS2PIP%20and%20DeepLC.ipynb)\n",
    "or on [github.com/compomics/deeplc](https://github.com/compomics/deeplc)."
   ]
  },
  {
   "cell_type": "markdown",
   "metadata": {},
   "source": [
    "### References:\n",
    "[1] Deutsch, E. W., Perez-Riverol, Y., Carver, J., Kawano, S. Mendoza, L., van den Bossche, T., Gabriels, R., Binz, P.-A., Pullman, B., Sun, Z., Shofstahl, J., Bittremieux, W., Mak, T. D., Klein, J., Zhu, Y., Lam, H., Vizcaíno, J. A., &#38; Bandeira, N. (2021). Universal Spectrum Identifier for mass spectra. <i>Nature Methods</i>, 1–3. https://doi.org/10.1038/s41592-021-01184-6\n",
    "\n",
    "[2] Levitsky, L. I., Klein, J. A., Ivanov, M. v., &#38; Gorshkov, M. v. (2019). Pyteomics 4.0: Five Years of Development of a Python Proteomics Framework. <i>Journal of Proteome Research</i>, <i>18</i>(2), 709–714. https://doi.org/10.1021/ACS.JPROTEOME.8B00717/\n",
    "\n",
    "[3] Gabriels, R., Martens, L., &#38; Degroeve, S. (2019). Updated MS<sup>2</sup>PIP web server delivers fast and accurate MS<sup>2</sup> peak intensity prediction for multiple fragmentation methods, instruments and labeling techniques. <i>Nucleic Acids Research</i>, <i>47</i>(W1), W295--W299. https://doi.org/10.1093/nar/gkz299\n",
    "\n",
    "[4] Bouwmeester, R., Gabriels, R., Hulstaert, N., Martens, L., &#38; Degroeve, S. (2021). DeepLC can predict retention times for peptides that carry as-yet unseen modifications. <i>Nature Methods</i>, <i>18</i>(11), 1363–1369. https://doi.org/10.1038/s41592-021-01301-5"
   ]
  }
 ],
 "metadata": {
  "colab": {
   "authorship_tag": "ABX9TyMEBiYHoyXGWreu/m/G4W5I",
   "include_colab_link": true,
   "name": "Untitled6.ipynb",
   "provenance": []
  },
  "kernelspec": {
   "display_name": "Python 3 (ipykernel)",
   "language": "python",
   "name": "python3"
  },
  "language_info": {
   "codemirror_mode": {
    "name": "ipython",
    "version": 3
   },
   "file_extension": ".py",
   "mimetype": "text/x-python",
   "name": "python",
   "nbconvert_exporter": "python",
   "pygments_lexer": "ipython3",
   "version": "3.9.7"
  }
 },
 "nbformat": 4,
 "nbformat_minor": 4
}

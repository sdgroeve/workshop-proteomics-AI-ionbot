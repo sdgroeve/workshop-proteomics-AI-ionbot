{
  "cells": [
    {
      "cell_type": "markdown",
      "metadata": {
        "id": "view-in-github",
        "colab_type": "text"
      },
      "source": [
        "<a href=\"https://colab.research.google.com/github/compomics/workshop-ml-proteomics/blob/EPIC-XS-workshop/the_ionbot_result_files.ipynb\" target=\"_parent\"><img src=\"https://colab.research.google.com/assets/colab-badge.svg\" alt=\"Open In Colab\"/></a>"
      ]
    },
    {
      "cell_type": "markdown",
      "metadata": {
        "id": "23ZSxzD47Fjj"
      },
      "source": [
        "# The ionbot result files"
      ]
    },
    {
      "cell_type": "code",
      "execution_count": null,
      "metadata": {
        "id": "agxNEX4K7Fjl"
      },
      "outputs": [],
      "source": [
        "%matplotlib inline\n",
        "import matplotlib.pyplot as plt\n",
        "import seaborn as sns\n",
        "import numpy as np\n",
        "import pandas as pd\n",
        "import plotly.express as px\n",
        "!pip -q install itables\n",
        "from itables import init_notebook_mode\n",
        "init_notebook_mode(all_interactive=True)\n",
        "import itables.options as opt\n",
        "opt.maxBytes = 0\n",
        "opt.classes = [\"display\", \"compact\",\"hover\"]\n",
        "opt.showIndex = False\n",
        "opt.style = \"max-width:96%\""
      ]
    },
    {
      "cell_type": "markdown",
      "source": [
        "In this notebook we analyse the ionbot search results for one fraction `Adult_CD8Tcells_Gel_Elite_44_f08.mgf` in a CD8T sample ([PXD000561](http://proteomecentral.proteomexchange.org/cgi/GetDataset?ID=PXD000561)). \n",
        "\n",
        "The search results can be downloaded from ionbot.cloud as the `ionbot.twbx` file. This file can opened in the free Tableau Reader tool for interactive result data visualization as explained [here](https://ionbot.cloud/help).\n",
        "\n",
        "In this notebook, to provide a detailed explanation of the result files, we will decompress the `ionbot.twbx` file and describe each result file individually.\n",
        "\n",
        "Rename the `ionbot.twbx` file to `ionbot.zip` (and upload it to this server).\n",
        "\n",
        "If you don't have the `ionbot.twbx` file you can uncomment the code below to download the result file from the GitHub repository.\n"
      ],
      "metadata": {
        "id": "VTmG_dyuDYD0"
      }
    },
    {
      "cell_type": "code",
      "source": [
        "!wget https://github.com/compomics/workshop-ml-proteomics/blob/EPIC-XS-workshop/ionbot.twbx?raw=true\n",
        "!mv ionbot.twbx?raw=true ionbot.zip"
      ],
      "metadata": {
        "id": "c-7kGU5X7sPy"
      },
      "execution_count": null,
      "outputs": []
    },
    {
      "cell_type": "markdown",
      "metadata": {
        "id": "Oa4tjuKR7Fju"
      },
      "source": [
        "Here, we decompress the file using Python:"
      ]
    },
    {
      "cell_type": "code",
      "execution_count": null,
      "metadata": {
        "id": "LhCTVNX97Fjw"
      },
      "outputs": [],
      "source": [
        "import zipfile\n",
        "\n",
        "archive = zipfile.ZipFile(\"ionbot.zip\")\n",
        "\n",
        "for file in archive.namelist():\n",
        "    if file.startswith('Data/'):\n",
        "        archive.extract(file, '.')"
      ]
    },
    {
      "cell_type": "markdown",
      "metadata": {
        "id": "ORjFWZqe7Fjx"
      },
      "source": [
        "The result files are written to the folder `Data/ionbot_result`:"
      ]
    },
    {
      "cell_type": "code",
      "execution_count": null,
      "metadata": {
        "id": "hkuHt_7G7Fjy"
      },
      "outputs": [],
      "source": [
        "result_folder = \"Data/ionbot_result\""
      ]
    },
    {
      "cell_type": "markdown",
      "metadata": {
        "id": "PfJv54nV7Fjz"
      },
      "source": [
        "The content of the result files is described [here](https://ionbot.cloud/help)."
      ]
    },
    {
      "cell_type": "markdown",
      "metadata": {
        "id": "GPB7Gxg27Fj0"
      },
      "source": [
        "## The PSM results\n",
        "\n",
        "First, we load the result file that contains the first ranked matches for each MS2 spectrum:"
      ]
    },
    {
      "cell_type": "code",
      "execution_count": null,
      "metadata": {
        "id": "NGy9wVqE7Fj1"
      },
      "outputs": [],
      "source": [
        "ionbot = pd.read_csv(\"%s/ionbot.first.csv\"%result_folder)"
      ]
    },
    {
      "cell_type": "markdown",
      "metadata": {
        "id": "iCEsqnx87Fj4"
      },
      "source": [
        "These are the column names:"
      ]
    },
    {
      "cell_type": "code",
      "execution_count": null,
      "metadata": {
        "id": "WYWk0LiN7Fj5"
      },
      "outputs": [],
      "source": [
        "for col in ionbot.columns:\n",
        "    print(col)"
      ]
    },
    {
      "cell_type": "markdown",
      "metadata": {
        "id": "eSiGiCXd7Fj7"
      },
      "source": [
        "Let's print some columns and explain the content:"
      ]
    },
    {
      "cell_type": "code",
      "execution_count": null,
      "metadata": {
        "id": "IBRWS8sF7Fj7"
      },
      "outputs": [],
      "source": [
        "cols_to_use = [\"ionbot_match_id\",\"database_peptide\",\"matched_peptide\",\n",
        "               \"modifications\",\"modifications_delta\",\"unexpected_modification\"]\n",
        "ionbot[cols_to_use]"
      ]
    },
    {
      "cell_type": "markdown",
      "metadata": {
        "id": "b9T5QJvF7Fj8"
      },
      "source": [
        "The column `database` is `T` if the PSM matched the target database, it is `D` otherwise.\n",
        "\n",
        "We can see that the result file contains all matches with FDR<1%:"
      ]
    },
    {
      "cell_type": "code",
      "execution_count": null,
      "metadata": {
        "id": "4Swycrpw7Fj9"
      },
      "outputs": [],
      "source": [
        "print(ionbot[\"database\"].value_counts())"
      ]
    },
    {
      "cell_type": "markdown",
      "metadata": {
        "id": "DTDMTy2b7Fj-"
      },
      "source": [
        "The column `psm_score` contains the SVM (Percolator 3.0) score (i.e. the PSM score) for the matched spectra:"
      ]
    },
    {
      "cell_type": "code",
      "execution_count": null,
      "metadata": {
        "id": "_hfoWak47Fj-"
      },
      "outputs": [],
      "source": [
        "px.histogram(ionbot,\n",
        "             x=\"psm_score\", \n",
        "             color=\"database\", \n",
        "             nbins=50\n",
        "            )"
      ]
    },
    {
      "cell_type": "markdown",
      "metadata": {
        "id": "ObJ6W5Jg7Fj_"
      },
      "source": [
        "Next, we load the result file that contains the lower ranked (co-eluting) matches for each MS2 spectrum and add these to the search results:"
      ]
    },
    {
      "cell_type": "code",
      "execution_count": null,
      "metadata": {
        "id": "Ctd2mjLQ7Fj_"
      },
      "outputs": [],
      "source": [
        "ionbot[\"rank\"] = [\"first\"]*len(ionbot)\n",
        "tmp = pd.read_csv(\"%s/ionbot.lower.csv\"%result_folder)\n",
        "tmp[\"rank\"] = [\"lower\"]*len(tmp)\n",
        "ionbot = pd.concat([ionbot,tmp])"
      ]
    },
    {
      "cell_type": "markdown",
      "metadata": {
        "id": "ySxYJHFH7FkA"
      },
      "source": [
        "For the remainder, we remove the matches against the decoy database:"
      ]
    },
    {
      "cell_type": "code",
      "execution_count": null,
      "metadata": {
        "id": "IT8BfU3v7FkA"
      },
      "outputs": [],
      "source": [
        "ionbot = ionbot[(ionbot[\"database\"]==\"T\")]"
      ]
    },
    {
      "cell_type": "markdown",
      "metadata": {
        "id": "AWUI9M407FkA"
      },
      "source": [
        "While adding the lower ranked matches we created a column `rank` that contains 'first' if the match was ranked first based on the psm_score, and 'lower' otherwise:"
      ]
    },
    {
      "cell_type": "code",
      "execution_count": null,
      "metadata": {
        "id": "Nw5AvOMh7FkA"
      },
      "outputs": [],
      "source": [
        "print(ionbot[\"rank\"].value_counts())"
      ]
    },
    {
      "cell_type": "markdown",
      "metadata": {
        "id": "ZYyFOwF27FkB"
      },
      "source": [
        "To reconstruct the LC-MS for matched MS2 spectra we can use the `observed_retention_time` and `precursor_mass` columns: "
      ]
    },
    {
      "cell_type": "code",
      "execution_count": null,
      "metadata": {
        "scrolled": false,
        "id": "EvKNKmLI7FkC"
      },
      "outputs": [],
      "source": [
        "fig = px.scatter(ionbot, \n",
        "                 x=\"observed_retention_time\", \n",
        "                 y=\"precursor_mass\", \n",
        "                 color=\"rank\",\n",
        "                 hover_data=[\"ionbot_match_id\",\"matched_peptide\"]\n",
        "                )\n",
        "fig.update_traces(marker=dict(size=2))\n",
        "fig.show()"
      ]
    },
    {
      "cell_type": "markdown",
      "metadata": {
        "id": "BSreVGuc7FkD"
      },
      "source": [
        "Finally, we load ionbot specific PSM features from `ionbot.features.csv` and merge these with the search results: "
      ]
    },
    {
      "cell_type": "code",
      "execution_count": null,
      "metadata": {
        "id": "-lbraO7A7FkD"
      },
      "outputs": [],
      "source": [
        "features = pd.read_csv(\"%s/ionbot.features.csv\"%result_folder)\n",
        "ionbot = ionbot.merge(features,on=\"ionbot_match_id\",how=\"left\")\n",
        "\n",
        "for col in features.columns:\n",
        "    print(col)"
      ]
    },
    {
      "cell_type": "markdown",
      "metadata": {
        "id": "eUEaVVQJ7FkD"
      },
      "source": [
        "We can plot these feature values as boxplots:"
      ]
    },
    {
      "cell_type": "code",
      "execution_count": null,
      "metadata": {
        "id": "h2_HsghJ7FkE"
      },
      "outputs": [],
      "source": [
        "px.box(ionbot, \n",
        "       y=[\"by-count\",\"all-count\"],\n",
        "       color=\"rank\",\n",
        "       hover_data=[\"ionbot_match_id\"]\n",
        "      )"
      ]
    },
    {
      "cell_type": "code",
      "execution_count": null,
      "metadata": {
        "id": "gg1D8My37FkE"
      },
      "outputs": [],
      "source": [
        "px.box(ionbot, \n",
        "       y=[\"by-explained\",\"all-explained\"],\n",
        "       color=\"rank\",\n",
        "       hover_data=[\"ionbot_match_id\"]       \n",
        "      )"
      ]
    },
    {
      "cell_type": "code",
      "execution_count": null,
      "metadata": {
        "id": "ZQkI2aez7FkF"
      },
      "outputs": [],
      "source": [
        "px.box(ionbot, \n",
        "       y=[\"by-intensity-pattern-correlation\"],\n",
        "       color=\"rank\",\n",
        "       hover_data=[\"ionbot_match_id\"]      \n",
        "       )"
      ]
    },
    {
      "cell_type": "code",
      "execution_count": null,
      "metadata": {
        "id": "cxz8-1iM7FkF"
      },
      "outputs": [],
      "source": [
        "px.box(ionbot, \n",
        "       y=[\"rt-pred-error\"],\n",
        "       color=\"rank\",\n",
        "       hover_data=[\"ionbot_match_id\"]\n",
        "      )"
      ]
    },
    {
      "cell_type": "markdown",
      "source": [
        "Next we look at the DeepLC predictions that are automatically calibrated in ionbot:"
      ],
      "metadata": {
        "id": "E9AF6tIOB_R0"
      }
    },
    {
      "cell_type": "code",
      "execution_count": null,
      "metadata": {
        "id": "GPgWOuEF7FkG"
      },
      "outputs": [],
      "source": [
        "fig = px.scatter(ionbot, \n",
        "                 x=\"observed_retention_time\", \n",
        "                 y=\"predicted_retention_time\",\n",
        "                 color=\"rank\",\n",
        "                 hover_data=[\"ionbot_match_id\"]\n",
        "                )\n",
        "fig.update_traces(marker=dict(size=2))\n",
        "fig.show()"
      ]
    },
    {
      "cell_type": "markdown",
      "source": [
        "To compute the `rt-pred-error` feature that ionbot uses in the PSM scoring function, the observed retention time is corrected in the `corrected_retention_time` column.\n",
        "\n",
        "The difference between `observed_retention_time` and `corrected_retention_time` is made clear by plotting the against each other:"
      ],
      "metadata": {
        "id": "82WQOu8rCcfv"
      }
    },
    {
      "cell_type": "code",
      "source": [
        "fig = px.scatter(ionbot, \n",
        "                 x=\"observed_retention_time\", \n",
        "                 y=\"corrected_retention_time\",\n",
        "                 color=\"rank\",\n",
        "                 hover_data=[\"ionbot_match_id\"]\n",
        "                )\n",
        "fig.update_traces(marker=dict(size=2))\n",
        "fig.show()"
      ],
      "metadata": {
        "id": "jlfZyX7PcO21"
      },
      "execution_count": null,
      "outputs": []
    },
    {
      "cell_type": "markdown",
      "source": [
        "This gives the following corrected prediction result plot:"
      ],
      "metadata": {
        "id": "CMSaXjM1dUI0"
      }
    },
    {
      "cell_type": "code",
      "execution_count": null,
      "metadata": {
        "id": "U07PZ8go7FkG"
      },
      "outputs": [],
      "source": [
        "fig = px.scatter(ionbot, \n",
        "                 x=\"corrected_retention_time\", \n",
        "                 y=\"predicted_retention_time\",\n",
        "                 color=\"rank\",\n",
        "                 hover_data=[\"ionbot_match_id\"]\n",
        "                )\n",
        "fig.update_traces(marker=dict(size=2))\n",
        "fig.show()"
      ]
    },
    {
      "cell_type": "markdown",
      "metadata": {
        "id": "AlWvxNDW7FkH"
      },
      "source": [
        "The `proteins` column contains detailed protein matching information:"
      ]
    },
    {
      "cell_type": "code",
      "execution_count": null,
      "metadata": {
        "id": "CAhTRrVJ7FkH"
      },
      "outputs": [],
      "source": [
        "ionbot[[\"ionbot_match_id\",\"proteins\"]]"
      ]
    },
    {
      "cell_type": "markdown",
      "metadata": {
        "id": "Mn9bSkhZ7FkI"
      },
      "source": [
        "## Adding Uiversal Spectrum Identifiers\n",
        "\n",
        "The Universal Spectral Identifier (USI) is a proposed standard in the process of being ratified by the Proteomics Standards Initiative (PSI) that enables the identification of a specific spectrum or PSM contained in public ProteomeXchange repositories.\n",
        "\n",
        "For more information, including the draft specification, please see http://psidev.info/usi/\n",
        "\n",
        "The resuired url can be constructed from the columns in the results files:"
      ]
    },
    {
      "cell_type": "code",
      "execution_count": null,
      "metadata": {
        "id": "VoQj6NKo7FkI"
      },
      "outputs": [],
      "source": [
        "dataset = \"PXD000561\"\n",
        "\n",
        "def get_universal_link(x):\n",
        "    file = '.'.join(x[\"spectrum_file\"].split('.')[:-1])\n",
        "    s = x[\"matched_peptide\"]\n",
        "    if str(x[\"modifications\"]) != \"nan\":\n",
        "        tmp = x[\"modifications_delta\"].split(\"|\")\n",
        "        seq = list(x[\"matched_peptide\"])\n",
        "        for i in range(0,len(tmp),2):\n",
        "            pos = int(tmp[i])\n",
        "            delta = tmp[i+1]\n",
        "            if not delta.startswith('-'):\n",
        "                delta = '%2B' + delta\n",
        "            if pos == 0: #N-TERM\n",
        "                seq.insert(pos,\"[%s]\"%delta)\n",
        "            elif pos == len(seq)+1: #C-TERM\n",
        "                seq.insert(pos-2,\"[%s]\"%delta)\n",
        "            else:\n",
        "                seq.insert(pos,\"[%s]\"%delta)\n",
        "        s = ''.join(seq)\n",
        "    link = \"http://proteomecentral.proteomexchange.org/usi/?usi=mzspec:%s:%s:scan:%i:%s/%i\"%(\n",
        "        dataset,file,x[\"scan\"],s,x[\"charge\"])\n",
        "    return f'<a target=\"_blank\" href=\"%s\">click</a>'%link"
      ]
    },
    {
      "cell_type": "code",
      "execution_count": null,
      "metadata": {
        "id": "gZxzDkob7FkJ"
      },
      "outputs": [],
      "source": [
        "ionbot[\"USI\"] = ionbot.apply(get_universal_link,axis=1)"
      ]
    },
    {
      "cell_type": "markdown",
      "metadata": {
        "id": "z0Fb6sOE7FkJ"
      },
      "source": [
        "We just added a column `USI` that contains links to the spectrum annotations:"
      ]
    },
    {
      "cell_type": "code",
      "execution_count": null,
      "metadata": {
        "id": "E8cTxGUN7FkK"
      },
      "outputs": [],
      "source": [
        "ionbot[cols_to_use + [\"USI\"]]"
      ]
    },
    {
      "cell_type": "markdown",
      "metadata": {
        "id": "5zSmxWZV7FkK"
      },
      "source": [
        "## The protein results\n",
        "\n",
        "There are two protein inference result files:\n",
        "\n",
        "- ionbot.first.proteins.csv\n",
        "- ionbot.coeluting.proteins.csv\n",
        "\n",
        "The first file contains the protein statistics infered from the first ranked matched only. The second file containst the protein statistics infered from all co-eluting matches.\n",
        "\n",
        "We will continue with the proteins infered from all co-eluting matches:"
      ]
    },
    {
      "cell_type": "code",
      "execution_count": null,
      "metadata": {
        "id": "-NWbiR5Q7FkM"
      },
      "outputs": [],
      "source": [
        "proteins = pd.read_csv(\"%s/ionbot.coeluting.proteins.csv\"%result_folder)"
      ]
    },
    {
      "cell_type": "markdown",
      "metadata": {
        "id": "iZfWee-u7FkN"
      },
      "source": [
        "These are the columns (described [here](https://ionbot.cloud/help)):"
      ]
    },
    {
      "cell_type": "code",
      "execution_count": null,
      "metadata": {
        "id": "qsy4eLJi7FkN"
      },
      "outputs": [],
      "source": [
        "for col in proteins.columns:\n",
        "    print(col)"
      ]
    },
    {
      "cell_type": "markdown",
      "metadata": {
        "id": "nOKGmU0k7FkN"
      },
      "source": [
        "The `protein_group` column is a concatenation of the proteins it contains (search for '__'):"
      ]
    },
    {
      "cell_type": "code",
      "execution_count": null,
      "metadata": {
        "id": "ynpfSL4W7FkN"
      },
      "outputs": [],
      "source": [
        "cols_to_use = [\"ionbot_match_id\",\"protein_group\",\"protein\",\"position_in_protein\"]\n",
        "proteins[cols_to_use]"
      ]
    },
    {
      "cell_type": "markdown",
      "metadata": {
        "id": "aS-q-meH7FkO"
      },
      "source": [
        "Spectra matched with two or more protein groups are indicated in the `is_shared_peptide` column:"
      ]
    },
    {
      "cell_type": "code",
      "execution_count": null,
      "metadata": {
        "id": "zM3kQwSJ7FkO"
      },
      "outputs": [],
      "source": [
        "print(proteins[\"is_shared_peptide\"].value_counts())"
      ]
    },
    {
      "cell_type": "markdown",
      "metadata": {
        "id": "sCv1H8_V7FkP"
      },
      "source": [
        "The following table shows all shared peptides:"
      ]
    },
    {
      "cell_type": "code",
      "execution_count": null,
      "metadata": {
        "id": "Rcg7amcp7FkP"
      },
      "outputs": [],
      "source": [
        "proteins[proteins[\"is_shared_peptide\"]==True][cols_to_use]"
      ]
    },
    {
      "cell_type": "markdown",
      "metadata": {
        "id": "-am38B7u7FkQ"
      },
      "source": [
        "We continue with non-shared peptide matches only:"
      ]
    },
    {
      "cell_type": "code",
      "execution_count": null,
      "metadata": {
        "id": "MvlrwoOX7FkQ"
      },
      "outputs": [],
      "source": [
        "proteins = proteins[proteins[\"is_shared_peptide\"]==False]"
      ]
    },
    {
      "cell_type": "markdown",
      "metadata": {
        "id": "vYVanqAk7FkQ"
      },
      "source": [
        "There are still rows with the same `ionbot_match_id`, these correspond to the different proteins in a protein group:"
      ]
    },
    {
      "cell_type": "code",
      "execution_count": null,
      "metadata": {
        "id": "TPeNfi6N7FkR"
      },
      "outputs": [],
      "source": [
        "print(proteins[\"ionbot_match_id\"].value_counts())"
      ]
    },
    {
      "cell_type": "markdown",
      "metadata": {
        "id": "6intFoAw7FkR"
      },
      "source": [
        "As we want to compute protein group statistics we remove duplicated ionbot_match_ids:"
      ]
    },
    {
      "cell_type": "code",
      "execution_count": null,
      "metadata": {
        "id": "-B_1JLJJ7FkS"
      },
      "outputs": [],
      "source": [
        "proteins = proteins.sort_values(\"protein\")\n",
        "proteins.drop_duplicates(\"ionbot_match_id\",inplace=True)"
      ]
    },
    {
      "cell_type": "code",
      "execution_count": null,
      "metadata": {
        "id": "hggjFVVj7FkS"
      },
      "outputs": [],
      "source": [
        "proteins[cols_to_use]"
      ]
    },
    {
      "cell_type": "markdown",
      "metadata": {
        "id": "r0XA4D1r7FkT"
      },
      "source": [
        "Now we can count the number of PSMs in each protein group and add this as a column called `#PSMs`:"
      ]
    },
    {
      "cell_type": "code",
      "execution_count": null,
      "metadata": {
        "id": "HXJEfjxP7FkT"
      },
      "outputs": [],
      "source": [
        "tmp = proteins[\"protein_group\"].value_counts().reset_index(level=0)\n",
        "tmp.columns = [\"protein_group\",\"#PSMs\"]\n",
        "proteins = proteins.merge(tmp,on=\"protein_group\",how=\"left\")"
      ]
    },
    {
      "cell_type": "code",
      "execution_count": null,
      "metadata": {
        "id": "td4eY5Fp7FkU"
      },
      "outputs": [],
      "source": [
        "proteins[cols_to_use + [\"#PSMs\"]]"
      ]
    },
    {
      "cell_type": "markdown",
      "metadata": {
        "id": "LPASjv3U7FkU"
      },
      "source": [
        "We can then count then number of protein groups with a specific number of PSMs:"
      ]
    },
    {
      "cell_type": "code",
      "execution_count": null,
      "metadata": {
        "id": "6lHV5Ona7FkU"
      },
      "outputs": [],
      "source": [
        "fig = px.pie(proteins.drop_duplicates(\"protein_group\"), names='#PSMs', title='#PSMs in protein group')\n",
        "fig.update_traces(textposition='inside')\n",
        "fig.update_layout(uniformtext_minsize=12, uniformtext_mode='hide')\n",
        "fig.show()"
      ]
    },
    {
      "cell_type": "markdown",
      "metadata": {
        "id": "idbBErf77FkV"
      },
      "source": [
        "To compute counts at the peptide level we need to merge the `proteins` data with the `ionbot` data (we do this using the `ionbot_match_id` column:"
      ]
    },
    {
      "cell_type": "code",
      "execution_count": null,
      "metadata": {
        "id": "iTVzNiz37FkV"
      },
      "outputs": [],
      "source": [
        "proteins = proteins.merge(ionbot,on=\"ionbot_match_id\",how=\"left\")"
      ]
    },
    {
      "cell_type": "code",
      "execution_count": null,
      "metadata": {
        "id": "QN4ilop27FkV"
      },
      "outputs": [],
      "source": [
        "proteins.columns"
      ]
    },
    {
      "cell_type": "markdown",
      "metadata": {
        "id": "8V5Qp8Fy7FkW"
      },
      "source": [
        "Now we can count the number of unique peptides in each protein group and add this as a column called `#peptides`:"
      ]
    },
    {
      "cell_type": "code",
      "execution_count": null,
      "metadata": {
        "id": "tIOELNv97FkW"
      },
      "outputs": [],
      "source": [
        "tmp = proteins.drop_duplicates(\"matched_peptide\")[\"protein_group\"].value_counts().reset_index(level=0)\n",
        "tmp.columns = [\"protein_group\",\"#peptides\"]\n",
        "proteins = proteins.merge(tmp,on=\"protein_group\",how=\"left\")"
      ]
    },
    {
      "cell_type": "code",
      "execution_count": null,
      "metadata": {
        "id": "SPZZxcHO7FkX"
      },
      "outputs": [],
      "source": [
        "proteins[cols_to_use + [\"#peptides\"]]"
      ]
    },
    {
      "cell_type": "markdown",
      "source": [
        "We can do the same for peptidoforms:"
      ],
      "metadata": {
        "id": "qYb2BJiz0fA0"
      }
    },
    {
      "cell_type": "code",
      "source": [
        "tmp = proteins.drop_duplicates([\"matched_peptide\",\"modifications\"])[\"protein_group\"].value_counts().reset_index(level=0)\n",
        "tmp.columns = [\"protein_group\",\"#peptidoforms\"]\n",
        "proteins = proteins.merge(tmp,on=\"protein_group\",how=\"left\")"
      ],
      "metadata": {
        "id": "5pf6L0NR46EM"
      },
      "execution_count": null,
      "outputs": []
    },
    {
      "cell_type": "markdown",
      "metadata": {
        "id": "8-s2_Ntg7FkX"
      },
      "source": [
        "We can plot `#PSMs` gainst `#peptides`:"
      ]
    },
    {
      "cell_type": "code",
      "execution_count": null,
      "metadata": {
        "id": "d2XFE_dE7FkX"
      },
      "outputs": [],
      "source": [
        "fig = px.scatter(proteins, \n",
        "                 x=\"#PSMs\", \n",
        "                 y=\"#peptides\",\n",
        "                 hover_data=[\"ionbot_match_id\",\"protein_group\"],\n",
        "                 log_x = True,\n",
        "                 log_y = True\n",
        "                )\n",
        "fig.update_traces(marker=dict(size=5))\n",
        "fig.show()"
      ]
    },
    {
      "cell_type": "markdown",
      "metadata": {
        "id": "ZnU3GLE97FkX"
      },
      "source": [
        "We can also compute protein group specific features:"
      ]
    },
    {
      "cell_type": "code",
      "execution_count": null,
      "metadata": {
        "id": "rCfyhsFb7FkY"
      },
      "outputs": [],
      "source": [
        "cols = [\"psm_score\",\"all-count\",\"all-explained\",\"by-intensity-pattern-correlation\",\"rt-pred-error\"]\n",
        "metrics = [\"min\",\"max\",\"median\"]\n",
        "\n",
        "feature_cols = []\n",
        "for col in cols:\n",
        "    for metric in metrics:\n",
        "        feature_cols.append(col+\"_\"+metric)\n",
        "        proteins[col+\"_\"+metric] = proteins.groupby('protein_group')[col].transform(metric)\n",
        "        \n",
        "feature_cols"
      ]
    },
    {
      "cell_type": "code",
      "execution_count": null,
      "metadata": {
        "id": "YlkapH2i7FkY"
      },
      "outputs": [],
      "source": [
        "proteins[cols_to_use + feature_cols]"
      ]
    },
    {
      "cell_type": "markdown",
      "metadata": {
        "id": "wvFYf9sL7FkY"
      },
      "source": [
        "From here we can further analyse the result data:"
      ]
    },
    {
      "cell_type": "code",
      "execution_count": null,
      "metadata": {
        "id": "3vyl0NHv7FkZ"
      },
      "outputs": [],
      "source": [
        "fig = px.scatter(proteins, \n",
        "                 x=\"#PSMs\", \n",
        "                 y=\"psm_score_max\",\n",
        "                 hover_data=[\"ionbot_match_id\",\"protein_group\"],\n",
        "                 log_x = True,\n",
        "                )\n",
        "fig.update_traces(marker=dict(size=5))\n",
        "fig.show()"
      ]
    },
    {
      "cell_type": "markdown",
      "metadata": {
        "id": "yI3c6jOK7FkZ"
      },
      "source": [
        "## Create a custom result file"
      ]
    },
    {
      "cell_type": "code",
      "source": [
        "cols_to_use = [ 'protein_group', 'ionbot_match_id', 'matched_peptide', \n",
        "                'modifications', 'position_in_protein', 'spectrum_title', 'scan',\n",
        "                'spectrum_file', 'precursor_mass', 'peptide_mass',\n",
        "                'observed_retention_time', 'charge', \n",
        "                'psm_score', 'rank', 'by-count',\n",
        "                'all-count', 'by-explained', 'all-explained',\n",
        "                'by-intensity-pattern-correlation','rt-pred-error', 'USI'\n",
        "              ]\n",
        "\n",
        "#write all PSMs\n",
        "to_write = proteins\n",
        "#write all peptidoforms\n",
        "#to_write = proteins.sort_values(\"psm_score\",ascending=False).drop_duplicates([\"matched_peptide\",\"modifications\"])\n",
        "#write all peptides\n",
        "#to_write = proteins.sort_values(\"psm_score\",ascending=False).drop_duplicates([\"matched_peptide\"])\n",
        "\n",
        "to_write = to_write.sort_values(\"protein_group\")\n",
        "to_write[cols_to_use]\n",
        "#to_write[cols_to_use].to_excel(\"proteins.xlsx\",index=False)"
      ],
      "metadata": {
        "id": "z74WALbcjdPZ"
      },
      "execution_count": null,
      "outputs": []
    }
  ],
  "metadata": {
    "kernelspec": {
      "display_name": "Python 3",
      "language": "python",
      "name": "python3"
    },
    "language_info": {
      "codemirror_mode": {
        "name": "ipython",
        "version": 3
      },
      "file_extension": ".py",
      "mimetype": "text/x-python",
      "name": "python",
      "nbconvert_exporter": "python",
      "pygments_lexer": "ipython3",
      "version": "3.8.3"
    },
    "colab": {
      "name": "the_ionbot_result_files.ipynb",
      "provenance": [],
      "include_colab_link": true
    }
  },
  "nbformat": 4,
  "nbformat_minor": 0
}